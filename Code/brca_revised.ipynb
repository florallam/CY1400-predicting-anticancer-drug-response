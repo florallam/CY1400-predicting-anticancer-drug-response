{
 "cells": [
  {
   "cell_type": "code",
   "execution_count": 116,
   "metadata": {},
   "outputs": [],
   "source": [
    "import pandas as pd\n",
    "import rdkit\n",
    "from rdkit.Chem import MACCSkeys \n",
    "from rdkit.Chem import AllChem \n",
    "from rdkit import Chem"
   ]
  },
  {
   "cell_type": "code",
   "execution_count": 117,
   "metadata": {},
   "outputs": [
    {
     "data": {
      "text/html": [
       "<div>\n",
       "<style scoped>\n",
       "    .dataframe tbody tr th:only-of-type {\n",
       "        vertical-align: middle;\n",
       "    }\n",
       "\n",
       "    .dataframe tbody tr th {\n",
       "        vertical-align: top;\n",
       "    }\n",
       "\n",
       "    .dataframe thead th {\n",
       "        text-align: right;\n",
       "    }\n",
       "</style>\n",
       "<table border=\"1\" class=\"dataframe\">\n",
       "  <thead>\n",
       "    <tr style=\"text-align: right;\">\n",
       "      <th></th>\n",
       "      <th>drug_id</th>\n",
       "      <th>SMILES</th>\n",
       "    </tr>\n",
       "  </thead>\n",
       "  <tbody>\n",
       "    <tr>\n",
       "      <th>0</th>\n",
       "      <td>1559</td>\n",
       "      <td>CCNC(=O)C1=C(C(=C2C=C(C(=CC2=O)O)C(C)C)ON1)C3=...</td>\n",
       "    </tr>\n",
       "    <tr>\n",
       "      <th>1</th>\n",
       "      <td>1058</td>\n",
       "      <td>CS(=O)(=O)N1CCN(CC1)CC2=CC3=C(S2)C(=NC(=N3)C4=...</td>\n",
       "    </tr>\n",
       "    <tr>\n",
       "      <th>2</th>\n",
       "      <td>1088</td>\n",
       "      <td>CCC1=C2CN3C(=CC4=C(C3=O)COC(=O)C4(CC)O)C2=NC5=...</td>\n",
       "    </tr>\n",
       "    <tr>\n",
       "      <th>3</th>\n",
       "      <td>1549</td>\n",
       "      <td>CNC(=O)CN1CCC(CC1)OC2=C(C=C3C(=C2)C(=NC=N3)NC4...</td>\n",
       "    </tr>\n",
       "    <tr>\n",
       "      <th>4</th>\n",
       "      <td>1073</td>\n",
       "      <td>C1=C(C(=O)NC(=O)N1)F</td>\n",
       "    </tr>\n",
       "    <tr>\n",
       "      <th>...</th>\n",
       "      <td>...</td>\n",
       "      <td>...</td>\n",
       "    </tr>\n",
       "    <tr>\n",
       "      <th>164</th>\n",
       "      <td>1629</td>\n",
       "      <td>CC1=CN=C(N=C1NCC2=CC=C(C=C2)N3C=CN=N3)C4=CC=CC...</td>\n",
       "    </tr>\n",
       "    <tr>\n",
       "      <th>165</th>\n",
       "      <td>1799</td>\n",
       "      <td>C=CC(=O)N1CCCC(C1)N2C3=NC=NC(=C3C(=N2)C4=CC=C(...</td>\n",
       "    </tr>\n",
       "    <tr>\n",
       "      <th>166</th>\n",
       "      <td>1835</td>\n",
       "      <td>CC(=CC(=O)OC1CC2=CC(CC3(C(O3)C4C1C(=C)C(=O)O4)...</td>\n",
       "    </tr>\n",
       "    <tr>\n",
       "      <th>167</th>\n",
       "      <td>1908</td>\n",
       "      <td>CC(C)NC1=NC=C(C(=C1)C2=CNC(=C2)C(=O)NC(CO)C3=C...</td>\n",
       "    </tr>\n",
       "    <tr>\n",
       "      <th>168</th>\n",
       "      <td>1915</td>\n",
       "      <td>CC1CN(CCN1C(=O)OC2=C(C=C3C(=C2)C(=NC=N3)NC4=C(...</td>\n",
       "    </tr>\n",
       "  </tbody>\n",
       "</table>\n",
       "<p>169 rows × 2 columns</p>\n",
       "</div>"
      ],
      "text/plain": [
       "     drug_id                                             SMILES\n",
       "0       1559  CCNC(=O)C1=C(C(=C2C=C(C(=CC2=O)O)C(C)C)ON1)C3=...\n",
       "1       1058  CS(=O)(=O)N1CCN(CC1)CC2=CC3=C(S2)C(=NC(=N3)C4=...\n",
       "2       1088  CCC1=C2CN3C(=CC4=C(C3=O)COC(=O)C4(CC)O)C2=NC5=...\n",
       "3       1549  CNC(=O)CN1CCC(CC1)OC2=C(C=C3C(=C2)C(=NC=N3)NC4...\n",
       "4       1073                               C1=C(C(=O)NC(=O)N1)F\n",
       "..       ...                                                ...\n",
       "164     1629  CC1=CN=C(N=C1NCC2=CC=C(C=C2)N3C=CN=N3)C4=CC=CC...\n",
       "165     1799  C=CC(=O)N1CCCC(C1)N2C3=NC=NC(=C3C(=N2)C4=CC=C(...\n",
       "166     1835  CC(=CC(=O)OC1CC2=CC(CC3(C(O3)C4C1C(=C)C(=O)O4)...\n",
       "167     1908  CC(C)NC1=NC=C(C(=C1)C2=CNC(=C2)C(=O)NC(CO)C3=C...\n",
       "168     1915  CC1CN(CCN1C(=O)OC2=C(C=C3C(=C2)C(=NC=N3)NC4=C(...\n",
       "\n",
       "[169 rows x 2 columns]"
      ]
     },
     "execution_count": 117,
     "metadata": {},
     "output_type": "execute_result"
    }
   ],
   "source": [
    "file=pd.read_csv(\"/Users/floralam/Downloads/drugs_smile.csv\",sep=\"\\t\")\n",
    "file"
   ]
  },
  {
   "cell_type": "code",
   "execution_count": 118,
   "metadata": {},
   "outputs": [],
   "source": [
    "mol = file.SMILES.apply(Chem.MolFromSmiles)"
   ]
  },
  {
   "cell_type": "markdown",
   "metadata": {},
   "source": [
    "# Data preprocessing "
   ]
  },
  {
   "cell_type": "markdown",
   "metadata": {},
   "source": [
    "### Topological Fingerprints"
   ]
  },
  {
   "cell_type": "markdown",
   "metadata": {},
   "source": [
    "Using rdkit package to convert the smiles into topological fingerprints"
   ]
  },
  {
   "cell_type": "code",
   "execution_count": 119,
   "metadata": {},
   "outputs": [
    {
     "data": {
      "text/plain": [
       "'0 1 1 0 1 0 0 1 1 1 1 1 1 1 0 0 1 0 1 0 1 1 0 0 1 0 1 1 1 0 0 0 1 1 0 0 0 1 1 1 0 1 1 0 1 1 0 0 0 1 1 1 1 1 1 1 1 1 1 1 0 1 0 1 0 1 1 0 1 0 1 1 1 1 1 1 1 0 0 0 1 0 1 1 1 0 0 1 1 1 0 0 1 1 0 1 1 1 1 1 0 0 0 1 0 1 0 1 1 1 1 0 1 1 1 1 1 0 0 1 1 1 1 1 1 0 1 1 0 0 0 1 0 1 1 1 1 1 1 1 0 0 0 0 0 0 1 1 0 1 1 1 0 0 1 0 1 1 1 0 1 1 1 1 1 0 1 1 0 1 1 1 0 1 1 1 0 0 1 1 1 1 1 1 0 0 1 0 1 1 1 0 1 1 1 1 0 1 0 1 0 0 1 1 1 1 0 1 1 1 0 1 1 1 0 1 1 1 1 1 0 0 0 0 0 1 0 0 0 1 1 1 1 0 1 1 1 1 1 1 0 1 1 1 1 1 1 0 0 1 0 0 0 1 1 0 1 1 1 1 1 1 1 0 0 0 1 0 0 1 0 1 1 1 0 1 0 1 0 0 0 1 1 1 0 0 0 1 1 0 0 0 1 0 1 1 0 1 0 0 1 1 0 1 1 1 0 1 1 1 0 1 0 1 1 1 0 0 1 1 0 1 1 1 1 0 0 1 0 1 1 0 0 0 1 1 1 1 1 1 1 0 1 0 1 1 0 1 0 1 0 1 1 0 1 1 0 1 1 1 1 1 1 0 0 1 0 0 0 1 1 1 1 1 1 0 1 1 0 1 0 0 1 0 0 0 0 1 1 1 1 1 0 0 1 1 0 1 1 0 0 1 0 0 1 1 1 0 1 1 1 1 1 1 0 0 0 0 0 0 1 1 0 1 0 0 1 1 0 1 0 1 0 1 1 0 1 1 0 1 1 1 0 0 1 1 0 1 1 0 1 1 0 0 1 0 1 0 0 1 0 1 1 0 1 1 0 1 1 0 0 0 1 1 1 1 0 1 1 0 0 0 0 0 0 1 1 1 0 1 1 1 1 0 0 1 0 0 1 1 1 1 0 0 1 1 1 0 1 1 1 1 0 1 1 0 1 0 0 1 1 0 0 1 0 1 1 1 1 0 0 0 1 1 1 1 1 1 1 1 1 0 0 1 1 1 0 0 1 0 0 1 1 1 1 0 0 1 1 1 1 1 1 0 1 0 1 1 1 1 1 1 1 1 0 1 1 0 0 1 0 0 1 1 0 1 1 1 0 0 0 0 1 1 1 1 0 1 1 1 1 1 1 1 1 1 1 1 0 1 1 1 1 1 1 1 1 1 1 1 0 0 1 0 1 1 1 0 1 1 0 0 1 0 1 1 1 0 1 0 1 0 1 1 1 1 1 1 1 1 0 1 1 0 1 0 1 1 1 1 0 1 0 0 0 1 0 0 1 1 1 0 1 1 1 1 0 0 0 1 0 1 1 1 1 1 1 1 0 1 1 0 0 1 1 0 1 1 1 1 1 0 1 1 1 1 1 1 1 1 1 1 0 0 1 1 0 0 1 0 1 0 1 0 1 1 0 0 0 1 0 0 0 0 1 1 1 1 1 1 0 1 0 0 1 0 1 0 1 1 1 0 0 1 1 1 1 1 0 1 1 1 0 1 1 0 1 1 1 1 1 1 1 0 0 0 1 0 1 1 1 1 0 1 0 0 1 1 1 0 1 1 1 1 0 0 1 1 0 0 1 0 1 1 1 1 0 0 1 0 0 1 1 0 0 1 1 1 1 1 1 1 0 0 1 0 1 0 0 1 1 0 0 1 1 0 1 1 1 1 1 1 1 0 0 0 0 0 1 1 0 1 0 1 1 1 1 0 1 1 1 1 1 1 1 0 0 0 1 0 1 0 0 0 1 1 1 0 1 0 1 0 0 1 1 1 1 1 1 0 0 0 1 0 1 0 1 1 1 1 1 0 1 0 1 0 0 0 0 1 1 1 1 1 0 1 1 0 0 1 0 1 1 0 1 0 1 0 1 1 1 1 0 1 0 1 1 0 1 0 1 1 1 1 0 1 1 1 1 1 1 0 1 1 0 0 1 1 1 0 1 1 0 1 1 0 0 1 1 1 1 1 1 1 0 1 1 1 0 1 0 0 1 0 1 0 1 1 0 1 1 1 1 1 1 1 0 1 0 1 0 1 0 0 1 0 1 1 0 0 0 0 0 1 0 0 0 1 1 0 1 0 0 0 1 1 1 0 1 0 0 1 1 1 1 1 1 0 0 1 1 1 0 1 1 1 1 1 0 1 1 1 1 1 1 0 1 1 1 1 1 0 0 1 1 1 0 0 1 0 1 1 1 1 1 1 1 1 1 0 1 0 0 0 1 1 1 1 1 1 1 1 1 1 0 0 1 1 0 1 1 0 1 1 1 1 1 0 0 0 1 1 1 1 1 0 0 1 1 1 0 0 0 1 1 0 0 0 1 1 1 0 0 0 1 0 0 1 1 1 1 1 1 1 1 1 1 1 0 1 0 1 0 1 1 0 1 1 1 0 1 1 1 0 1 1 1 0 0 0 1 0 1 1 1 1 1 1 1 1 0 1 1 1 1 1 1 0 1 1 0 0 1 1 1 1 1 1 1 1 1 0 1 1 1 1 1 1 1 0 0 1 1 0 0 1 0 1 1 1 0 0 0 1 1 1 1 0 1 1 1 1 0 1 1 0 1 1 0 1 0 1 1 1 1 1 1 0 1 0 1 1 0 1 1 1 1 0 1 1 0 1 1 0 1 0 1 1 1 0 1 1 1 1 0 1 0 1 0 0 1 1 0 0 1 1 0 1 1 0 0 1 1 0 0 1 1 1 1 1 1 0 1 0 0 1 1 1 1 1 1 0 1 1 1 1 0 0 1 1 1 0 0 1 0 1 1 0 0 0 0 1 0 1 1 1 1 1 1 1 1 1 1 1 1 0 0 1 1 1 1 1 0 1 1 0 0 1 0 0 0 1 1 1 0 1 1 1 0 1 0 0 0 0 0 1 1 1 0 0 0 1 1 0 1 1 1 0 1 1 1 0 0 0 0 0 0 1 1 1 0 0 0 0 1 1 1 1 1 1 1 1 1 0 1 0 1 1 1 1 0 0 0 0 1 1 1 0 0 1 1 1 1 0 1 0 1 1 0 0 1 1 1 1 1 1 1 1 1 1 1 0 0 0 1 1 1 1 1 1 0 0 1 1 1 1 0 1 1 1 1 1 1 1 1 1 0 1 0 1 0 1 0 1 0 0 0 0 1 1 1 0 1 1 1 1 1 1 1 1 1 1 1 0 1 1 1 0 1 1 0 1 1 1 1 0 1 0 1 1 1 0 0 1 1 0 0 1 0 0 1 0 0 1 0 1 0 1 1 1 0 1 0 1 1 1 1 1 1 1 1 1 0 1 0 0 1 1 1 1 1 1 1 1 0 0 1 1 0 1 1 1 1 0 1 1 1 1 1 1 1 1 1 1 0 1 1 1 1 1 0 1 0 1 1 0 0 1 0 0 0 1 1 0 0 0 1 0 1 1 1 0 1 0 1 0 0 1 1 1 1 1 1 0 1 0 1 1 0 1 1 1 1 1 1 1 0 1 1 1 1 1 1 0 1 1 0 1 1 0 1 0 1 1 0 0 1 1 1 0 0 1 1 0 1 1 1 0 0 1 0 1 1 1 0 0 1 1 0 1 1 1 1 1 1 1 1 0 1 1 1 1 0 0 1 1 0 1 0 1 1 1 0 1 0 0 0 1 1 1 0 1 0 1 0 0 0 1 0 1 0 1 1 1 1 1 0 1 1 1 0 0 1 1 0 0 0 0 1 0 1 1 0 1 1 0 1 1 0 1 1 1 1 0 1 1 0 0 0 1 1 1 0 1 0 0 0 1 1 1 0 1 1 0 1 0 1 1 0 0 0 1 1 1 1 1 0 0 0 1 1 0 1 1 1 1 1 1 1 1 1 1 1 0 1 1 1 1 1 1 1 1 0 1 1 0 1 0 1 0 1 1 1 1 1 0 1 1 1 0 1 1 1 1 1 1 1 0 1 1 0 0 1 1 0 0 0 1 1 1 0 1 1 1 1 0 1 0 0 1 0 0 0 1 0 1 1 1 1 1 0 1 1 1 1 1 1 0 0 0 0 1 1 0 0 1 0 0 1 1 0 0 0 1 0 0 1 1 0 0 1 1 0 0 1 0 0 1 0 1 0 1 0 0 0 1 0 1 0 0 1 0 0 0 0 1 1 1 0 1 0 1 1 0 1 1 1 0 1 1 1 1 0 1 0 0 1 1 1 1 1 0 1 1 1 1 1 1 1 1 1 0 0 1 0 0 0 0 1 1 0 1 1 0 1 1 1 1 0 0 1 1 1 1 1 0 1 1 1 1 1 1 1 0 0 1 1 0 0 1 0 1 1 1 1 1 0 1 1 1 1 0 0 0 1 1 0 1 1 0 1 1 0 0 1 0 0 0 0 1 1 1 1 1 0 0 1 1 1 0 1 0 0 0 0 1 1 1'"
      ]
     },
     "execution_count": 119,
     "metadata": {},
     "output_type": "execute_result"
    }
   ],
   "source": [
    "topo_fp= mol.apply(Chem.RDKFingerprint)\n",
    "topotopo=topo_fp.apply(lambda x: x.ToBitString())\n",
    "file['topo']=topotopo.apply(lambda x:\" \".join(x)) \n",
    "#It wasn't exactly necessary to add space, I wanted to be able to split the string below \n",
    "#(at the preprocessing of input data section)\n",
    "file['topo'][0]"
   ]
  },
  {
   "cell_type": "markdown",
   "metadata": {},
   "source": [
    "### Morgan Fingerprint"
   ]
  },
  {
   "cell_type": "markdown",
   "metadata": {},
   "source": [
    "Using rdkit package to convert the smiles into ecfp/morgan fingerprints"
   ]
  },
  {
   "cell_type": "code",
   "execution_count": 120,
   "metadata": {},
   "outputs": [
    {
     "data": {
      "text/html": [
       "<div>\n",
       "<style scoped>\n",
       "    .dataframe tbody tr th:only-of-type {\n",
       "        vertical-align: middle;\n",
       "    }\n",
       "\n",
       "    .dataframe tbody tr th {\n",
       "        vertical-align: top;\n",
       "    }\n",
       "\n",
       "    .dataframe thead th {\n",
       "        text-align: right;\n",
       "    }\n",
       "</style>\n",
       "<table border=\"1\" class=\"dataframe\">\n",
       "  <thead>\n",
       "    <tr style=\"text-align: right;\">\n",
       "      <th></th>\n",
       "      <th>drug_id</th>\n",
       "      <th>SMILES</th>\n",
       "      <th>topo</th>\n",
       "      <th>circular</th>\n",
       "    </tr>\n",
       "  </thead>\n",
       "  <tbody>\n",
       "    <tr>\n",
       "      <th>0</th>\n",
       "      <td>1559</td>\n",
       "      <td>CCNC(=O)C1=C(C(=C2C=C(C(=CC2=O)O)C(C)C)ON1)C3=...</td>\n",
       "      <td>0 1 1 0 1 0 0 1 1 1 1 1 1 1 0 0 1 0 1 0 1 1 0 ...</td>\n",
       "      <td>0 1 1 0 0 0 0 0 0 0 0 0 0 0 0 0 0 0 0 0 0 0 0 ...</td>\n",
       "    </tr>\n",
       "    <tr>\n",
       "      <th>1</th>\n",
       "      <td>1058</td>\n",
       "      <td>CS(=O)(=O)N1CCN(CC1)CC2=CC3=C(S2)C(=NC(=N3)C4=...</td>\n",
       "      <td>1 1 1 1 0 1 1 1 1 1 1 0 0 0 0 1 1 1 1 1 1 0 0 ...</td>\n",
       "      <td>0 0 0 0 0 0 0 0 0 0 0 0 0 0 0 1 0 0 0 0 0 0 0 ...</td>\n",
       "    </tr>\n",
       "    <tr>\n",
       "      <th>2</th>\n",
       "      <td>1088</td>\n",
       "      <td>CCC1=C2CN3C(=CC4=C(C3=O)COC(=O)C4(CC)O)C2=NC5=...</td>\n",
       "      <td>1 1 1 1 0 1 1 1 1 0 1 1 1 0 1 0 1 1 1 1 1 1 1 ...</td>\n",
       "      <td>0 0 1 0 1 0 0 0 0 0 0 0 0 0 0 0 0 0 0 0 0 0 0 ...</td>\n",
       "    </tr>\n",
       "    <tr>\n",
       "      <th>3</th>\n",
       "      <td>1549</td>\n",
       "      <td>CNC(=O)CN1CCC(CC1)OC2=C(C=C3C(=C2)C(=NC=N3)NC4...</td>\n",
       "      <td>1 0 0 0 0 1 1 1 0 1 1 0 1 0 1 0 0 0 1 0 1 0 0 ...</td>\n",
       "      <td>0 0 0 0 0 0 0 0 0 0 0 0 0 0 0 1 0 0 0 0 0 0 0 ...</td>\n",
       "    </tr>\n",
       "    <tr>\n",
       "      <th>4</th>\n",
       "      <td>1073</td>\n",
       "      <td>C1=C(C(=O)NC(=O)N1)F</td>\n",
       "      <td>1 0 0 0 0 1 0 1 0 0 0 0 0 0 0 0 0 0 0 0 0 0 0 ...</td>\n",
       "      <td>0 0 0 0 0 0 0 0 0 0 0 0 0 0 0 0 0 0 0 0 0 0 0 ...</td>\n",
       "    </tr>\n",
       "    <tr>\n",
       "      <th>...</th>\n",
       "      <td>...</td>\n",
       "      <td>...</td>\n",
       "      <td>...</td>\n",
       "      <td>...</td>\n",
       "    </tr>\n",
       "    <tr>\n",
       "      <th>164</th>\n",
       "      <td>1629</td>\n",
       "      <td>CC1=CN=C(N=C1NCC2=CC=C(C=C2)N3C=CN=N3)C4=CC=CC...</td>\n",
       "      <td>1 1 1 0 0 1 0 1 0 0 1 0 0 0 0 0 0 1 1 1 1 0 1 ...</td>\n",
       "      <td>0 1 0 0 0 0 0 0 0 0 0 0 0 0 0 0 0 0 0 0 0 0 0 ...</td>\n",
       "    </tr>\n",
       "    <tr>\n",
       "      <th>165</th>\n",
       "      <td>1799</td>\n",
       "      <td>C=CC(=O)N1CCCC(C1)N2C3=NC=NC(=C3C(=N2)C4=CC=C(...</td>\n",
       "      <td>1 1 1 1 1 1 1 0 1 0 1 1 0 1 1 1 0 0 1 1 0 0 1 ...</td>\n",
       "      <td>0 0 0 0 1 0 0 0 0 0 0 0 0 0 0 0 0 0 0 0 0 0 0 ...</td>\n",
       "    </tr>\n",
       "    <tr>\n",
       "      <th>166</th>\n",
       "      <td>1835</td>\n",
       "      <td>CC(=CC(=O)OC1CC2=CC(CC3(C(O3)C4C1C(=C)C(=O)O4)...</td>\n",
       "      <td>1 0 1 0 0 1 0 0 1 0 1 1 1 0 1 1 0 0 0 1 1 1 1 ...</td>\n",
       "      <td>0 0 0 0 0 0 0 0 0 0 0 0 0 0 1 0 0 0 0 0 0 0 0 ...</td>\n",
       "    </tr>\n",
       "    <tr>\n",
       "      <th>167</th>\n",
       "      <td>1908</td>\n",
       "      <td>CC(C)NC1=NC=C(C(=C1)C2=CNC(=C2)C(=O)NC(CO)C3=C...</td>\n",
       "      <td>1 1 1 0 0 1 0 0 0 0 1 1 0 1 0 0 1 0 1 1 1 1 1 ...</td>\n",
       "      <td>0 1 0 0 1 0 0 0 0 0 0 0 0 0 0 1 0 0 0 0 0 0 0 ...</td>\n",
       "    </tr>\n",
       "    <tr>\n",
       "      <th>168</th>\n",
       "      <td>1915</td>\n",
       "      <td>CC1CN(CCN1C(=O)OC2=C(C=C3C(=C2)C(=NC=N3)NC4=C(...</td>\n",
       "      <td>1 1 0 0 0 1 1 1 1 1 1 0 1 0 1 0 0 0 1 0 1 0 0 ...</td>\n",
       "      <td>0 0 0 0 0 0 0 0 0 0 0 0 0 0 1 1 0 0 0 0 0 0 0 ...</td>\n",
       "    </tr>\n",
       "  </tbody>\n",
       "</table>\n",
       "<p>169 rows × 4 columns</p>\n",
       "</div>"
      ],
      "text/plain": [
       "     drug_id                                             SMILES  \\\n",
       "0       1559  CCNC(=O)C1=C(C(=C2C=C(C(=CC2=O)O)C(C)C)ON1)C3=...   \n",
       "1       1058  CS(=O)(=O)N1CCN(CC1)CC2=CC3=C(S2)C(=NC(=N3)C4=...   \n",
       "2       1088  CCC1=C2CN3C(=CC4=C(C3=O)COC(=O)C4(CC)O)C2=NC5=...   \n",
       "3       1549  CNC(=O)CN1CCC(CC1)OC2=C(C=C3C(=C2)C(=NC=N3)NC4...   \n",
       "4       1073                               C1=C(C(=O)NC(=O)N1)F   \n",
       "..       ...                                                ...   \n",
       "164     1629  CC1=CN=C(N=C1NCC2=CC=C(C=C2)N3C=CN=N3)C4=CC=CC...   \n",
       "165     1799  C=CC(=O)N1CCCC(C1)N2C3=NC=NC(=C3C(=N2)C4=CC=C(...   \n",
       "166     1835  CC(=CC(=O)OC1CC2=CC(CC3(C(O3)C4C1C(=C)C(=O)O4)...   \n",
       "167     1908  CC(C)NC1=NC=C(C(=C1)C2=CNC(=C2)C(=O)NC(CO)C3=C...   \n",
       "168     1915  CC1CN(CCN1C(=O)OC2=C(C=C3C(=C2)C(=NC=N3)NC4=C(...   \n",
       "\n",
       "                                                  topo  \\\n",
       "0    0 1 1 0 1 0 0 1 1 1 1 1 1 1 0 0 1 0 1 0 1 1 0 ...   \n",
       "1    1 1 1 1 0 1 1 1 1 1 1 0 0 0 0 1 1 1 1 1 1 0 0 ...   \n",
       "2    1 1 1 1 0 1 1 1 1 0 1 1 1 0 1 0 1 1 1 1 1 1 1 ...   \n",
       "3    1 0 0 0 0 1 1 1 0 1 1 0 1 0 1 0 0 0 1 0 1 0 0 ...   \n",
       "4    1 0 0 0 0 1 0 1 0 0 0 0 0 0 0 0 0 0 0 0 0 0 0 ...   \n",
       "..                                                 ...   \n",
       "164  1 1 1 0 0 1 0 1 0 0 1 0 0 0 0 0 0 1 1 1 1 0 1 ...   \n",
       "165  1 1 1 1 1 1 1 0 1 0 1 1 0 1 1 1 0 0 1 1 0 0 1 ...   \n",
       "166  1 0 1 0 0 1 0 0 1 0 1 1 1 0 1 1 0 0 0 1 1 1 1 ...   \n",
       "167  1 1 1 0 0 1 0 0 0 0 1 1 0 1 0 0 1 0 1 1 1 1 1 ...   \n",
       "168  1 1 0 0 0 1 1 1 1 1 1 0 1 0 1 0 0 0 1 0 1 0 0 ...   \n",
       "\n",
       "                                              circular  \n",
       "0    0 1 1 0 0 0 0 0 0 0 0 0 0 0 0 0 0 0 0 0 0 0 0 ...  \n",
       "1    0 0 0 0 0 0 0 0 0 0 0 0 0 0 0 1 0 0 0 0 0 0 0 ...  \n",
       "2    0 0 1 0 1 0 0 0 0 0 0 0 0 0 0 0 0 0 0 0 0 0 0 ...  \n",
       "3    0 0 0 0 0 0 0 0 0 0 0 0 0 0 0 1 0 0 0 0 0 0 0 ...  \n",
       "4    0 0 0 0 0 0 0 0 0 0 0 0 0 0 0 0 0 0 0 0 0 0 0 ...  \n",
       "..                                                 ...  \n",
       "164  0 1 0 0 0 0 0 0 0 0 0 0 0 0 0 0 0 0 0 0 0 0 0 ...  \n",
       "165  0 0 0 0 1 0 0 0 0 0 0 0 0 0 0 0 0 0 0 0 0 0 0 ...  \n",
       "166  0 0 0 0 0 0 0 0 0 0 0 0 0 0 1 0 0 0 0 0 0 0 0 ...  \n",
       "167  0 1 0 0 1 0 0 0 0 0 0 0 0 0 0 1 0 0 0 0 0 0 0 ...  \n",
       "168  0 0 0 0 0 0 0 0 0 0 0 0 0 0 1 1 0 0 0 0 0 0 0 ...  \n",
       "\n",
       "[169 rows x 4 columns]"
      ]
     },
     "execution_count": 120,
     "metadata": {},
     "output_type": "execute_result"
    }
   ],
   "source": [
    "morgan=mol.apply(lambda x: AllChem.GetMorganFingerprintAsBitVect(x,2,nBits=1024))\n",
    "morganmorgan= morgan.apply(lambda x: x.ToBitString())\n",
    "file[\"circular\"]=morganmorgan.apply(lambda x: \" \".join(x))\n",
    "file"
   ]
  },
  {
   "cell_type": "code",
   "execution_count": 121,
   "metadata": {},
   "outputs": [],
   "source": [
    "#changing drug_id to ascending order\n",
    "file.sort_values([\"drug_id\"], axis=0,\\\n",
    "                 ascending=True, inplace=True)"
   ]
  },
  {
   "cell_type": "code",
   "execution_count": 122,
   "metadata": {},
   "outputs": [
    {
     "data": {
      "text/html": [
       "<div>\n",
       "<style scoped>\n",
       "    .dataframe tbody tr th:only-of-type {\n",
       "        vertical-align: middle;\n",
       "    }\n",
       "\n",
       "    .dataframe tbody tr th {\n",
       "        vertical-align: top;\n",
       "    }\n",
       "\n",
       "    .dataframe thead th {\n",
       "        text-align: right;\n",
       "    }\n",
       "</style>\n",
       "<table border=\"1\" class=\"dataframe\">\n",
       "  <thead>\n",
       "    <tr style=\"text-align: right;\">\n",
       "      <th></th>\n",
       "      <th>drug_id</th>\n",
       "      <th>SMILES</th>\n",
       "      <th>topo</th>\n",
       "      <th>circular</th>\n",
       "    </tr>\n",
       "  </thead>\n",
       "  <tbody>\n",
       "    <tr>\n",
       "      <th>154</th>\n",
       "      <td>1003</td>\n",
       "      <td>CCC1(C2=C(COC1=O)C(=O)N3CC4=CC5=CC=CC=C5N=C4C3...</td>\n",
       "      <td>1 1 1 0 0 1 1 1 1 0 1 1 1 0 0 0 1 1 1 1 0 1 1 ...</td>\n",
       "      <td>0 0 0 0 0 0 0 0 0 0 0 0 0 0 0 0 0 0 0 0 0 0 0 ...</td>\n",
       "    </tr>\n",
       "    <tr>\n",
       "      <th>70</th>\n",
       "      <td>1004</td>\n",
       "      <td>CCC1(CC2CC(C3=C(CCN(C2)C1)C4=CC=CC=C4N3)(C5=C(...</td>\n",
       "      <td>1 1 1 1 1 1 1 1 1 1 1 1 1 1 1 1 1 1 1 1 1 1 1 ...</td>\n",
       "      <td>1 0 0 0 0 0 0 0 1 0 0 1 0 0 0 0 0 0 0 0 1 0 0 ...</td>\n",
       "    </tr>\n",
       "    <tr>\n",
       "      <th>68</th>\n",
       "      <td>1005</td>\n",
       "      <td>N.N.[Cl-].[Cl-].[Pt+2]</td>\n",
       "      <td>0 0 0 0 0 0 0 0 0 0 0 0 0 0 0 0 0 0 0 0 0 0 0 ...</td>\n",
       "      <td>0 0 0 0 0 0 0 0 0 0 0 0 0 0 0 0 0 0 0 0 0 0 0 ...</td>\n",
       "    </tr>\n",
       "    <tr>\n",
       "      <th>71</th>\n",
       "      <td>1006</td>\n",
       "      <td>C1=CN(C(=O)N=C1N)C2C(C(C(O2)CO)O)O</td>\n",
       "      <td>1 0 1 0 1 1 1 0 1 1 1 0 1 1 1 0 1 0 1 0 1 1 1 ...</td>\n",
       "      <td>0 0 0 0 0 0 0 0 0 0 0 0 0 0 0 0 0 0 0 0 0 0 0 ...</td>\n",
       "    </tr>\n",
       "    <tr>\n",
       "      <th>61</th>\n",
       "      <td>1007</td>\n",
       "      <td>CC1=C2C(C(=O)C3(C(CC4C(C3C(C(C2(C)C)(CC1OC(=O)...</td>\n",
       "      <td>1 1 1 1 0 1 1 0 1 1 1 1 1 0 1 1 0 0 1 1 1 0 1 ...</td>\n",
       "      <td>0 1 0 0 0 0 0 0 0 0 0 1 0 0 0 0 1 0 0 0 0 0 0 ...</td>\n",
       "    </tr>\n",
       "    <tr>\n",
       "      <th>...</th>\n",
       "      <td>...</td>\n",
       "      <td>...</td>\n",
       "      <td>...</td>\n",
       "      <td>...</td>\n",
       "    </tr>\n",
       "    <tr>\n",
       "      <th>113</th>\n",
       "      <td>2110</td>\n",
       "      <td>C1CC(C1)NC2=NC=CC(=C2)C(=O)NCC(CN3CCC4=CC=CC=C...</td>\n",
       "      <td>1 1 1 0 1 1 0 1 1 0 1 1 0 0 0 1 1 0 0 0 0 0 0 ...</td>\n",
       "      <td>0 1 0 0 1 0 0 0 0 0 0 0 0 0 0 0 0 0 0 0 0 0 0 ...</td>\n",
       "    </tr>\n",
       "    <tr>\n",
       "      <th>114</th>\n",
       "      <td>2111</td>\n",
       "      <td>CS(=O)(=O)C1=CC=C(C=C1)C2=CN=C(C(=N2)C(=O)NC3=...</td>\n",
       "      <td>1 1 0 1 0 1 0 0 0 0 1 1 0 1 0 1 0 0 0 1 0 1 0 ...</td>\n",
       "      <td>0 0 0 0 0 0 0 0 0 0 0 0 0 0 0 0 0 0 0 0 0 0 0 ...</td>\n",
       "    </tr>\n",
       "    <tr>\n",
       "      <th>87</th>\n",
       "      <td>2169</td>\n",
       "      <td>CC1=CN2C(=O)C=C(N=C2C(=C1)C(C)NC3=CC=CC=C3C(=O...</td>\n",
       "      <td>1 1 0 1 1 1 0 0 0 1 1 1 0 1 0 1 1 1 1 0 0 1 0 ...</td>\n",
       "      <td>0 1 0 0 0 0 0 0 0 0 0 0 0 0 0 0 0 0 0 0 0 0 0 ...</td>\n",
       "    </tr>\n",
       "    <tr>\n",
       "      <th>107</th>\n",
       "      <td>2171</td>\n",
       "      <td>CC1(CCCN1C2=NN3C=CC=C3C(=N2)NC4=NNC(=C4)C5CC5)...</td>\n",
       "      <td>1 1 1 1 0 1 0 1 1 0 0 1 0 1 1 0 1 0 1 1 1 1 0 ...</td>\n",
       "      <td>0 0 0 1 1 0 0 0 0 0 0 0 0 0 0 0 0 0 0 0 0 0 0 ...</td>\n",
       "    </tr>\n",
       "    <tr>\n",
       "      <th>134</th>\n",
       "      <td>2172</td>\n",
       "      <td>CC1=C(SC2=C1C(=NC(C3=NN=C(N32)C)CC(=O)OC(C)(C)...</td>\n",
       "      <td>1 1 1 1 0 1 0 0 1 0 1 1 1 1 0 1 1 1 1 1 1 0 0 ...</td>\n",
       "      <td>0 0 0 0 0 0 0 0 0 0 0 0 0 0 0 0 1 0 0 0 0 0 0 ...</td>\n",
       "    </tr>\n",
       "  </tbody>\n",
       "</table>\n",
       "<p>169 rows × 4 columns</p>\n",
       "</div>"
      ],
      "text/plain": [
       "     drug_id                                             SMILES  \\\n",
       "154     1003  CCC1(C2=C(COC1=O)C(=O)N3CC4=CC5=CC=CC=C5N=C4C3...   \n",
       "70      1004  CCC1(CC2CC(C3=C(CCN(C2)C1)C4=CC=CC=C4N3)(C5=C(...   \n",
       "68      1005                             N.N.[Cl-].[Cl-].[Pt+2]   \n",
       "71      1006                 C1=CN(C(=O)N=C1N)C2C(C(C(O2)CO)O)O   \n",
       "61      1007  CC1=C2C(C(=O)C3(C(CC4C(C3C(C(C2(C)C)(CC1OC(=O)...   \n",
       "..       ...                                                ...   \n",
       "113     2110  C1CC(C1)NC2=NC=CC(=C2)C(=O)NCC(CN3CCC4=CC=CC=C...   \n",
       "114     2111  CS(=O)(=O)C1=CC=C(C=C1)C2=CN=C(C(=N2)C(=O)NC3=...   \n",
       "87      2169  CC1=CN2C(=O)C=C(N=C2C(=C1)C(C)NC3=CC=CC=C3C(=O...   \n",
       "107     2171  CC1(CCCN1C2=NN3C=CC=C3C(=N2)NC4=NNC(=C4)C5CC5)...   \n",
       "134     2172  CC1=C(SC2=C1C(=NC(C3=NN=C(N32)C)CC(=O)OC(C)(C)...   \n",
       "\n",
       "                                                  topo  \\\n",
       "154  1 1 1 0 0 1 1 1 1 0 1 1 1 0 0 0 1 1 1 1 0 1 1 ...   \n",
       "70   1 1 1 1 1 1 1 1 1 1 1 1 1 1 1 1 1 1 1 1 1 1 1 ...   \n",
       "68   0 0 0 0 0 0 0 0 0 0 0 0 0 0 0 0 0 0 0 0 0 0 0 ...   \n",
       "71   1 0 1 0 1 1 1 0 1 1 1 0 1 1 1 0 1 0 1 0 1 1 1 ...   \n",
       "61   1 1 1 1 0 1 1 0 1 1 1 1 1 0 1 1 0 0 1 1 1 0 1 ...   \n",
       "..                                                 ...   \n",
       "113  1 1 1 0 1 1 0 1 1 0 1 1 0 0 0 1 1 0 0 0 0 0 0 ...   \n",
       "114  1 1 0 1 0 1 0 0 0 0 1 1 0 1 0 1 0 0 0 1 0 1 0 ...   \n",
       "87   1 1 0 1 1 1 0 0 0 1 1 1 0 1 0 1 1 1 1 0 0 1 0 ...   \n",
       "107  1 1 1 1 0 1 0 1 1 0 0 1 0 1 1 0 1 0 1 1 1 1 0 ...   \n",
       "134  1 1 1 1 0 1 0 0 1 0 1 1 1 1 0 1 1 1 1 1 1 0 0 ...   \n",
       "\n",
       "                                              circular  \n",
       "154  0 0 0 0 0 0 0 0 0 0 0 0 0 0 0 0 0 0 0 0 0 0 0 ...  \n",
       "70   1 0 0 0 0 0 0 0 1 0 0 1 0 0 0 0 0 0 0 0 1 0 0 ...  \n",
       "68   0 0 0 0 0 0 0 0 0 0 0 0 0 0 0 0 0 0 0 0 0 0 0 ...  \n",
       "71   0 0 0 0 0 0 0 0 0 0 0 0 0 0 0 0 0 0 0 0 0 0 0 ...  \n",
       "61   0 1 0 0 0 0 0 0 0 0 0 1 0 0 0 0 1 0 0 0 0 0 0 ...  \n",
       "..                                                 ...  \n",
       "113  0 1 0 0 1 0 0 0 0 0 0 0 0 0 0 0 0 0 0 0 0 0 0 ...  \n",
       "114  0 0 0 0 0 0 0 0 0 0 0 0 0 0 0 0 0 0 0 0 0 0 0 ...  \n",
       "87   0 1 0 0 0 0 0 0 0 0 0 0 0 0 0 0 0 0 0 0 0 0 0 ...  \n",
       "107  0 0 0 1 1 0 0 0 0 0 0 0 0 0 0 0 0 0 0 0 0 0 0 ...  \n",
       "134  0 0 0 0 0 0 0 0 0 0 0 0 0 0 0 0 1 0 0 0 0 0 0 ...  \n",
       "\n",
       "[169 rows x 4 columns]"
      ]
     },
     "execution_count": 122,
     "metadata": {},
     "output_type": "execute_result"
    }
   ],
   "source": [
    "#to check the condition of the fule\n",
    "file"
   ]
  },
  {
   "cell_type": "markdown",
   "metadata": {},
   "source": [
    "### MACCS "
   ]
  },
  {
   "cell_type": "markdown",
   "metadata": {},
   "source": [
    "Using rdkit package to convert the smiles into maccs fingerprints"
   ]
  },
  {
   "cell_type": "code",
   "execution_count": 123,
   "metadata": {},
   "outputs": [],
   "source": [
    "maccs= mol.apply(MACCSkeys.GenMACCSKeys)\n",
    "maccsmaccs=maccs.apply(lambda x: x.ToBitString())\n",
    "file[\"maccs\"]=maccsmaccs.apply(lambda x: \" \".join(x))"
   ]
  },
  {
   "cell_type": "code",
   "execution_count": 124,
   "metadata": {},
   "outputs": [],
   "source": [
    "file.to_csv(\"rdkit_fp_copy.csv\", index=False)"
   ]
  },
  {
   "cell_type": "markdown",
   "metadata": {},
   "source": [
    "### Merging of files to get ic50"
   ]
  },
  {
   "cell_type": "markdown",
   "metadata": {},
   "source": [
    "Since the files for drug id and smiles, and the ic50 values are separated, they needed to be merged together for future use (in the regression models)"
   ]
  },
  {
   "cell_type": "code",
   "execution_count": 125,
   "metadata": {},
   "outputs": [
    {
     "data": {
      "text/html": [
       "<div>\n",
       "<style scoped>\n",
       "    .dataframe tbody tr th:only-of-type {\n",
       "        vertical-align: middle;\n",
       "    }\n",
       "\n",
       "    .dataframe tbody tr th {\n",
       "        vertical-align: top;\n",
       "    }\n",
       "\n",
       "    .dataframe thead th {\n",
       "        text-align: right;\n",
       "    }\n",
       "</style>\n",
       "<table border=\"1\" class=\"dataframe\">\n",
       "  <thead>\n",
       "    <tr style=\"text-align: right;\">\n",
       "      <th></th>\n",
       "      <th>cosmic_id</th>\n",
       "      <th>cell_line</th>\n",
       "      <th>drug_id</th>\n",
       "      <th>ic50</th>\n",
       "      <th>z_score</th>\n",
       "    </tr>\n",
       "  </thead>\n",
       "  <tbody>\n",
       "    <tr>\n",
       "      <th>0</th>\n",
       "      <td>910927</td>\n",
       "      <td>CAL-51</td>\n",
       "      <td>1003</td>\n",
       "      <td>-3.521093</td>\n",
       "      <td>-0.686816</td>\n",
       "    </tr>\n",
       "    <tr>\n",
       "      <th>1</th>\n",
       "      <td>749712</td>\n",
       "      <td>HCC1395</td>\n",
       "      <td>1003</td>\n",
       "      <td>-2.309078</td>\n",
       "      <td>-0.096212</td>\n",
       "    </tr>\n",
       "    <tr>\n",
       "      <th>2</th>\n",
       "      <td>908122</td>\n",
       "      <td>MDA-MB-453</td>\n",
       "      <td>1003</td>\n",
       "      <td>-2.014633</td>\n",
       "      <td>0.047269</td>\n",
       "    </tr>\n",
       "    <tr>\n",
       "      <th>3</th>\n",
       "      <td>910852</td>\n",
       "      <td>CAL-85-1</td>\n",
       "      <td>1003</td>\n",
       "      <td>-1.177570</td>\n",
       "      <td>0.455162</td>\n",
       "    </tr>\n",
       "    <tr>\n",
       "      <th>4</th>\n",
       "      <td>906844</td>\n",
       "      <td>DU-4475</td>\n",
       "      <td>1003</td>\n",
       "      <td>-4.271105</td>\n",
       "      <td>-1.052290</td>\n",
       "    </tr>\n",
       "  </tbody>\n",
       "</table>\n",
       "</div>"
      ],
      "text/plain": [
       "   cosmic_id   cell_line  drug_id      ic50   z_score\n",
       "0     910927      CAL-51     1003 -3.521093 -0.686816\n",
       "1     749712     HCC1395     1003 -2.309078 -0.096212\n",
       "2     908122  MDA-MB-453     1003 -2.014633  0.047269\n",
       "3     910852    CAL-85-1     1003 -1.177570  0.455162\n",
       "4     906844     DU-4475     1003 -4.271105 -1.052290"
      ]
     },
     "execution_count": 125,
     "metadata": {},
     "output_type": "execute_result"
    }
   ],
   "source": [
    "fpfile= pd.read_csv(\"/Users/floralam/rdkit_fp_copy.csv\")\n",
    "drugic= pd.read_csv(\"/Users/floralam/Downloads/DrugData.csv\").drop(['TCGA_DESC'], axis=1)\n",
    "drugic.columns=['cosmic_id','cell_line','drug_id','ic50','z_score']\n",
    "drugic.head()"
   ]
  },
  {
   "cell_type": "code",
   "execution_count": 126,
   "metadata": {},
   "outputs": [
    {
     "data": {
      "text/html": [
       "<div>\n",
       "<style scoped>\n",
       "    .dataframe tbody tr th:only-of-type {\n",
       "        vertical-align: middle;\n",
       "    }\n",
       "\n",
       "    .dataframe tbody tr th {\n",
       "        vertical-align: top;\n",
       "    }\n",
       "\n",
       "    .dataframe thead th {\n",
       "        text-align: right;\n",
       "    }\n",
       "</style>\n",
       "<table border=\"1\" class=\"dataframe\">\n",
       "  <thead>\n",
       "    <tr style=\"text-align: right;\">\n",
       "      <th></th>\n",
       "      <th>cosmic_id</th>\n",
       "      <th>cell_line</th>\n",
       "      <th>drug_id</th>\n",
       "      <th>ic50</th>\n",
       "      <th>z_score</th>\n",
       "      <th>SMILES</th>\n",
       "      <th>topo</th>\n",
       "      <th>circular</th>\n",
       "      <th>maccs</th>\n",
       "    </tr>\n",
       "  </thead>\n",
       "  <tbody>\n",
       "    <tr>\n",
       "      <th>0</th>\n",
       "      <td>910927</td>\n",
       "      <td>CAL-51</td>\n",
       "      <td>1003</td>\n",
       "      <td>-3.521093</td>\n",
       "      <td>-0.686816</td>\n",
       "      <td>CCC1(C2=C(COC1=O)C(=O)N3CC4=CC5=CC=CC=C5N=C4C3...</td>\n",
       "      <td>1 1 1 0 0 1 1 1 1 0 1 1 1 0 0 0 1 1 1 1 0 1 1 ...</td>\n",
       "      <td>0 0 0 0 0 0 0 0 0 0 0 0 0 0 0 0 0 0 0 0 0 0 0 ...</td>\n",
       "      <td>0 0 0 0 0 0 0 0 0 0 0 0 0 0 0 0 0 0 0 0 0 0 0 ...</td>\n",
       "    </tr>\n",
       "    <tr>\n",
       "      <th>1</th>\n",
       "      <td>749712</td>\n",
       "      <td>HCC1395</td>\n",
       "      <td>1003</td>\n",
       "      <td>-2.309078</td>\n",
       "      <td>-0.096212</td>\n",
       "      <td>CCC1(C2=C(COC1=O)C(=O)N3CC4=CC5=CC=CC=C5N=C4C3...</td>\n",
       "      <td>1 1 1 0 0 1 1 1 1 0 1 1 1 0 0 0 1 1 1 1 0 1 1 ...</td>\n",
       "      <td>0 0 0 0 0 0 0 0 0 0 0 0 0 0 0 0 0 0 0 0 0 0 0 ...</td>\n",
       "      <td>0 0 0 0 0 0 0 0 0 0 0 0 0 0 0 0 0 0 0 0 0 0 0 ...</td>\n",
       "    </tr>\n",
       "    <tr>\n",
       "      <th>2</th>\n",
       "      <td>908122</td>\n",
       "      <td>MDA-MB-453</td>\n",
       "      <td>1003</td>\n",
       "      <td>-2.014633</td>\n",
       "      <td>0.047269</td>\n",
       "      <td>CCC1(C2=C(COC1=O)C(=O)N3CC4=CC5=CC=CC=C5N=C4C3...</td>\n",
       "      <td>1 1 1 0 0 1 1 1 1 0 1 1 1 0 0 0 1 1 1 1 0 1 1 ...</td>\n",
       "      <td>0 0 0 0 0 0 0 0 0 0 0 0 0 0 0 0 0 0 0 0 0 0 0 ...</td>\n",
       "      <td>0 0 0 0 0 0 0 0 0 0 0 0 0 0 0 0 0 0 0 0 0 0 0 ...</td>\n",
       "    </tr>\n",
       "    <tr>\n",
       "      <th>3</th>\n",
       "      <td>910852</td>\n",
       "      <td>CAL-85-1</td>\n",
       "      <td>1003</td>\n",
       "      <td>-1.177570</td>\n",
       "      <td>0.455162</td>\n",
       "      <td>CCC1(C2=C(COC1=O)C(=O)N3CC4=CC5=CC=CC=C5N=C4C3...</td>\n",
       "      <td>1 1 1 0 0 1 1 1 1 0 1 1 1 0 0 0 1 1 1 1 0 1 1 ...</td>\n",
       "      <td>0 0 0 0 0 0 0 0 0 0 0 0 0 0 0 0 0 0 0 0 0 0 0 ...</td>\n",
       "      <td>0 0 0 0 0 0 0 0 0 0 0 0 0 0 0 0 0 0 0 0 0 0 0 ...</td>\n",
       "    </tr>\n",
       "    <tr>\n",
       "      <th>4</th>\n",
       "      <td>906844</td>\n",
       "      <td>DU-4475</td>\n",
       "      <td>1003</td>\n",
       "      <td>-4.271105</td>\n",
       "      <td>-1.052290</td>\n",
       "      <td>CCC1(C2=C(COC1=O)C(=O)N3CC4=CC5=CC=CC=C5N=C4C3...</td>\n",
       "      <td>1 1 1 0 0 1 1 1 1 0 1 1 1 0 0 0 1 1 1 1 0 1 1 ...</td>\n",
       "      <td>0 0 0 0 0 0 0 0 0 0 0 0 0 0 0 0 0 0 0 0 0 0 0 ...</td>\n",
       "      <td>0 0 0 0 0 0 0 0 0 0 0 0 0 0 0 0 0 0 0 0 0 0 0 ...</td>\n",
       "    </tr>\n",
       "    <tr>\n",
       "      <th>...</th>\n",
       "      <td>...</td>\n",
       "      <td>...</td>\n",
       "      <td>...</td>\n",
       "      <td>...</td>\n",
       "      <td>...</td>\n",
       "      <td>...</td>\n",
       "      <td>...</td>\n",
       "      <td>...</td>\n",
       "      <td>...</td>\n",
       "    </tr>\n",
       "    <tr>\n",
       "      <th>7426</th>\n",
       "      <td>905951</td>\n",
       "      <td>BT-549</td>\n",
       "      <td>2172</td>\n",
       "      <td>3.098801</td>\n",
       "      <td>0.133899</td>\n",
       "      <td>CC1=C(SC2=C1C(=NC(C3=NN=C(N32)C)CC(=O)OC(C)(C)...</td>\n",
       "      <td>1 1 1 1 0 1 0 0 1 0 1 1 1 1 0 1 1 1 1 1 1 0 0 ...</td>\n",
       "      <td>0 0 0 0 0 0 0 0 0 0 0 0 0 0 0 0 1 0 0 0 0 0 0 ...</td>\n",
       "      <td>0 0 0 0 0 0 0 0 0 0 0 0 0 0 0 0 0 0 0 1 0 0 0 ...</td>\n",
       "    </tr>\n",
       "    <tr>\n",
       "      <th>7427</th>\n",
       "      <td>906862</td>\n",
       "      <td>EVSA-T</td>\n",
       "      <td>2172</td>\n",
       "      <td>-1.061746</td>\n",
       "      <td>-2.259969</td>\n",
       "      <td>CC1=C(SC2=C1C(=NC(C3=NN=C(N32)C)CC(=O)OC(C)(C)...</td>\n",
       "      <td>1 1 1 1 0 1 0 0 1 0 1 1 1 1 0 1 1 1 1 1 1 0 0 ...</td>\n",
       "      <td>0 0 0 0 0 0 0 0 0 0 0 0 0 0 0 0 1 0 0 0 0 0 0 ...</td>\n",
       "      <td>0 0 0 0 0 0 0 0 0 0 0 0 0 0 0 0 0 0 0 1 0 0 0 ...</td>\n",
       "    </tr>\n",
       "    <tr>\n",
       "      <th>7428</th>\n",
       "      <td>907046</td>\n",
       "      <td>HCC1569</td>\n",
       "      <td>2172</td>\n",
       "      <td>2.003400</td>\n",
       "      <td>-0.496365</td>\n",
       "      <td>CC1=C(SC2=C1C(=NC(C3=NN=C(N32)C)CC(=O)OC(C)(C)...</td>\n",
       "      <td>1 1 1 1 0 1 0 0 1 0 1 1 1 1 0 1 1 1 1 1 1 0 0 ...</td>\n",
       "      <td>0 0 0 0 0 0 0 0 0 0 0 0 0 0 0 0 1 0 0 0 0 0 0 ...</td>\n",
       "      <td>0 0 0 0 0 0 0 0 0 0 0 0 0 0 0 0 0 0 0 1 0 0 0 ...</td>\n",
       "    </tr>\n",
       "    <tr>\n",
       "      <th>7429</th>\n",
       "      <td>749709</td>\n",
       "      <td>HCC1954</td>\n",
       "      <td>2172</td>\n",
       "      <td>5.263321</td>\n",
       "      <td>1.379307</td>\n",
       "      <td>CC1=C(SC2=C1C(=NC(C3=NN=C(N32)C)CC(=O)OC(C)(C)...</td>\n",
       "      <td>1 1 1 1 0 1 0 0 1 0 1 1 1 1 0 1 1 1 1 1 1 0 0 ...</td>\n",
       "      <td>0 0 0 0 0 0 0 0 0 0 0 0 0 0 0 0 1 0 0 0 0 0 0 ...</td>\n",
       "      <td>0 0 0 0 0 0 0 0 0 0 0 0 0 0 0 0 0 0 0 1 0 0 0 ...</td>\n",
       "    </tr>\n",
       "    <tr>\n",
       "      <th>7430</th>\n",
       "      <td>906801</td>\n",
       "      <td>BT-20</td>\n",
       "      <td>2172</td>\n",
       "      <td>3.673637</td>\n",
       "      <td>0.464645</td>\n",
       "      <td>CC1=C(SC2=C1C(=NC(C3=NN=C(N32)C)CC(=O)OC(C)(C)...</td>\n",
       "      <td>1 1 1 1 0 1 0 0 1 0 1 1 1 1 0 1 1 1 1 1 1 0 0 ...</td>\n",
       "      <td>0 0 0 0 0 0 0 0 0 0 0 0 0 0 0 0 1 0 0 0 0 0 0 ...</td>\n",
       "      <td>0 0 0 0 0 0 0 0 0 0 0 0 0 0 0 0 0 0 0 1 0 0 0 ...</td>\n",
       "    </tr>\n",
       "  </tbody>\n",
       "</table>\n",
       "<p>7431 rows × 9 columns</p>\n",
       "</div>"
      ],
      "text/plain": [
       "      cosmic_id   cell_line  drug_id      ic50   z_score  \\\n",
       "0        910927      CAL-51     1003 -3.521093 -0.686816   \n",
       "1        749712     HCC1395     1003 -2.309078 -0.096212   \n",
       "2        908122  MDA-MB-453     1003 -2.014633  0.047269   \n",
       "3        910852    CAL-85-1     1003 -1.177570  0.455162   \n",
       "4        906844     DU-4475     1003 -4.271105 -1.052290   \n",
       "...         ...         ...      ...       ...       ...   \n",
       "7426     905951      BT-549     2172  3.098801  0.133899   \n",
       "7427     906862      EVSA-T     2172 -1.061746 -2.259969   \n",
       "7428     907046     HCC1569     2172  2.003400 -0.496365   \n",
       "7429     749709     HCC1954     2172  5.263321  1.379307   \n",
       "7430     906801       BT-20     2172  3.673637  0.464645   \n",
       "\n",
       "                                                 SMILES  \\\n",
       "0     CCC1(C2=C(COC1=O)C(=O)N3CC4=CC5=CC=CC=C5N=C4C3...   \n",
       "1     CCC1(C2=C(COC1=O)C(=O)N3CC4=CC5=CC=CC=C5N=C4C3...   \n",
       "2     CCC1(C2=C(COC1=O)C(=O)N3CC4=CC5=CC=CC=C5N=C4C3...   \n",
       "3     CCC1(C2=C(COC1=O)C(=O)N3CC4=CC5=CC=CC=C5N=C4C3...   \n",
       "4     CCC1(C2=C(COC1=O)C(=O)N3CC4=CC5=CC=CC=C5N=C4C3...   \n",
       "...                                                 ...   \n",
       "7426  CC1=C(SC2=C1C(=NC(C3=NN=C(N32)C)CC(=O)OC(C)(C)...   \n",
       "7427  CC1=C(SC2=C1C(=NC(C3=NN=C(N32)C)CC(=O)OC(C)(C)...   \n",
       "7428  CC1=C(SC2=C1C(=NC(C3=NN=C(N32)C)CC(=O)OC(C)(C)...   \n",
       "7429  CC1=C(SC2=C1C(=NC(C3=NN=C(N32)C)CC(=O)OC(C)(C)...   \n",
       "7430  CC1=C(SC2=C1C(=NC(C3=NN=C(N32)C)CC(=O)OC(C)(C)...   \n",
       "\n",
       "                                                   topo  \\\n",
       "0     1 1 1 0 0 1 1 1 1 0 1 1 1 0 0 0 1 1 1 1 0 1 1 ...   \n",
       "1     1 1 1 0 0 1 1 1 1 0 1 1 1 0 0 0 1 1 1 1 0 1 1 ...   \n",
       "2     1 1 1 0 0 1 1 1 1 0 1 1 1 0 0 0 1 1 1 1 0 1 1 ...   \n",
       "3     1 1 1 0 0 1 1 1 1 0 1 1 1 0 0 0 1 1 1 1 0 1 1 ...   \n",
       "4     1 1 1 0 0 1 1 1 1 0 1 1 1 0 0 0 1 1 1 1 0 1 1 ...   \n",
       "...                                                 ...   \n",
       "7426  1 1 1 1 0 1 0 0 1 0 1 1 1 1 0 1 1 1 1 1 1 0 0 ...   \n",
       "7427  1 1 1 1 0 1 0 0 1 0 1 1 1 1 0 1 1 1 1 1 1 0 0 ...   \n",
       "7428  1 1 1 1 0 1 0 0 1 0 1 1 1 1 0 1 1 1 1 1 1 0 0 ...   \n",
       "7429  1 1 1 1 0 1 0 0 1 0 1 1 1 1 0 1 1 1 1 1 1 0 0 ...   \n",
       "7430  1 1 1 1 0 1 0 0 1 0 1 1 1 1 0 1 1 1 1 1 1 0 0 ...   \n",
       "\n",
       "                                               circular  \\\n",
       "0     0 0 0 0 0 0 0 0 0 0 0 0 0 0 0 0 0 0 0 0 0 0 0 ...   \n",
       "1     0 0 0 0 0 0 0 0 0 0 0 0 0 0 0 0 0 0 0 0 0 0 0 ...   \n",
       "2     0 0 0 0 0 0 0 0 0 0 0 0 0 0 0 0 0 0 0 0 0 0 0 ...   \n",
       "3     0 0 0 0 0 0 0 0 0 0 0 0 0 0 0 0 0 0 0 0 0 0 0 ...   \n",
       "4     0 0 0 0 0 0 0 0 0 0 0 0 0 0 0 0 0 0 0 0 0 0 0 ...   \n",
       "...                                                 ...   \n",
       "7426  0 0 0 0 0 0 0 0 0 0 0 0 0 0 0 0 1 0 0 0 0 0 0 ...   \n",
       "7427  0 0 0 0 0 0 0 0 0 0 0 0 0 0 0 0 1 0 0 0 0 0 0 ...   \n",
       "7428  0 0 0 0 0 0 0 0 0 0 0 0 0 0 0 0 1 0 0 0 0 0 0 ...   \n",
       "7429  0 0 0 0 0 0 0 0 0 0 0 0 0 0 0 0 1 0 0 0 0 0 0 ...   \n",
       "7430  0 0 0 0 0 0 0 0 0 0 0 0 0 0 0 0 1 0 0 0 0 0 0 ...   \n",
       "\n",
       "                                                  maccs  \n",
       "0     0 0 0 0 0 0 0 0 0 0 0 0 0 0 0 0 0 0 0 0 0 0 0 ...  \n",
       "1     0 0 0 0 0 0 0 0 0 0 0 0 0 0 0 0 0 0 0 0 0 0 0 ...  \n",
       "2     0 0 0 0 0 0 0 0 0 0 0 0 0 0 0 0 0 0 0 0 0 0 0 ...  \n",
       "3     0 0 0 0 0 0 0 0 0 0 0 0 0 0 0 0 0 0 0 0 0 0 0 ...  \n",
       "4     0 0 0 0 0 0 0 0 0 0 0 0 0 0 0 0 0 0 0 0 0 0 0 ...  \n",
       "...                                                 ...  \n",
       "7426  0 0 0 0 0 0 0 0 0 0 0 0 0 0 0 0 0 0 0 1 0 0 0 ...  \n",
       "7427  0 0 0 0 0 0 0 0 0 0 0 0 0 0 0 0 0 0 0 1 0 0 0 ...  \n",
       "7428  0 0 0 0 0 0 0 0 0 0 0 0 0 0 0 0 0 0 0 1 0 0 0 ...  \n",
       "7429  0 0 0 0 0 0 0 0 0 0 0 0 0 0 0 0 0 0 0 1 0 0 0 ...  \n",
       "7430  0 0 0 0 0 0 0 0 0 0 0 0 0 0 0 0 0 0 0 1 0 0 0 ...  \n",
       "\n",
       "[7431 rows x 9 columns]"
      ]
     },
     "execution_count": 126,
     "metadata": {},
     "output_type": "execute_result"
    }
   ],
   "source": [
    "newfile= pd.merge(drugic,fpfile)\n",
    "newfile"
   ]
  },
  {
   "cell_type": "code",
   "execution_count": 127,
   "metadata": {},
   "outputs": [],
   "source": [
    "newfile= newfile.drop(['cosmic_id', 'z_score'],axis=1)"
   ]
  },
  {
   "cell_type": "code",
   "execution_count": 128,
   "metadata": {},
   "outputs": [
    {
     "data": {
      "text/html": [
       "<div>\n",
       "<style scoped>\n",
       "    .dataframe tbody tr th:only-of-type {\n",
       "        vertical-align: middle;\n",
       "    }\n",
       "\n",
       "    .dataframe tbody tr th {\n",
       "        vertical-align: top;\n",
       "    }\n",
       "\n",
       "    .dataframe thead th {\n",
       "        text-align: right;\n",
       "    }\n",
       "</style>\n",
       "<table border=\"1\" class=\"dataframe\">\n",
       "  <thead>\n",
       "    <tr style=\"text-align: right;\">\n",
       "      <th></th>\n",
       "      <th>cell_line</th>\n",
       "      <th>drug_id</th>\n",
       "      <th>ic50</th>\n",
       "      <th>SMILES</th>\n",
       "      <th>topo</th>\n",
       "      <th>circular</th>\n",
       "      <th>maccs</th>\n",
       "    </tr>\n",
       "  </thead>\n",
       "  <tbody>\n",
       "    <tr>\n",
       "      <th>0</th>\n",
       "      <td>CAL-51</td>\n",
       "      <td>1003</td>\n",
       "      <td>-3.521093</td>\n",
       "      <td>CCC1(C2=C(COC1=O)C(=O)N3CC4=CC5=CC=CC=C5N=C4C3...</td>\n",
       "      <td>1 1 1 0 0 1 1 1 1 0 1 1 1 0 0 0 1 1 1 1 0 1 1 ...</td>\n",
       "      <td>0 0 0 0 0 0 0 0 0 0 0 0 0 0 0 0 0 0 0 0 0 0 0 ...</td>\n",
       "      <td>0 0 0 0 0 0 0 0 0 0 0 0 0 0 0 0 0 0 0 0 0 0 0 ...</td>\n",
       "    </tr>\n",
       "    <tr>\n",
       "      <th>49</th>\n",
       "      <td>CAL-51</td>\n",
       "      <td>1004</td>\n",
       "      <td>-5.008028</td>\n",
       "      <td>CCC1(CC2CC(C3=C(CCN(C2)C1)C4=CC=CC=C4N3)(C5=C(...</td>\n",
       "      <td>1 1 1 1 1 1 1 1 1 1 1 1 1 1 1 1 1 1 1 1 1 1 1 ...</td>\n",
       "      <td>1 0 0 0 0 0 0 0 1 0 0 1 0 0 0 0 0 0 0 0 1 0 0 ...</td>\n",
       "      <td>0 0 0 0 0 0 0 0 0 0 0 0 0 0 0 0 0 0 0 0 0 0 0 ...</td>\n",
       "    </tr>\n",
       "    <tr>\n",
       "      <th>93</th>\n",
       "      <td>CAL-51</td>\n",
       "      <td>1005</td>\n",
       "      <td>2.492692</td>\n",
       "      <td>N.N.[Cl-].[Cl-].[Pt+2]</td>\n",
       "      <td>0 0 0 0 0 0 0 0 0 0 0 0 0 0 0 0 0 0 0 0 0 0 0 ...</td>\n",
       "      <td>0 0 0 0 0 0 0 0 0 0 0 0 0 0 0 0 0 0 0 0 0 0 0 ...</td>\n",
       "      <td>0 0 0 0 0 0 0 0 0 1 0 0 0 0 0 0 0 0 0 0 0 0 0 ...</td>\n",
       "    </tr>\n",
       "    <tr>\n",
       "      <th>143</th>\n",
       "      <td>CAL-51</td>\n",
       "      <td>1006</td>\n",
       "      <td>-1.082517</td>\n",
       "      <td>C1=CN(C(=O)N=C1N)C2C(C(C(O2)CO)O)O</td>\n",
       "      <td>1 0 1 0 1 1 1 0 1 1 1 0 1 1 1 0 1 0 1 0 1 1 1 ...</td>\n",
       "      <td>0 0 0 0 0 0 0 0 0 0 0 0 0 0 0 0 0 0 0 0 0 0 0 ...</td>\n",
       "      <td>0 0 0 0 0 0 0 0 0 0 0 0 0 0 0 0 0 0 0 0 0 0 0 ...</td>\n",
       "    </tr>\n",
       "    <tr>\n",
       "      <th>187</th>\n",
       "      <td>CAL-51</td>\n",
       "      <td>1007</td>\n",
       "      <td>-4.886498</td>\n",
       "      <td>CC1=C2C(C(=O)C3(C(CC4C(C3C(C(C2(C)C)(CC1OC(=O)...</td>\n",
       "      <td>1 1 1 1 0 1 1 0 1 1 1 1 1 0 1 1 0 0 1 1 1 0 1 ...</td>\n",
       "      <td>0 1 0 0 0 0 0 0 0 0 0 1 0 0 0 0 1 0 0 0 0 0 0 ...</td>\n",
       "      <td>0 0 0 0 0 0 0 0 1 0 0 1 0 0 0 0 0 0 0 0 0 0 0 ...</td>\n",
       "    </tr>\n",
       "    <tr>\n",
       "      <th>...</th>\n",
       "      <td>...</td>\n",
       "      <td>...</td>\n",
       "      <td>...</td>\n",
       "      <td>...</td>\n",
       "      <td>...</td>\n",
       "      <td>...</td>\n",
       "      <td>...</td>\n",
       "    </tr>\n",
       "    <tr>\n",
       "      <th>7205</th>\n",
       "      <td>CAL-51</td>\n",
       "      <td>2109</td>\n",
       "      <td>1.913550</td>\n",
       "      <td>CC1CN(CC(N1)C)C2=NC=C(C(=C2)C)C3=CC=C(C=C3)C4=...</td>\n",
       "      <td>1 1 1 1 0 1 1 1 0 1 0 1 0 1 1 0 0 0 0 1 1 0 1 ...</td>\n",
       "      <td>0 0 0 0 0 0 0 0 0 0 0 0 0 0 0 0 0 0 0 0 0 0 0 ...</td>\n",
       "      <td>0 0 0 0 0 0 0 0 0 0 0 0 0 0 0 0 0 0 0 0 0 0 0 ...</td>\n",
       "    </tr>\n",
       "    <tr>\n",
       "      <th>7249</th>\n",
       "      <td>CAL-51</td>\n",
       "      <td>2110</td>\n",
       "      <td>3.605307</td>\n",
       "      <td>C1CC(C1)NC2=NC=CC(=C2)C(=O)NCC(CN3CCC4=CC=CC=C...</td>\n",
       "      <td>1 1 1 0 1 1 0 1 1 0 1 1 0 0 0 1 1 0 0 0 0 0 0 ...</td>\n",
       "      <td>0 1 0 0 1 0 0 0 0 0 0 0 0 0 0 0 0 0 0 0 0 0 0 ...</td>\n",
       "      <td>0 0 0 0 0 0 0 0 0 0 0 1 0 0 0 0 0 0 0 0 0 0 0 ...</td>\n",
       "    </tr>\n",
       "    <tr>\n",
       "      <th>7293</th>\n",
       "      <td>CAL-51</td>\n",
       "      <td>2111</td>\n",
       "      <td>2.103111</td>\n",
       "      <td>CS(=O)(=O)C1=CC=C(C=C1)C2=CN=C(C(=N2)C(=O)NC3=...</td>\n",
       "      <td>1 1 0 1 0 1 0 0 0 0 1 1 0 1 0 1 0 0 0 1 0 1 0 ...</td>\n",
       "      <td>0 0 0 0 0 0 0 0 0 0 0 0 0 0 0 0 0 0 0 0 0 0 0 ...</td>\n",
       "      <td>0 0 0 0 0 0 0 0 0 0 0 0 0 0 0 0 0 0 0 0 0 0 0 ...</td>\n",
       "    </tr>\n",
       "    <tr>\n",
       "      <th>7337</th>\n",
       "      <td>CAL-51</td>\n",
       "      <td>2169</td>\n",
       "      <td>5.497304</td>\n",
       "      <td>CC1=CN2C(=O)C=C(N=C2C(=C1)C(C)NC3=CC=CC=C3C(=O...</td>\n",
       "      <td>1 1 0 1 1 1 0 0 0 1 1 1 0 1 0 1 1 1 1 0 0 1 0 ...</td>\n",
       "      <td>0 1 0 0 0 0 0 0 0 0 0 0 0 0 0 0 0 0 0 0 0 0 0 ...</td>\n",
       "      <td>0 0 0 0 0 0 0 0 0 0 0 0 0 0 0 0 0 0 0 0 0 0 0 ...</td>\n",
       "    </tr>\n",
       "    <tr>\n",
       "      <th>7384</th>\n",
       "      <td>CAL-51</td>\n",
       "      <td>2172</td>\n",
       "      <td>3.708490</td>\n",
       "      <td>CC1=C(SC2=C1C(=NC(C3=NN=C(N32)C)CC(=O)OC(C)(C)...</td>\n",
       "      <td>1 1 1 1 0 1 0 0 1 0 1 1 1 1 0 1 1 1 1 1 1 0 0 ...</td>\n",
       "      <td>0 0 0 0 0 0 0 0 0 0 0 0 0 0 0 0 1 0 0 0 0 0 0 ...</td>\n",
       "      <td>0 0 0 0 0 0 0 0 0 0 0 0 0 0 0 0 0 0 0 1 0 0 0 ...</td>\n",
       "    </tr>\n",
       "  </tbody>\n",
       "</table>\n",
       "<p>166 rows × 7 columns</p>\n",
       "</div>"
      ],
      "text/plain": [
       "     cell_line  drug_id      ic50  \\\n",
       "0       CAL-51     1003 -3.521093   \n",
       "49      CAL-51     1004 -5.008028   \n",
       "93      CAL-51     1005  2.492692   \n",
       "143     CAL-51     1006 -1.082517   \n",
       "187     CAL-51     1007 -4.886498   \n",
       "...        ...      ...       ...   \n",
       "7205    CAL-51     2109  1.913550   \n",
       "7249    CAL-51     2110  3.605307   \n",
       "7293    CAL-51     2111  2.103111   \n",
       "7337    CAL-51     2169  5.497304   \n",
       "7384    CAL-51     2172  3.708490   \n",
       "\n",
       "                                                 SMILES  \\\n",
       "0     CCC1(C2=C(COC1=O)C(=O)N3CC4=CC5=CC=CC=C5N=C4C3...   \n",
       "49    CCC1(CC2CC(C3=C(CCN(C2)C1)C4=CC=CC=C4N3)(C5=C(...   \n",
       "93                               N.N.[Cl-].[Cl-].[Pt+2]   \n",
       "143                  C1=CN(C(=O)N=C1N)C2C(C(C(O2)CO)O)O   \n",
       "187   CC1=C2C(C(=O)C3(C(CC4C(C3C(C(C2(C)C)(CC1OC(=O)...   \n",
       "...                                                 ...   \n",
       "7205  CC1CN(CC(N1)C)C2=NC=C(C(=C2)C)C3=CC=C(C=C3)C4=...   \n",
       "7249  C1CC(C1)NC2=NC=CC(=C2)C(=O)NCC(CN3CCC4=CC=CC=C...   \n",
       "7293  CS(=O)(=O)C1=CC=C(C=C1)C2=CN=C(C(=N2)C(=O)NC3=...   \n",
       "7337  CC1=CN2C(=O)C=C(N=C2C(=C1)C(C)NC3=CC=CC=C3C(=O...   \n",
       "7384  CC1=C(SC2=C1C(=NC(C3=NN=C(N32)C)CC(=O)OC(C)(C)...   \n",
       "\n",
       "                                                   topo  \\\n",
       "0     1 1 1 0 0 1 1 1 1 0 1 1 1 0 0 0 1 1 1 1 0 1 1 ...   \n",
       "49    1 1 1 1 1 1 1 1 1 1 1 1 1 1 1 1 1 1 1 1 1 1 1 ...   \n",
       "93    0 0 0 0 0 0 0 0 0 0 0 0 0 0 0 0 0 0 0 0 0 0 0 ...   \n",
       "143   1 0 1 0 1 1 1 0 1 1 1 0 1 1 1 0 1 0 1 0 1 1 1 ...   \n",
       "187   1 1 1 1 0 1 1 0 1 1 1 1 1 0 1 1 0 0 1 1 1 0 1 ...   \n",
       "...                                                 ...   \n",
       "7205  1 1 1 1 0 1 1 1 0 1 0 1 0 1 1 0 0 0 0 1 1 0 1 ...   \n",
       "7249  1 1 1 0 1 1 0 1 1 0 1 1 0 0 0 1 1 0 0 0 0 0 0 ...   \n",
       "7293  1 1 0 1 0 1 0 0 0 0 1 1 0 1 0 1 0 0 0 1 0 1 0 ...   \n",
       "7337  1 1 0 1 1 1 0 0 0 1 1 1 0 1 0 1 1 1 1 0 0 1 0 ...   \n",
       "7384  1 1 1 1 0 1 0 0 1 0 1 1 1 1 0 1 1 1 1 1 1 0 0 ...   \n",
       "\n",
       "                                               circular  \\\n",
       "0     0 0 0 0 0 0 0 0 0 0 0 0 0 0 0 0 0 0 0 0 0 0 0 ...   \n",
       "49    1 0 0 0 0 0 0 0 1 0 0 1 0 0 0 0 0 0 0 0 1 0 0 ...   \n",
       "93    0 0 0 0 0 0 0 0 0 0 0 0 0 0 0 0 0 0 0 0 0 0 0 ...   \n",
       "143   0 0 0 0 0 0 0 0 0 0 0 0 0 0 0 0 0 0 0 0 0 0 0 ...   \n",
       "187   0 1 0 0 0 0 0 0 0 0 0 1 0 0 0 0 1 0 0 0 0 0 0 ...   \n",
       "...                                                 ...   \n",
       "7205  0 0 0 0 0 0 0 0 0 0 0 0 0 0 0 0 0 0 0 0 0 0 0 ...   \n",
       "7249  0 1 0 0 1 0 0 0 0 0 0 0 0 0 0 0 0 0 0 0 0 0 0 ...   \n",
       "7293  0 0 0 0 0 0 0 0 0 0 0 0 0 0 0 0 0 0 0 0 0 0 0 ...   \n",
       "7337  0 1 0 0 0 0 0 0 0 0 0 0 0 0 0 0 0 0 0 0 0 0 0 ...   \n",
       "7384  0 0 0 0 0 0 0 0 0 0 0 0 0 0 0 0 1 0 0 0 0 0 0 ...   \n",
       "\n",
       "                                                  maccs  \n",
       "0     0 0 0 0 0 0 0 0 0 0 0 0 0 0 0 0 0 0 0 0 0 0 0 ...  \n",
       "49    0 0 0 0 0 0 0 0 0 0 0 0 0 0 0 0 0 0 0 0 0 0 0 ...  \n",
       "93    0 0 0 0 0 0 0 0 0 1 0 0 0 0 0 0 0 0 0 0 0 0 0 ...  \n",
       "143   0 0 0 0 0 0 0 0 0 0 0 0 0 0 0 0 0 0 0 0 0 0 0 ...  \n",
       "187   0 0 0 0 0 0 0 0 1 0 0 1 0 0 0 0 0 0 0 0 0 0 0 ...  \n",
       "...                                                 ...  \n",
       "7205  0 0 0 0 0 0 0 0 0 0 0 0 0 0 0 0 0 0 0 0 0 0 0 ...  \n",
       "7249  0 0 0 0 0 0 0 0 0 0 0 1 0 0 0 0 0 0 0 0 0 0 0 ...  \n",
       "7293  0 0 0 0 0 0 0 0 0 0 0 0 0 0 0 0 0 0 0 0 0 0 0 ...  \n",
       "7337  0 0 0 0 0 0 0 0 0 0 0 0 0 0 0 0 0 0 0 0 0 0 0 ...  \n",
       "7384  0 0 0 0 0 0 0 0 0 0 0 0 0 0 0 0 0 0 0 1 0 0 0 ...  \n",
       "\n",
       "[166 rows x 7 columns]"
      ]
     },
     "execution_count": 128,
     "metadata": {},
     "output_type": "execute_result"
    }
   ],
   "source": [
    "##picking particular cell line, CAL-51\n",
    "#needed to isolate a cell line, otherwise the same drug will have different ic50 values due to the different cell lines\n",
    "data= newfile[newfile['cell_line'].str.contains('CAL-51',na=False)]\n",
    "data"
   ]
  },
  {
   "cell_type": "code",
   "execution_count": 129,
   "metadata": {},
   "outputs": [
    {
     "data": {
      "text/html": [
       "<div>\n",
       "<style scoped>\n",
       "    .dataframe tbody tr th:only-of-type {\n",
       "        vertical-align: middle;\n",
       "    }\n",
       "\n",
       "    .dataframe tbody tr th {\n",
       "        vertical-align: top;\n",
       "    }\n",
       "\n",
       "    .dataframe thead th {\n",
       "        text-align: right;\n",
       "    }\n",
       "</style>\n",
       "<table border=\"1\" class=\"dataframe\">\n",
       "  <thead>\n",
       "    <tr style=\"text-align: right;\">\n",
       "      <th></th>\n",
       "      <th>drug_id</th>\n",
       "      <th>ic50</th>\n",
       "      <th>SMILES</th>\n",
       "      <th>topo</th>\n",
       "      <th>circular</th>\n",
       "      <th>maccs</th>\n",
       "    </tr>\n",
       "  </thead>\n",
       "  <tbody>\n",
       "    <tr>\n",
       "      <th>0</th>\n",
       "      <td>1003</td>\n",
       "      <td>-3.521093</td>\n",
       "      <td>CCC1(C2=C(COC1=O)C(=O)N3CC4=CC5=CC=CC=C5N=C4C3...</td>\n",
       "      <td>1 1 1 0 0 1 1 1 1 0 1 1 1 0 0 0 1 1 1 1 0 1 1 ...</td>\n",
       "      <td>0 0 0 0 0 0 0 0 0 0 0 0 0 0 0 0 0 0 0 0 0 0 0 ...</td>\n",
       "      <td>0 0 0 0 0 0 0 0 0 0 0 0 0 0 0 0 0 0 0 0 0 0 0 ...</td>\n",
       "    </tr>\n",
       "    <tr>\n",
       "      <th>49</th>\n",
       "      <td>1004</td>\n",
       "      <td>-5.008028</td>\n",
       "      <td>CCC1(CC2CC(C3=C(CCN(C2)C1)C4=CC=CC=C4N3)(C5=C(...</td>\n",
       "      <td>1 1 1 1 1 1 1 1 1 1 1 1 1 1 1 1 1 1 1 1 1 1 1 ...</td>\n",
       "      <td>1 0 0 0 0 0 0 0 1 0 0 1 0 0 0 0 0 0 0 0 1 0 0 ...</td>\n",
       "      <td>0 0 0 0 0 0 0 0 0 0 0 0 0 0 0 0 0 0 0 0 0 0 0 ...</td>\n",
       "    </tr>\n",
       "    <tr>\n",
       "      <th>93</th>\n",
       "      <td>1005</td>\n",
       "      <td>2.492692</td>\n",
       "      <td>N.N.[Cl-].[Cl-].[Pt+2]</td>\n",
       "      <td>0 0 0 0 0 0 0 0 0 0 0 0 0 0 0 0 0 0 0 0 0 0 0 ...</td>\n",
       "      <td>0 0 0 0 0 0 0 0 0 0 0 0 0 0 0 0 0 0 0 0 0 0 0 ...</td>\n",
       "      <td>0 0 0 0 0 0 0 0 0 1 0 0 0 0 0 0 0 0 0 0 0 0 0 ...</td>\n",
       "    </tr>\n",
       "    <tr>\n",
       "      <th>143</th>\n",
       "      <td>1006</td>\n",
       "      <td>-1.082517</td>\n",
       "      <td>C1=CN(C(=O)N=C1N)C2C(C(C(O2)CO)O)O</td>\n",
       "      <td>1 0 1 0 1 1 1 0 1 1 1 0 1 1 1 0 1 0 1 0 1 1 1 ...</td>\n",
       "      <td>0 0 0 0 0 0 0 0 0 0 0 0 0 0 0 0 0 0 0 0 0 0 0 ...</td>\n",
       "      <td>0 0 0 0 0 0 0 0 0 0 0 0 0 0 0 0 0 0 0 0 0 0 0 ...</td>\n",
       "    </tr>\n",
       "    <tr>\n",
       "      <th>187</th>\n",
       "      <td>1007</td>\n",
       "      <td>-4.886498</td>\n",
       "      <td>CC1=C2C(C(=O)C3(C(CC4C(C3C(C(C2(C)C)(CC1OC(=O)...</td>\n",
       "      <td>1 1 1 1 0 1 1 0 1 1 1 1 1 0 1 1 0 0 1 1 1 0 1 ...</td>\n",
       "      <td>0 1 0 0 0 0 0 0 0 0 0 1 0 0 0 0 1 0 0 0 0 0 0 ...</td>\n",
       "      <td>0 0 0 0 0 0 0 0 1 0 0 1 0 0 0 0 0 0 0 0 0 0 0 ...</td>\n",
       "    </tr>\n",
       "    <tr>\n",
       "      <th>...</th>\n",
       "      <td>...</td>\n",
       "      <td>...</td>\n",
       "      <td>...</td>\n",
       "      <td>...</td>\n",
       "      <td>...</td>\n",
       "      <td>...</td>\n",
       "    </tr>\n",
       "    <tr>\n",
       "      <th>7205</th>\n",
       "      <td>2109</td>\n",
       "      <td>1.913550</td>\n",
       "      <td>CC1CN(CC(N1)C)C2=NC=C(C(=C2)C)C3=CC=C(C=C3)C4=...</td>\n",
       "      <td>1 1 1 1 0 1 1 1 0 1 0 1 0 1 1 0 0 0 0 1 1 0 1 ...</td>\n",
       "      <td>0 0 0 0 0 0 0 0 0 0 0 0 0 0 0 0 0 0 0 0 0 0 0 ...</td>\n",
       "      <td>0 0 0 0 0 0 0 0 0 0 0 0 0 0 0 0 0 0 0 0 0 0 0 ...</td>\n",
       "    </tr>\n",
       "    <tr>\n",
       "      <th>7249</th>\n",
       "      <td>2110</td>\n",
       "      <td>3.605307</td>\n",
       "      <td>C1CC(C1)NC2=NC=CC(=C2)C(=O)NCC(CN3CCC4=CC=CC=C...</td>\n",
       "      <td>1 1 1 0 1 1 0 1 1 0 1 1 0 0 0 1 1 0 0 0 0 0 0 ...</td>\n",
       "      <td>0 1 0 0 1 0 0 0 0 0 0 0 0 0 0 0 0 0 0 0 0 0 0 ...</td>\n",
       "      <td>0 0 0 0 0 0 0 0 0 0 0 1 0 0 0 0 0 0 0 0 0 0 0 ...</td>\n",
       "    </tr>\n",
       "    <tr>\n",
       "      <th>7293</th>\n",
       "      <td>2111</td>\n",
       "      <td>2.103111</td>\n",
       "      <td>CS(=O)(=O)C1=CC=C(C=C1)C2=CN=C(C(=N2)C(=O)NC3=...</td>\n",
       "      <td>1 1 0 1 0 1 0 0 0 0 1 1 0 1 0 1 0 0 0 1 0 1 0 ...</td>\n",
       "      <td>0 0 0 0 0 0 0 0 0 0 0 0 0 0 0 0 0 0 0 0 0 0 0 ...</td>\n",
       "      <td>0 0 0 0 0 0 0 0 0 0 0 0 0 0 0 0 0 0 0 0 0 0 0 ...</td>\n",
       "    </tr>\n",
       "    <tr>\n",
       "      <th>7337</th>\n",
       "      <td>2169</td>\n",
       "      <td>5.497304</td>\n",
       "      <td>CC1=CN2C(=O)C=C(N=C2C(=C1)C(C)NC3=CC=CC=C3C(=O...</td>\n",
       "      <td>1 1 0 1 1 1 0 0 0 1 1 1 0 1 0 1 1 1 1 0 0 1 0 ...</td>\n",
       "      <td>0 1 0 0 0 0 0 0 0 0 0 0 0 0 0 0 0 0 0 0 0 0 0 ...</td>\n",
       "      <td>0 0 0 0 0 0 0 0 0 0 0 0 0 0 0 0 0 0 0 0 0 0 0 ...</td>\n",
       "    </tr>\n",
       "    <tr>\n",
       "      <th>7384</th>\n",
       "      <td>2172</td>\n",
       "      <td>3.708490</td>\n",
       "      <td>CC1=C(SC2=C1C(=NC(C3=NN=C(N32)C)CC(=O)OC(C)(C)...</td>\n",
       "      <td>1 1 1 1 0 1 0 0 1 0 1 1 1 1 0 1 1 1 1 1 1 0 0 ...</td>\n",
       "      <td>0 0 0 0 0 0 0 0 0 0 0 0 0 0 0 0 1 0 0 0 0 0 0 ...</td>\n",
       "      <td>0 0 0 0 0 0 0 0 0 0 0 0 0 0 0 0 0 0 0 1 0 0 0 ...</td>\n",
       "    </tr>\n",
       "  </tbody>\n",
       "</table>\n",
       "<p>166 rows × 6 columns</p>\n",
       "</div>"
      ],
      "text/plain": [
       "      drug_id      ic50                                             SMILES  \\\n",
       "0        1003 -3.521093  CCC1(C2=C(COC1=O)C(=O)N3CC4=CC5=CC=CC=C5N=C4C3...   \n",
       "49       1004 -5.008028  CCC1(CC2CC(C3=C(CCN(C2)C1)C4=CC=CC=C4N3)(C5=C(...   \n",
       "93       1005  2.492692                             N.N.[Cl-].[Cl-].[Pt+2]   \n",
       "143      1006 -1.082517                 C1=CN(C(=O)N=C1N)C2C(C(C(O2)CO)O)O   \n",
       "187      1007 -4.886498  CC1=C2C(C(=O)C3(C(CC4C(C3C(C(C2(C)C)(CC1OC(=O)...   \n",
       "...       ...       ...                                                ...   \n",
       "7205     2109  1.913550  CC1CN(CC(N1)C)C2=NC=C(C(=C2)C)C3=CC=C(C=C3)C4=...   \n",
       "7249     2110  3.605307  C1CC(C1)NC2=NC=CC(=C2)C(=O)NCC(CN3CCC4=CC=CC=C...   \n",
       "7293     2111  2.103111  CS(=O)(=O)C1=CC=C(C=C1)C2=CN=C(C(=N2)C(=O)NC3=...   \n",
       "7337     2169  5.497304  CC1=CN2C(=O)C=C(N=C2C(=C1)C(C)NC3=CC=CC=C3C(=O...   \n",
       "7384     2172  3.708490  CC1=C(SC2=C1C(=NC(C3=NN=C(N32)C)CC(=O)OC(C)(C)...   \n",
       "\n",
       "                                                   topo  \\\n",
       "0     1 1 1 0 0 1 1 1 1 0 1 1 1 0 0 0 1 1 1 1 0 1 1 ...   \n",
       "49    1 1 1 1 1 1 1 1 1 1 1 1 1 1 1 1 1 1 1 1 1 1 1 ...   \n",
       "93    0 0 0 0 0 0 0 0 0 0 0 0 0 0 0 0 0 0 0 0 0 0 0 ...   \n",
       "143   1 0 1 0 1 1 1 0 1 1 1 0 1 1 1 0 1 0 1 0 1 1 1 ...   \n",
       "187   1 1 1 1 0 1 1 0 1 1 1 1 1 0 1 1 0 0 1 1 1 0 1 ...   \n",
       "...                                                 ...   \n",
       "7205  1 1 1 1 0 1 1 1 0 1 0 1 0 1 1 0 0 0 0 1 1 0 1 ...   \n",
       "7249  1 1 1 0 1 1 0 1 1 0 1 1 0 0 0 1 1 0 0 0 0 0 0 ...   \n",
       "7293  1 1 0 1 0 1 0 0 0 0 1 1 0 1 0 1 0 0 0 1 0 1 0 ...   \n",
       "7337  1 1 0 1 1 1 0 0 0 1 1 1 0 1 0 1 1 1 1 0 0 1 0 ...   \n",
       "7384  1 1 1 1 0 1 0 0 1 0 1 1 1 1 0 1 1 1 1 1 1 0 0 ...   \n",
       "\n",
       "                                               circular  \\\n",
       "0     0 0 0 0 0 0 0 0 0 0 0 0 0 0 0 0 0 0 0 0 0 0 0 ...   \n",
       "49    1 0 0 0 0 0 0 0 1 0 0 1 0 0 0 0 0 0 0 0 1 0 0 ...   \n",
       "93    0 0 0 0 0 0 0 0 0 0 0 0 0 0 0 0 0 0 0 0 0 0 0 ...   \n",
       "143   0 0 0 0 0 0 0 0 0 0 0 0 0 0 0 0 0 0 0 0 0 0 0 ...   \n",
       "187   0 1 0 0 0 0 0 0 0 0 0 1 0 0 0 0 1 0 0 0 0 0 0 ...   \n",
       "...                                                 ...   \n",
       "7205  0 0 0 0 0 0 0 0 0 0 0 0 0 0 0 0 0 0 0 0 0 0 0 ...   \n",
       "7249  0 1 0 0 1 0 0 0 0 0 0 0 0 0 0 0 0 0 0 0 0 0 0 ...   \n",
       "7293  0 0 0 0 0 0 0 0 0 0 0 0 0 0 0 0 0 0 0 0 0 0 0 ...   \n",
       "7337  0 1 0 0 0 0 0 0 0 0 0 0 0 0 0 0 0 0 0 0 0 0 0 ...   \n",
       "7384  0 0 0 0 0 0 0 0 0 0 0 0 0 0 0 0 1 0 0 0 0 0 0 ...   \n",
       "\n",
       "                                                  maccs  \n",
       "0     0 0 0 0 0 0 0 0 0 0 0 0 0 0 0 0 0 0 0 0 0 0 0 ...  \n",
       "49    0 0 0 0 0 0 0 0 0 0 0 0 0 0 0 0 0 0 0 0 0 0 0 ...  \n",
       "93    0 0 0 0 0 0 0 0 0 1 0 0 0 0 0 0 0 0 0 0 0 0 0 ...  \n",
       "143   0 0 0 0 0 0 0 0 0 0 0 0 0 0 0 0 0 0 0 0 0 0 0 ...  \n",
       "187   0 0 0 0 0 0 0 0 1 0 0 1 0 0 0 0 0 0 0 0 0 0 0 ...  \n",
       "...                                                 ...  \n",
       "7205  0 0 0 0 0 0 0 0 0 0 0 0 0 0 0 0 0 0 0 0 0 0 0 ...  \n",
       "7249  0 0 0 0 0 0 0 0 0 0 0 1 0 0 0 0 0 0 0 0 0 0 0 ...  \n",
       "7293  0 0 0 0 0 0 0 0 0 0 0 0 0 0 0 0 0 0 0 0 0 0 0 ...  \n",
       "7337  0 0 0 0 0 0 0 0 0 0 0 0 0 0 0 0 0 0 0 0 0 0 0 ...  \n",
       "7384  0 0 0 0 0 0 0 0 0 0 0 0 0 0 0 0 0 0 0 1 0 0 0 ...  \n",
       "\n",
       "[166 rows x 6 columns]"
      ]
     },
     "execution_count": 129,
     "metadata": {},
     "output_type": "execute_result"
    }
   ],
   "source": [
    "#removing unnecessary cell line column\n",
    "data.drop(['cell_line'], axis=1)"
   ]
  },
  {
   "cell_type": "markdown",
   "metadata": {},
   "source": [
    "# Training models (Topological Fingerprint)"
   ]
  },
  {
   "cell_type": "code",
   "execution_count": 130,
   "metadata": {},
   "outputs": [],
   "source": [
    "#importing necessary libraries\n",
    "import pandas as pd\n",
    "import sklearn\n",
    "from sklearn.model_selection import train_test_split\n",
    "from sklearn.linear_model import LinearRegression\n",
    "from sklearn import preprocessing\n",
    "from sklearn import utils\n",
    "from sklearn.metrics import mean_squared_error, r2_score\n",
    "import matplotlib.pyplot as plt\n",
    "from sklearn.ensemble import RandomForestRegressor"
   ]
  },
  {
   "cell_type": "code",
   "execution_count": 131,
   "metadata": {},
   "outputs": [],
   "source": [
    "#data.to_csv(\"cyinputdata_copy.csv\", index=False)\n",
    "data= pd.read_csv(\"/Users/floralam/cyinputdata_copy.csv\").drop(['cell_line'], axis=1)"
   ]
  },
  {
   "cell_type": "markdown",
   "metadata": {},
   "source": [
    "### Pre-processing of input data"
   ]
  },
  {
   "cell_type": "code",
   "execution_count": 132,
   "metadata": {},
   "outputs": [],
   "source": [
    "import numpy as np"
   ]
  },
  {
   "cell_type": "code",
   "execution_count": 133,
   "metadata": {},
   "outputs": [],
   "source": [
    "topo=data['topo']\n",
    "topo_x= topo.apply(lambda x: np.fromstring(x,dtype=int, sep=' '))\n",
    "X=topo_x\n",
    "y=data['ic50']"
   ]
  },
  {
   "cell_type": "code",
   "execution_count": 134,
   "metadata": {},
   "outputs": [
    {
     "data": {
      "text/html": [
       "<div>\n",
       "<style scoped>\n",
       "    .dataframe tbody tr th:only-of-type {\n",
       "        vertical-align: middle;\n",
       "    }\n",
       "\n",
       "    .dataframe tbody tr th {\n",
       "        vertical-align: top;\n",
       "    }\n",
       "\n",
       "    .dataframe thead tr th {\n",
       "        text-align: left;\n",
       "    }\n",
       "</style>\n",
       "<table border=\"1\" class=\"dataframe\">\n",
       "  <thead>\n",
       "    <tr>\n",
       "      <th></th>\n",
       "      <th>1</th>\n",
       "      <th>2</th>\n",
       "      <th>3</th>\n",
       "      <th>4</th>\n",
       "      <th>5</th>\n",
       "      <th>6</th>\n",
       "      <th>7</th>\n",
       "      <th>8</th>\n",
       "      <th>9</th>\n",
       "      <th>10</th>\n",
       "      <th>...</th>\n",
       "      <th>2039</th>\n",
       "      <th>2040</th>\n",
       "      <th>2041</th>\n",
       "      <th>2042</th>\n",
       "      <th>2043</th>\n",
       "      <th>2044</th>\n",
       "      <th>2045</th>\n",
       "      <th>2046</th>\n",
       "      <th>2047</th>\n",
       "      <th>2048</th>\n",
       "    </tr>\n",
       "  </thead>\n",
       "  <tbody>\n",
       "    <tr>\n",
       "      <th>0</th>\n",
       "      <td>1</td>\n",
       "      <td>1</td>\n",
       "      <td>1</td>\n",
       "      <td>0</td>\n",
       "      <td>0</td>\n",
       "      <td>1</td>\n",
       "      <td>1</td>\n",
       "      <td>1</td>\n",
       "      <td>1</td>\n",
       "      <td>0</td>\n",
       "      <td>...</td>\n",
       "      <td>1</td>\n",
       "      <td>1</td>\n",
       "      <td>1</td>\n",
       "      <td>1</td>\n",
       "      <td>1</td>\n",
       "      <td>1</td>\n",
       "      <td>1</td>\n",
       "      <td>1</td>\n",
       "      <td>0</td>\n",
       "      <td>1</td>\n",
       "    </tr>\n",
       "    <tr>\n",
       "      <th>1</th>\n",
       "      <td>1</td>\n",
       "      <td>1</td>\n",
       "      <td>1</td>\n",
       "      <td>1</td>\n",
       "      <td>1</td>\n",
       "      <td>1</td>\n",
       "      <td>1</td>\n",
       "      <td>1</td>\n",
       "      <td>1</td>\n",
       "      <td>1</td>\n",
       "      <td>...</td>\n",
       "      <td>1</td>\n",
       "      <td>1</td>\n",
       "      <td>1</td>\n",
       "      <td>1</td>\n",
       "      <td>0</td>\n",
       "      <td>1</td>\n",
       "      <td>1</td>\n",
       "      <td>1</td>\n",
       "      <td>1</td>\n",
       "      <td>1</td>\n",
       "    </tr>\n",
       "    <tr>\n",
       "      <th>2</th>\n",
       "      <td>0</td>\n",
       "      <td>0</td>\n",
       "      <td>0</td>\n",
       "      <td>0</td>\n",
       "      <td>0</td>\n",
       "      <td>0</td>\n",
       "      <td>0</td>\n",
       "      <td>0</td>\n",
       "      <td>0</td>\n",
       "      <td>0</td>\n",
       "      <td>...</td>\n",
       "      <td>0</td>\n",
       "      <td>0</td>\n",
       "      <td>0</td>\n",
       "      <td>0</td>\n",
       "      <td>0</td>\n",
       "      <td>0</td>\n",
       "      <td>0</td>\n",
       "      <td>0</td>\n",
       "      <td>0</td>\n",
       "      <td>0</td>\n",
       "    </tr>\n",
       "    <tr>\n",
       "      <th>3</th>\n",
       "      <td>1</td>\n",
       "      <td>0</td>\n",
       "      <td>1</td>\n",
       "      <td>0</td>\n",
       "      <td>1</td>\n",
       "      <td>1</td>\n",
       "      <td>1</td>\n",
       "      <td>0</td>\n",
       "      <td>1</td>\n",
       "      <td>1</td>\n",
       "      <td>...</td>\n",
       "      <td>1</td>\n",
       "      <td>1</td>\n",
       "      <td>0</td>\n",
       "      <td>1</td>\n",
       "      <td>1</td>\n",
       "      <td>1</td>\n",
       "      <td>0</td>\n",
       "      <td>1</td>\n",
       "      <td>1</td>\n",
       "      <td>1</td>\n",
       "    </tr>\n",
       "    <tr>\n",
       "      <th>4</th>\n",
       "      <td>1</td>\n",
       "      <td>1</td>\n",
       "      <td>1</td>\n",
       "      <td>1</td>\n",
       "      <td>0</td>\n",
       "      <td>1</td>\n",
       "      <td>1</td>\n",
       "      <td>0</td>\n",
       "      <td>1</td>\n",
       "      <td>1</td>\n",
       "      <td>...</td>\n",
       "      <td>1</td>\n",
       "      <td>0</td>\n",
       "      <td>1</td>\n",
       "      <td>1</td>\n",
       "      <td>0</td>\n",
       "      <td>1</td>\n",
       "      <td>1</td>\n",
       "      <td>0</td>\n",
       "      <td>0</td>\n",
       "      <td>1</td>\n",
       "    </tr>\n",
       "    <tr>\n",
       "      <th>...</th>\n",
       "      <td>...</td>\n",
       "      <td>...</td>\n",
       "      <td>...</td>\n",
       "      <td>...</td>\n",
       "      <td>...</td>\n",
       "      <td>...</td>\n",
       "      <td>...</td>\n",
       "      <td>...</td>\n",
       "      <td>...</td>\n",
       "      <td>...</td>\n",
       "      <td>...</td>\n",
       "      <td>...</td>\n",
       "      <td>...</td>\n",
       "      <td>...</td>\n",
       "      <td>...</td>\n",
       "      <td>...</td>\n",
       "      <td>...</td>\n",
       "      <td>...</td>\n",
       "      <td>...</td>\n",
       "      <td>...</td>\n",
       "      <td>...</td>\n",
       "    </tr>\n",
       "    <tr>\n",
       "      <th>161</th>\n",
       "      <td>1</td>\n",
       "      <td>1</td>\n",
       "      <td>1</td>\n",
       "      <td>1</td>\n",
       "      <td>0</td>\n",
       "      <td>1</td>\n",
       "      <td>1</td>\n",
       "      <td>1</td>\n",
       "      <td>0</td>\n",
       "      <td>1</td>\n",
       "      <td>...</td>\n",
       "      <td>1</td>\n",
       "      <td>0</td>\n",
       "      <td>0</td>\n",
       "      <td>1</td>\n",
       "      <td>1</td>\n",
       "      <td>1</td>\n",
       "      <td>0</td>\n",
       "      <td>1</td>\n",
       "      <td>0</td>\n",
       "      <td>1</td>\n",
       "    </tr>\n",
       "    <tr>\n",
       "      <th>162</th>\n",
       "      <td>1</td>\n",
       "      <td>1</td>\n",
       "      <td>1</td>\n",
       "      <td>0</td>\n",
       "      <td>1</td>\n",
       "      <td>1</td>\n",
       "      <td>0</td>\n",
       "      <td>1</td>\n",
       "      <td>1</td>\n",
       "      <td>0</td>\n",
       "      <td>...</td>\n",
       "      <td>1</td>\n",
       "      <td>0</td>\n",
       "      <td>0</td>\n",
       "      <td>1</td>\n",
       "      <td>0</td>\n",
       "      <td>0</td>\n",
       "      <td>0</td>\n",
       "      <td>0</td>\n",
       "      <td>1</td>\n",
       "      <td>1</td>\n",
       "    </tr>\n",
       "    <tr>\n",
       "      <th>163</th>\n",
       "      <td>1</td>\n",
       "      <td>1</td>\n",
       "      <td>0</td>\n",
       "      <td>1</td>\n",
       "      <td>0</td>\n",
       "      <td>1</td>\n",
       "      <td>0</td>\n",
       "      <td>0</td>\n",
       "      <td>0</td>\n",
       "      <td>0</td>\n",
       "      <td>...</td>\n",
       "      <td>1</td>\n",
       "      <td>1</td>\n",
       "      <td>0</td>\n",
       "      <td>1</td>\n",
       "      <td>0</td>\n",
       "      <td>1</td>\n",
       "      <td>1</td>\n",
       "      <td>0</td>\n",
       "      <td>0</td>\n",
       "      <td>1</td>\n",
       "    </tr>\n",
       "    <tr>\n",
       "      <th>164</th>\n",
       "      <td>1</td>\n",
       "      <td>1</td>\n",
       "      <td>0</td>\n",
       "      <td>1</td>\n",
       "      <td>1</td>\n",
       "      <td>1</td>\n",
       "      <td>0</td>\n",
       "      <td>0</td>\n",
       "      <td>0</td>\n",
       "      <td>1</td>\n",
       "      <td>...</td>\n",
       "      <td>1</td>\n",
       "      <td>0</td>\n",
       "      <td>1</td>\n",
       "      <td>1</td>\n",
       "      <td>1</td>\n",
       "      <td>0</td>\n",
       "      <td>1</td>\n",
       "      <td>1</td>\n",
       "      <td>0</td>\n",
       "      <td>1</td>\n",
       "    </tr>\n",
       "    <tr>\n",
       "      <th>165</th>\n",
       "      <td>1</td>\n",
       "      <td>1</td>\n",
       "      <td>1</td>\n",
       "      <td>1</td>\n",
       "      <td>0</td>\n",
       "      <td>1</td>\n",
       "      <td>0</td>\n",
       "      <td>0</td>\n",
       "      <td>1</td>\n",
       "      <td>0</td>\n",
       "      <td>...</td>\n",
       "      <td>0</td>\n",
       "      <td>1</td>\n",
       "      <td>1</td>\n",
       "      <td>0</td>\n",
       "      <td>1</td>\n",
       "      <td>1</td>\n",
       "      <td>0</td>\n",
       "      <td>1</td>\n",
       "      <td>1</td>\n",
       "      <td>1</td>\n",
       "    </tr>\n",
       "  </tbody>\n",
       "</table>\n",
       "<p>166 rows × 2048 columns</p>\n",
       "</div>"
      ],
      "text/plain": [
       "    1    2    3    4    5    6    7    8    9    10    ... 2039 2040 2041  \\\n",
       "0      1    1    1    0    0    1    1    1    1    0  ...    1    1    1   \n",
       "1      1    1    1    1    1    1    1    1    1    1  ...    1    1    1   \n",
       "2      0    0    0    0    0    0    0    0    0    0  ...    0    0    0   \n",
       "3      1    0    1    0    1    1    1    0    1    1  ...    1    1    0   \n",
       "4      1    1    1    1    0    1    1    0    1    1  ...    1    0    1   \n",
       "..   ...  ...  ...  ...  ...  ...  ...  ...  ...  ...  ...  ...  ...  ...   \n",
       "161    1    1    1    1    0    1    1    1    0    1  ...    1    0    0   \n",
       "162    1    1    1    0    1    1    0    1    1    0  ...    1    0    0   \n",
       "163    1    1    0    1    0    1    0    0    0    0  ...    1    1    0   \n",
       "164    1    1    0    1    1    1    0    0    0    1  ...    1    0    1   \n",
       "165    1    1    1    1    0    1    0    0    1    0  ...    0    1    1   \n",
       "\n",
       "    2042 2043 2044 2045 2046 2047 2048  \n",
       "0      1    1    1    1    1    0    1  \n",
       "1      1    0    1    1    1    1    1  \n",
       "2      0    0    0    0    0    0    0  \n",
       "3      1    1    1    0    1    1    1  \n",
       "4      1    0    1    1    0    0    1  \n",
       "..   ...  ...  ...  ...  ...  ...  ...  \n",
       "161    1    1    1    0    1    0    1  \n",
       "162    1    0    0    0    0    1    1  \n",
       "163    1    0    1    1    0    0    1  \n",
       "164    1    1    0    1    1    0    1  \n",
       "165    0    1    1    0    1    1    1  \n",
       "\n",
       "[166 rows x 2048 columns]"
      ]
     },
     "execution_count": 134,
     "metadata": {},
     "output_type": "execute_result"
    }
   ],
   "source": [
    "X=pd.DataFrame(columns=[np.arange(1,2049)])\n",
    "#\n",
    "for i in range(0,len(topo_x)):\n",
    "    X = X.append( pd.Series(topo_x[i], index=X.columns ),ignore_index=True)\n",
    "X"
   ]
  },
  {
   "cell_type": "code",
   "execution_count": 135,
   "metadata": {},
   "outputs": [
    {
     "data": {
      "text/plain": [
       "0     -3.521093\n",
       "1     -5.008028\n",
       "2      2.492692\n",
       "3     -1.082517\n",
       "4     -4.886498\n",
       "         ...   \n",
       "161    1.913550\n",
       "162    3.605307\n",
       "163    2.103111\n",
       "164    5.497304\n",
       "165    3.708490\n",
       "Name: ic50, Length: 166, dtype: float64"
      ]
     },
     "execution_count": 135,
     "metadata": {},
     "output_type": "execute_result"
    }
   ],
   "source": [
    "y"
   ]
  },
  {
   "cell_type": "markdown",
   "metadata": {},
   "source": [
    "### Linear Regression Model"
   ]
  },
  {
   "cell_type": "code",
   "execution_count": 136,
   "metadata": {},
   "outputs": [
    {
     "name": "stdout",
     "output_type": "stream",
     "text": [
      "The model score for linear regression model is -2.7373377563570074e+25\n",
      "The accuracy score for linear regression model is -431325256781176.4\n"
     ]
    }
   ],
   "source": [
    "#creating test and training set\n",
    "X_train,X_test,y_train,y_test=train_test_split(X,y,test_size=0.3,random_state=0)\n",
    "model= LinearRegression()\n",
    "model.fit(X_train,y_train)\n",
    "y_pred=model.predict(X_test)\n",
    "\n",
    "print(\"The model score for linear regression model is\",model.score(X_test,y_test))\n",
    "#determining the accuracy\n",
    "linreg_error=abs(y_pred-y_test)\n",
    "linreg_mape=100*(linreg_error/y_test)\n",
    "print(\"The accuracy score for linear regression model is\",100-np.mean(linreg_mape))"
   ]
  },
  {
   "cell_type": "markdown",
   "metadata": {},
   "source": [
    "### Random Forest "
   ]
  },
  {
   "cell_type": "code",
   "execution_count": 137,
   "metadata": {},
   "outputs": [
    {
     "name": "stdout",
     "output_type": "stream",
     "text": [
      "The correlation score for training set is: 0.887216499074462\n",
      "The correlation score for test set is: 0.2605417993987684\n",
      "The accuracy score for random forest model is 76.48187653571068\n"
     ]
    }
   ],
   "source": [
    "X_train,X_test,y_train,y_test=train_test_split(X,y,test_size=0.3,random_state=0)\n",
    "rfmodel= RandomForestRegressor(n_estimators=100)\n",
    "rfmodel.fit(X_train,y_train)\n",
    "\n",
    "#without feature selection\n",
    "#score gives you correlation\n",
    "rf_predict=rfmodel.predict(X_test)\n",
    "\n",
    "print(\"The correlation score for training set is:\",rfmodel.score(X_train,y_train))\n",
    "print(\"The correlation score for test set is:\",rfmodel.score(X_test,y_test))\n",
    "\n",
    "#determining the accuracy\n",
    "errors=abs(rf_predict-y_test)\n",
    "mape=100*(errors/y_test)\n",
    "print(\"The accuracy score for random forest model is\",100-np.mean(mape))"
   ]
  },
  {
   "cell_type": "markdown",
   "metadata": {},
   "source": [
    "### Support Vector Regression"
   ]
  },
  {
   "cell_type": "code",
   "execution_count": 138,
   "metadata": {},
   "outputs": [
    {
     "name": "stdout",
     "output_type": "stream",
     "text": [
      "The R^2 value for training set is: 0.47684616468069385\n",
      "The R^2 value for test set is: 0.10097947060545376\n",
      "The accuracy score for svr model is 94.5880273508109\n"
     ]
    }
   ],
   "source": [
    "#importing necessary files\n",
    "from sklearn.svm import SVR\n",
    "\n",
    "#creating test and training set\n",
    "X_train,X_test,y_train,y_test=train_test_split(X,y,test_size=0.3,random_state=0)\n",
    "svrmodel= SVR(C=1.0, epsilon=0.2)\n",
    "svrmodel.fit(X_train,y_train)\n",
    "\n",
    "svr_predict=svrmodel.predict(X_test)\n",
    "\n",
    "#Accordint to the documentation, the score returns the coefficient of determination R^2 of the prediction\n",
    "print(\"The R^2 value for training set is:\",svrmodel.score(X_train,y_train))\n",
    "print(\"The R^2 value for test set is:\",svrmodel.score(X_test,y_test))\n",
    "\n",
    "#determining the accuracy\n",
    "svrerrors=abs(svr_predict-y_test)\n",
    "svrmape=100*(svrerrors/y_test)\n",
    "print(\"The accuracy score for svr model is\",100-np.mean(svrmape))"
   ]
  },
  {
   "cell_type": "markdown",
   "metadata": {},
   "source": [
    "__Summary of data__\n",
    "<br>\n",
    "The accuracy scores for the various models are as follows:<br>\n",
    "Linear regression: -21555539930583.164 <br>\n",
    "Random forest: 76.47653918094059 <br>\n",
    "SVR: 94.5880273508109 <br>"
   ]
  },
  {
   "cell_type": "markdown",
   "metadata": {},
   "source": [
    "## Feature selection (Using Lasso Regression)"
   ]
  },
  {
   "cell_type": "code",
   "execution_count": 139,
   "metadata": {},
   "outputs": [
    {
     "data": {
      "text/plain": [
       "Lasso(alpha=0.3, copy_X=True, fit_intercept=True, max_iter=1000,\n",
       "      normalize=False, positive=False, precompute=False, random_state=None,\n",
       "      selection='cyclic', tol=0.0001, warm_start=False)"
      ]
     },
     "execution_count": 139,
     "metadata": {},
     "output_type": "execute_result"
    }
   ],
   "source": [
    "from sklearn.linear_model import Lasso\n",
    "from sklearn.feature_selection import SelectFromModel\n",
    "from sklearn.preprocessing import StandardScaler\n",
    "\n",
    "#scaler = StandardScaler()\n",
    "#X_scale= scaler.fit_transform(X)\n",
    "X_train,X_test,y_train,y_test = train_test_split(X,y,test_size=0.3, random_state=0)\n",
    "lasso = Lasso(alpha=.3)\n",
    "lasso.fit(X, y)"
   ]
  },
  {
   "cell_type": "code",
   "execution_count": 140,
   "metadata": {},
   "outputs": [
    {
     "data": {
      "text/plain": [
       "-2.9223085513503055"
      ]
     },
     "execution_count": 140,
     "metadata": {},
     "output_type": "execute_result"
    }
   ],
   "source": [
    "lasso.coef_.sum()"
   ]
  },
  {
   "cell_type": "code",
   "execution_count": 141,
   "metadata": {},
   "outputs": [],
   "source": [
    "#by doing the step below,it allows the sum of all the feature importance to be 1\n",
    "lasso_recoef= lasso.coef_/lasso.coef_.sum()"
   ]
  },
  {
   "cell_type": "code",
   "execution_count": 142,
   "metadata": {},
   "outputs": [
    {
     "data": {
      "text/html": [
       "<div>\n",
       "<style scoped>\n",
       "    .dataframe tbody tr th:only-of-type {\n",
       "        vertical-align: middle;\n",
       "    }\n",
       "\n",
       "    .dataframe tbody tr th {\n",
       "        vertical-align: top;\n",
       "    }\n",
       "\n",
       "    .dataframe thead th {\n",
       "        text-align: right;\n",
       "    }\n",
       "</style>\n",
       "<table border=\"1\" class=\"dataframe\">\n",
       "  <thead>\n",
       "    <tr style=\"text-align: right;\">\n",
       "      <th></th>\n",
       "      <th>importance</th>\n",
       "    </tr>\n",
       "  </thead>\n",
       "  <tbody>\n",
       "    <tr>\n",
       "      <th>302</th>\n",
       "      <td>0.185871</td>\n",
       "    </tr>\n",
       "    <tr>\n",
       "      <th>437</th>\n",
       "      <td>0.172565</td>\n",
       "    </tr>\n",
       "    <tr>\n",
       "      <th>205</th>\n",
       "      <td>0.127155</td>\n",
       "    </tr>\n",
       "    <tr>\n",
       "      <th>217</th>\n",
       "      <td>0.093370</td>\n",
       "    </tr>\n",
       "    <tr>\n",
       "      <th>1982</th>\n",
       "      <td>0.088324</td>\n",
       "    </tr>\n",
       "    <tr>\n",
       "      <th>...</th>\n",
       "      <td>...</td>\n",
       "    </tr>\n",
       "    <tr>\n",
       "      <th>683</th>\n",
       "      <td>0.000000</td>\n",
       "    </tr>\n",
       "    <tr>\n",
       "      <th>682</th>\n",
       "      <td>0.000000</td>\n",
       "    </tr>\n",
       "    <tr>\n",
       "      <th>681</th>\n",
       "      <td>-0.000000</td>\n",
       "    </tr>\n",
       "    <tr>\n",
       "      <th>680</th>\n",
       "      <td>0.000000</td>\n",
       "    </tr>\n",
       "    <tr>\n",
       "      <th>2048</th>\n",
       "      <td>0.000000</td>\n",
       "    </tr>\n",
       "  </tbody>\n",
       "</table>\n",
       "<p>2048 rows × 1 columns</p>\n",
       "</div>"
      ],
      "text/plain": [
       "      importance\n",
       "302     0.185871\n",
       "437     0.172565\n",
       "205     0.127155\n",
       "217     0.093370\n",
       "1982    0.088324\n",
       "...          ...\n",
       "683     0.000000\n",
       "682     0.000000\n",
       "681    -0.000000\n",
       "680     0.000000\n",
       "2048    0.000000\n",
       "\n",
       "[2048 rows x 1 columns]"
      ]
     },
     "execution_count": 142,
     "metadata": {},
     "output_type": "execute_result"
    }
   ],
   "source": [
    "feature_importance= pd.DataFrame(lasso_recoef,\\\n",
    "                                 index = X.columns,\\\n",
    "                                 columns=['importance']).sort_values('importance', ascending=False)\n",
    "feature_importance.round(6)"
   ]
  },
  {
   "cell_type": "code",
   "execution_count": 143,
   "metadata": {},
   "outputs": [
    {
     "data": {
      "text/plain": [
       "Text(0, 0.5, 'Number of Features')"
      ]
     },
     "execution_count": 143,
     "metadata": {},
     "output_type": "execute_result"
    },
    {
     "data": {
      "image/png": "[encoded data removed]",
      "text/plain": [
       "<Figure size 1728x864 with 1 Axes>"
      ]
     },
     "metadata": {},
     "output_type": "display_data"
    }
   ],
   "source": [
    "#identifying the relative importance of features within a fingerprint\n",
    "import seaborn as sb\n",
    "#histogram without feature selection\n",
    "sb.set(font_scale=2)\n",
    "f, axes = plt.subplots(1, 1, figsize=(24, 12))\n",
    "a= sb.distplot(feature_importance, kde = False, color = \"blue\", axlabel=\"Feature Importance\")\n",
    "a.set_ylabel(\"Number of Features\")"
   ]
  },
  {
   "cell_type": "code",
   "execution_count": 144,
   "metadata": {},
   "outputs": [
    {
     "data": {
      "text/html": [
       "<div>\n",
       "<style scoped>\n",
       "    .dataframe tbody tr th:only-of-type {\n",
       "        vertical-align: middle;\n",
       "    }\n",
       "\n",
       "    .dataframe tbody tr th {\n",
       "        vertical-align: top;\n",
       "    }\n",
       "\n",
       "    .dataframe thead th {\n",
       "        text-align: right;\n",
       "    }\n",
       "</style>\n",
       "<table border=\"1\" class=\"dataframe\">\n",
       "  <thead>\n",
       "    <tr style=\"text-align: right;\">\n",
       "      <th></th>\n",
       "      <th>importance</th>\n",
       "    </tr>\n",
       "  </thead>\n",
       "  <tbody>\n",
       "    <tr>\n",
       "      <th>302</th>\n",
       "      <td>0.185871</td>\n",
       "    </tr>\n",
       "    <tr>\n",
       "      <th>437</th>\n",
       "      <td>0.172565</td>\n",
       "    </tr>\n",
       "    <tr>\n",
       "      <th>205</th>\n",
       "      <td>0.127155</td>\n",
       "    </tr>\n",
       "    <tr>\n",
       "      <th>217</th>\n",
       "      <td>0.093370</td>\n",
       "    </tr>\n",
       "    <tr>\n",
       "      <th>1982</th>\n",
       "      <td>0.088324</td>\n",
       "    </tr>\n",
       "    <tr>\n",
       "      <th>...</th>\n",
       "      <td>...</td>\n",
       "    </tr>\n",
       "    <tr>\n",
       "      <th>1293</th>\n",
       "      <td>0.000000</td>\n",
       "    </tr>\n",
       "    <tr>\n",
       "      <th>1292</th>\n",
       "      <td>0.000000</td>\n",
       "    </tr>\n",
       "    <tr>\n",
       "      <th>1291</th>\n",
       "      <td>0.000000</td>\n",
       "    </tr>\n",
       "    <tr>\n",
       "      <th>1290</th>\n",
       "      <td>0.000000</td>\n",
       "    </tr>\n",
       "    <tr>\n",
       "      <th>1289</th>\n",
       "      <td>0.000000</td>\n",
       "    </tr>\n",
       "  </tbody>\n",
       "</table>\n",
       "<p>100 rows × 1 columns</p>\n",
       "</div>"
      ],
      "text/plain": [
       "      importance\n",
       "302     0.185871\n",
       "437     0.172565\n",
       "205     0.127155\n",
       "217     0.093370\n",
       "1982    0.088324\n",
       "...          ...\n",
       "1293    0.000000\n",
       "1292    0.000000\n",
       "1291    0.000000\n",
       "1290    0.000000\n",
       "1289    0.000000\n",
       "\n",
       "[100 rows x 1 columns]"
      ]
     },
     "execution_count": 144,
     "metadata": {},
     "output_type": "execute_result"
    }
   ],
   "source": [
    "#select these indexes and get those respective features from X\n",
    "feature_lasso=feature_importance[0:100]\n",
    "feature_lasso"
   ]
  },
  {
   "cell_type": "code",
   "execution_count": 145,
   "metadata": {},
   "outputs": [
    {
     "name": "stdout",
     "output_type": "stream",
     "text": [
      "    302  437  205  217  1982 1383 1509 1392 576  1703  ... 1298 1297 1296  \\\n",
      "0      1    1    1    1    1    1    1    1    1    1  ...    1    1    1   \n",
      "1      1    1    1    1    1    1    1    1    1    1  ...    1    1    1   \n",
      "2      0    0    0    0    0    0    0    0    0    0  ...    0    0    0   \n",
      "3      0    0    1    1    1    0    1    1    1    1  ...    0    0    0   \n",
      "4      1    1    1    1    1    1    1    1    1    1  ...    1    0    0   \n",
      "..   ...  ...  ...  ...  ...  ...  ...  ...  ...  ...  ...  ...  ...  ...   \n",
      "161    1    1    1    1    0    0    0    0    0    1  ...    0    0    0   \n",
      "162    0    1    1    1    0    0    1    0    0    0  ...    1    1    0   \n",
      "163    0    0    0    0    0    0    0    0    1    1  ...    0    0    1   \n",
      "164    0    0    0    0    0    0    1    0    0    0  ...    0    1    1   \n",
      "165    0    0    1    0    0    1    1    1    0    1  ...    1    1    0   \n",
      "\n",
      "    1295 1294 1293 1292 1291 1290 1289  \n",
      "0      1    1    1    1    1    0    1  \n",
      "1      1    1    1    1    1    1    1  \n",
      "2      0    0    0    0    0    0    0  \n",
      "3      1    0    0    0    1    0    1  \n",
      "4      0    1    1    1    1    1    0  \n",
      "..   ...  ...  ...  ...  ...  ...  ...  \n",
      "161    0    1    1    1    1    1    0  \n",
      "162    0    0    1    0    0    0    0  \n",
      "163    0    0    1    0    0    0    1  \n",
      "164    1    0    0    0    0    0    1  \n",
      "165    0    1    0    1    0    1    0  \n",
      "\n",
      "[166 rows x 100 columns]\n"
     ]
    }
   ],
   "source": [
    "print(X[feature_lasso.index])"
   ]
  },
  {
   "cell_type": "code",
   "execution_count": 146,
   "metadata": {},
   "outputs": [
    {
     "data": {
      "text/plain": [
       "Text(0, 0.5, 'Number of Features')"
      ]
     },
     "execution_count": 146,
     "metadata": {},
     "output_type": "execute_result"
    },
    {
     "data": {
      "image/png": "[encoded data removed]",
      "text/plain": [
       "<Figure size 1728x864 with 1 Axes>"
      ]
     },
     "metadata": {},
     "output_type": "display_data"
    }
   ],
   "source": [
    "#plotting histogram for features after feature selection\n",
    "import seaborn as sb\n",
    "\n",
    "f, axes = plt.subplots(1, 1, figsize=(24, 12))\n",
    "sb.distplot(feature_lasso, kde = False, color = \"purple\",axlabel=\"Feature Importance\")\n",
    "axes.set_ylabel(\"Number of Features\")"
   ]
  },
  {
   "cell_type": "code",
   "execution_count": 147,
   "metadata": {},
   "outputs": [
    {
     "name": "stdout",
     "output_type": "stream",
     "text": [
      "The model score for linear regression model is -7.263067245547605\n",
      "The accuracy score for linear lasso regression model is: -95.60106609129517\n"
     ]
    }
   ],
   "source": [
    "#creating test and training set after feature selection\n",
    "X_lasso_train,X_lasso_test,y_lasso_train,y_lasso_test=train_test_split(X[feature_lasso.index],y,test_size=0.3,random_state=0)\n",
    "lassomodel= LinearRegression()\n",
    "lassomodel.fit(X_lasso_train,y_lasso_train)\n",
    "y_lassopred=lassomodel.predict(X_lasso_test)\n",
    "\n",
    "#new model score after feature selection\n",
    "print(\"The model score for linear regression model is\",lassomodel.score(X_lasso_test,y_lasso_test))\n",
    "\n",
    "#determining the accuracy score\n",
    "lassolinreg_error=abs(y_lassopred-y_lasso_test)\n",
    "lassolinreg_mape=100*(lassolinreg_error/y_lasso_test)\n",
    "print(\"The accuracy score for linear lasso regression model is:\",100-np.mean(lassolinreg_mape))"
   ]
  },
  {
   "cell_type": "markdown",
   "metadata": {},
   "source": [
    "## Feature selection (Using SVM RFE)"
   ]
  },
  {
   "cell_type": "code",
   "execution_count": 148,
   "metadata": {},
   "outputs": [],
   "source": [
    "import pandas as pd\n",
    "from sklearn.feature_selection import RFE\n",
    "from sklearn.svm import SVR\n",
    "svrmodel= SVR(kernel=\"linear\") #read online that rfe only works when kernel is linear, not sure what is the effect\n",
    "rfe= RFE(svrmodel,n_features_to_select=100, step=1)\n",
    "rfe= rfe.fit(X,y)"
   ]
  },
  {
   "cell_type": "code",
   "execution_count": 149,
   "metadata": {},
   "outputs": [
    {
     "data": {
      "text/plain": [
       "array([1476,  524,    1, ..., 1120,  101, 1937])"
      ]
     },
     "execution_count": 149,
     "metadata": {},
     "output_type": "execute_result"
    }
   ],
   "source": [
    "rfe.ranking_"
   ]
  },
  {
   "cell_type": "code",
   "execution_count": 150,
   "metadata": {},
   "outputs": [
    {
     "data": {
      "text/plain": [
       "1900374"
      ]
     },
     "execution_count": 150,
     "metadata": {},
     "output_type": "execute_result"
    }
   ],
   "source": [
    "rfe.ranking_.sum()"
   ]
  },
  {
   "cell_type": "markdown",
   "metadata": {},
   "source": [
    "Because the sum of feature importance is not 1, a new variable was created so that the feature importance would be relative, and the sum is 1"
   ]
  },
  {
   "cell_type": "code",
   "execution_count": 151,
   "metadata": {},
   "outputs": [],
   "source": [
    "rfe_rerank=rfe.ranking_/rfe.ranking_.sum()"
   ]
  },
  {
   "cell_type": "code",
   "execution_count": 152,
   "metadata": {},
   "outputs": [
    {
     "data": {
      "text/html": [
       "<div>\n",
       "<style scoped>\n",
       "    .dataframe tbody tr th:only-of-type {\n",
       "        vertical-align: middle;\n",
       "    }\n",
       "\n",
       "    .dataframe tbody tr th {\n",
       "        vertical-align: top;\n",
       "    }\n",
       "\n",
       "    .dataframe thead th {\n",
       "        text-align: right;\n",
       "    }\n",
       "</style>\n",
       "<table border=\"1\" class=\"dataframe\">\n",
       "  <thead>\n",
       "    <tr style=\"text-align: right;\">\n",
       "      <th></th>\n",
       "      <th>importance</th>\n",
       "    </tr>\n",
       "  </thead>\n",
       "  <tbody>\n",
       "    <tr>\n",
       "      <th>1689</th>\n",
       "      <td>0.001026</td>\n",
       "    </tr>\n",
       "    <tr>\n",
       "      <th>1426</th>\n",
       "      <td>0.001025</td>\n",
       "    </tr>\n",
       "    <tr>\n",
       "      <th>848</th>\n",
       "      <td>0.001025</td>\n",
       "    </tr>\n",
       "    <tr>\n",
       "      <th>474</th>\n",
       "      <td>0.001024</td>\n",
       "    </tr>\n",
       "    <tr>\n",
       "      <th>702</th>\n",
       "      <td>0.001023</td>\n",
       "    </tr>\n",
       "    <tr>\n",
       "      <th>...</th>\n",
       "      <td>...</td>\n",
       "    </tr>\n",
       "    <tr>\n",
       "      <th>911</th>\n",
       "      <td>0.000001</td>\n",
       "    </tr>\n",
       "    <tr>\n",
       "      <th>910</th>\n",
       "      <td>0.000001</td>\n",
       "    </tr>\n",
       "    <tr>\n",
       "      <th>1503</th>\n",
       "      <td>0.000001</td>\n",
       "    </tr>\n",
       "    <tr>\n",
       "      <th>399</th>\n",
       "      <td>0.000001</td>\n",
       "    </tr>\n",
       "    <tr>\n",
       "      <th>475</th>\n",
       "      <td>0.000001</td>\n",
       "    </tr>\n",
       "  </tbody>\n",
       "</table>\n",
       "<p>2048 rows × 1 columns</p>\n",
       "</div>"
      ],
      "text/plain": [
       "      importance\n",
       "1689    0.001026\n",
       "1426    0.001025\n",
       "848     0.001025\n",
       "474     0.001024\n",
       "702     0.001023\n",
       "...          ...\n",
       "911     0.000001\n",
       "910     0.000001\n",
       "1503    0.000001\n",
       "399     0.000001\n",
       "475     0.000001\n",
       "\n",
       "[2048 rows x 1 columns]"
      ]
     },
     "execution_count": 152,
     "metadata": {},
     "output_type": "execute_result"
    }
   ],
   "source": [
    "feature_importance= pd.DataFrame(rfe_rerank,\\\n",
    "                                   index = X.columns,\\\n",
    "                                   columns=['importance']).sort_values('importance', ascending=False)\n",
    "feature_importance.round(6)"
   ]
  },
  {
   "cell_type": "code",
   "execution_count": 153,
   "metadata": {},
   "outputs": [
    {
     "data": {
      "text/plain": [
       "importance    1.0\n",
       "dtype: float64"
      ]
     },
     "execution_count": 153,
     "metadata": {},
     "output_type": "execute_result"
    }
   ],
   "source": [
    "feature_importance.sum()"
   ]
  },
  {
   "cell_type": "code",
   "execution_count": 154,
   "metadata": {},
   "outputs": [
    {
     "data": {
      "text/plain": [
       "Text(0, 0.5, 'Number of Features')"
      ]
     },
     "execution_count": 154,
     "metadata": {},
     "output_type": "execute_result"
    },
    {
     "data": {
      "image/png": "[encoded data removed]",
      "text/plain": [
       "<Figure size 1728x864 with 1 Axes>"
      ]
     },
     "metadata": {},
     "output_type": "display_data"
    }
   ],
   "source": [
    "#identifying the relative importance of features within a fingerprint\n",
    "import seaborn as sb\n",
    "#histogram without feature selection\n",
    "sb.set(font_scale=2)\n",
    "f, axes = plt.subplots(1, 1, figsize=(24, 12))\n",
    "a= sb.distplot(feature_importance, kde = False, color = \"green\", axlabel=\"Feature Importance\")\n",
    "a.set_ylabel(\"Number of Features\")"
   ]
  },
  {
   "cell_type": "code",
   "execution_count": 155,
   "metadata": {},
   "outputs": [
    {
     "data": {
      "text/html": [
       "<div>\n",
       "<style scoped>\n",
       "    .dataframe tbody tr th:only-of-type {\n",
       "        vertical-align: middle;\n",
       "    }\n",
       "\n",
       "    .dataframe tbody tr th {\n",
       "        vertical-align: top;\n",
       "    }\n",
       "\n",
       "    .dataframe thead th {\n",
       "        text-align: right;\n",
       "    }\n",
       "</style>\n",
       "<table border=\"1\" class=\"dataframe\">\n",
       "  <thead>\n",
       "    <tr style=\"text-align: right;\">\n",
       "      <th></th>\n",
       "      <th>importance</th>\n",
       "    </tr>\n",
       "  </thead>\n",
       "  <tbody>\n",
       "    <tr>\n",
       "      <th>1689</th>\n",
       "      <td>0.001026</td>\n",
       "    </tr>\n",
       "    <tr>\n",
       "      <th>1426</th>\n",
       "      <td>0.001025</td>\n",
       "    </tr>\n",
       "    <tr>\n",
       "      <th>848</th>\n",
       "      <td>0.001025</td>\n",
       "    </tr>\n",
       "    <tr>\n",
       "      <th>474</th>\n",
       "      <td>0.001024</td>\n",
       "    </tr>\n",
       "    <tr>\n",
       "      <th>702</th>\n",
       "      <td>0.001023</td>\n",
       "    </tr>\n",
       "    <tr>\n",
       "      <th>...</th>\n",
       "      <td>...</td>\n",
       "    </tr>\n",
       "    <tr>\n",
       "      <th>1346</th>\n",
       "      <td>0.000976</td>\n",
       "    </tr>\n",
       "    <tr>\n",
       "      <th>1220</th>\n",
       "      <td>0.000975</td>\n",
       "    </tr>\n",
       "    <tr>\n",
       "      <th>685</th>\n",
       "      <td>0.000975</td>\n",
       "    </tr>\n",
       "    <tr>\n",
       "      <th>742</th>\n",
       "      <td>0.000974</td>\n",
       "    </tr>\n",
       "    <tr>\n",
       "      <th>68</th>\n",
       "      <td>0.000973</td>\n",
       "    </tr>\n",
       "  </tbody>\n",
       "</table>\n",
       "<p>100 rows × 1 columns</p>\n",
       "</div>"
      ],
      "text/plain": [
       "      importance\n",
       "1689    0.001026\n",
       "1426    0.001025\n",
       "848     0.001025\n",
       "474     0.001024\n",
       "702     0.001023\n",
       "...          ...\n",
       "1346    0.000976\n",
       "1220    0.000975\n",
       "685     0.000975\n",
       "742     0.000974\n",
       "68      0.000973\n",
       "\n",
       "[100 rows x 1 columns]"
      ]
     },
     "execution_count": 155,
     "metadata": {},
     "output_type": "execute_result"
    }
   ],
   "source": [
    "#select these indexes and get those respective features from X\n",
    "feature_sel=feature_importance[0:100]\n",
    "feature_sel"
   ]
  },
  {
   "cell_type": "code",
   "execution_count": 156,
   "metadata": {},
   "outputs": [
    {
     "name": "stdout",
     "output_type": "stream",
     "text": [
      "    1689 1426 848  474  702  1049 1107 389  1313 1097  ... 1261 1604 843   \\\n",
      "0      1    1    1    1    1    0    1    1    1    1  ...    1    1    1   \n",
      "1      0    1    1    1    1    1    1    1    1    1  ...    1    1    1   \n",
      "2      0    0    0    0    0    0    0    0    0    0  ...    0    0    0   \n",
      "3      1    1    0    0    1    0    1    0    1    1  ...    1    1    1   \n",
      "4      1    0    0    1    1    0    0    0    0    1  ...    1    1    1   \n",
      "..   ...  ...  ...  ...  ...  ...  ...  ...  ...  ...  ...  ...  ...  ...   \n",
      "161    1    0    1    1    1    0    1    1    1    0  ...    1    0    1   \n",
      "162    0    0    1    1    0    1    0    0    0    0  ...    0    1    1   \n",
      "163    0    0    1    0    0    0    0    0    1    0  ...    0    1    1   \n",
      "164    0    0    0    1    0    1    1    0    1    1  ...    0    1    1   \n",
      "165    0    0    0    1    1    1    1    1    1    1  ...    0    1    1   \n",
      "\n",
      "    498  744  1346 1220 685  742  68    \n",
      "0      1    1    1    1    1    0    1  \n",
      "1      1    1    1    1    1    1    1  \n",
      "2      0    0    0    0    0    0    0  \n",
      "3      1    0    1    1    1    0    1  \n",
      "4      1    1    0    1    1    0    1  \n",
      "..   ...  ...  ...  ...  ...  ...  ...  \n",
      "161    1    1    1    0    1    0    0  \n",
      "162    1    0    1    1    1    0    1  \n",
      "163    1    1    1    0    1    0    0  \n",
      "164    1    1    1    1    1    1    1  \n",
      "165    1    1    1    1    1    1    1  \n",
      "\n",
      "[166 rows x 100 columns]\n"
     ]
    }
   ],
   "source": [
    "print(X[feature_sel.index])"
   ]
  },
  {
   "cell_type": "code",
   "execution_count": 157,
   "metadata": {},
   "outputs": [
    {
     "data": {
      "text/plain": [
       "Text(0, 0.5, 'Number of Features')"
      ]
     },
     "execution_count": 157,
     "metadata": {},
     "output_type": "execute_result"
    },
    {
     "data": {
      "image/png": "[encoded data removed]",
      "text/plain": [
       "<Figure size 1728x864 with 1 Axes>"
      ]
     },
     "metadata": {},
     "output_type": "display_data"
    }
   ],
   "source": [
    "#plotting histogram for features after feature selection\n",
    "import seaborn as sb\n",
    "\n",
    "f, axes = plt.subplots(1, 1, figsize=(24, 12))\n",
    "sb.distplot(feature_sel, kde = False, color = \"purple\",axlabel=\"Feature Importance\")\n",
    "axes.set_ylabel(\"Number of Features\")"
   ]
  },
  {
   "cell_type": "code",
   "execution_count": 158,
   "metadata": {},
   "outputs": [
    {
     "name": "stdout",
     "output_type": "stream",
     "text": [
      "The accuracy score for svr rfe model is: 96.46976845672535\n"
     ]
    }
   ],
   "source": [
    "#retrying this with SVR to see model performance after feature selection\n",
    "X_rfe_train,X_rfe_test,y_rfe_train,y_rfe_test=train_test_split(X[feature_sel.index],y,test_size=0.3,random_state=0)\n",
    "svrfemodel= SVR(C=1.0, epsilon=0.2)\n",
    "svrfemodel.fit(X_rfe_train,y_rfe_train)\n",
    "\n",
    "svrfe_predict=svrfemodel.predict(X_rfe_test)\n",
    "#determining the accuracy\n",
    "svrferrors=abs(svrfe_predict-y_rfe_test)\n",
    "svrfemape=100*(svrferrors/y_rfe_test)\n",
    "print(\"The accuracy score for svr rfe model is:\",100-np.mean(svrfemape))"
   ]
  },
  {
   "cell_type": "markdown",
   "metadata": {},
   "source": [
    "## Feature selection (Using Random Forest)\n",
    "Too many features in a fingerprint. We need to reduce the features so that we can improve the accuracy of all the models"
   ]
  },
  {
   "cell_type": "code",
   "execution_count": 159,
   "metadata": {},
   "outputs": [],
   "source": [
    "import pandas as pd\n",
    "rf=RandomForestRegressor()\n",
    "feature_importance= pd.DataFrame(rfmodel.feature_importances_,\\\n",
    "                                   index = X.columns,\\\n",
    "                                   columns=['importance']).sort_values('importance', ascending=False)"
   ]
  },
  {
   "cell_type": "code",
   "execution_count": 160,
   "metadata": {},
   "outputs": [
    {
     "data": {
      "image/png": "[encoded data removed]",
      "text/plain": [
       "<Figure size 1728x864 with 1 Axes>"
      ]
     },
     "metadata": {},
     "output_type": "display_data"
    }
   ],
   "source": [
    "#identifying the relative importance of features within a fingerprint\n",
    "import seaborn as sb\n",
    "#histogram without feature selection\n",
    "sb.set(font_scale=2)\n",
    "f, axes = plt.subplots(1, 1, figsize=(24, 12))\n",
    "a= sb.distplot(feature_importance, kde = False, color = \"blue\", axlabel=\"Feature Importance\")"
   ]
  },
  {
   "cell_type": "code",
   "execution_count": 161,
   "metadata": {},
   "outputs": [
    {
     "data": {
      "text/html": [
       "<div>\n",
       "<style scoped>\n",
       "    .dataframe tbody tr th:only-of-type {\n",
       "        vertical-align: middle;\n",
       "    }\n",
       "\n",
       "    .dataframe tbody tr th {\n",
       "        vertical-align: top;\n",
       "    }\n",
       "\n",
       "    .dataframe thead th {\n",
       "        text-align: right;\n",
       "    }\n",
       "</style>\n",
       "<table border=\"1\" class=\"dataframe\">\n",
       "  <thead>\n",
       "    <tr style=\"text-align: right;\">\n",
       "      <th></th>\n",
       "      <th>importance</th>\n",
       "    </tr>\n",
       "  </thead>\n",
       "  <tbody>\n",
       "    <tr>\n",
       "      <th>437</th>\n",
       "      <td>0.046574</td>\n",
       "    </tr>\n",
       "    <tr>\n",
       "      <th>1392</th>\n",
       "      <td>0.034125</td>\n",
       "    </tr>\n",
       "    <tr>\n",
       "      <th>775</th>\n",
       "      <td>0.031605</td>\n",
       "    </tr>\n",
       "    <tr>\n",
       "      <th>506</th>\n",
       "      <td>0.031394</td>\n",
       "    </tr>\n",
       "    <tr>\n",
       "      <th>1641</th>\n",
       "      <td>0.026376</td>\n",
       "    </tr>\n",
       "    <tr>\n",
       "      <th>...</th>\n",
       "      <td>...</td>\n",
       "    </tr>\n",
       "    <tr>\n",
       "      <th>415</th>\n",
       "      <td>0.001975</td>\n",
       "    </tr>\n",
       "    <tr>\n",
       "      <th>748</th>\n",
       "      <td>0.001933</td>\n",
       "    </tr>\n",
       "    <tr>\n",
       "      <th>560</th>\n",
       "      <td>0.001911</td>\n",
       "    </tr>\n",
       "    <tr>\n",
       "      <th>542</th>\n",
       "      <td>0.001910</td>\n",
       "    </tr>\n",
       "    <tr>\n",
       "      <th>1349</th>\n",
       "      <td>0.001885</td>\n",
       "    </tr>\n",
       "  </tbody>\n",
       "</table>\n",
       "<p>100 rows × 1 columns</p>\n",
       "</div>"
      ],
      "text/plain": [
       "      importance\n",
       "437     0.046574\n",
       "1392    0.034125\n",
       "775     0.031605\n",
       "506     0.031394\n",
       "1641    0.026376\n",
       "...          ...\n",
       "415     0.001975\n",
       "748     0.001933\n",
       "560     0.001911\n",
       "542     0.001910\n",
       "1349    0.001885\n",
       "\n",
       "[100 rows x 1 columns]"
      ]
     },
     "execution_count": 161,
     "metadata": {},
     "output_type": "execute_result"
    }
   ],
   "source": [
    "#select these indexes and get those respective features from X\n",
    "topo_features=feature_importance[0:100]\n",
    "topo_features"
   ]
  },
  {
   "cell_type": "code",
   "execution_count": 162,
   "metadata": {},
   "outputs": [
    {
     "name": "stdout",
     "output_type": "stream",
     "text": [
      "    437  1392 775  506  1641 1153 1250 1393 217  1466  ... 664  798  265   \\\n",
      "0      1    1    0    0    1    1    1    1    1    1  ...    1    0    1   \n",
      "1      1    1    1    1    1    1    1    1    1    1  ...    0    1    1   \n",
      "2      0    0    0    0    0    0    0    0    0    0  ...    0    0    0   \n",
      "3      0    1    0    0    0    1    0    0    1    1  ...    0    0    0   \n",
      "4      1    1    0    1    1    1    1    1    1    1  ...    0    1    1   \n",
      "..   ...  ...  ...  ...  ...  ...  ...  ...  ...  ...  ...  ...  ...  ...   \n",
      "161    1    0    0    1    0    0    1    0    1    0  ...    1    1    0   \n",
      "162    1    0    0    0    1    0    0    0    1    0  ...    1    0    1   \n",
      "163    0    0    0    1    0    0    1    0    0    1  ...    0    0    1   \n",
      "164    0    0    0    0    1    0    0    0    0    1  ...    1    1    1   \n",
      "165    0    1    0    1    1    1    0    1    0    1  ...    1    1    0   \n",
      "\n",
      "    1531 241  415  748  560  542  1349  \n",
      "0      0    1    0    1    1    0    1  \n",
      "1      1    1    1    1    1    1    1  \n",
      "2      0    0    0    0    0    0    0  \n",
      "3      0    1    0    1    0    1    1  \n",
      "4      1    1    0    1    1    0    1  \n",
      "..   ...  ...  ...  ...  ...  ...  ...  \n",
      "161    1    0    0    1    0    0    0  \n",
      "162    0    0    0    1    0    0    1  \n",
      "163    1    0    1    0    1    0    1  \n",
      "164    0    1    0    0    0    1    1  \n",
      "165    0    0    0    1    1    0    0  \n",
      "\n",
      "[166 rows x 100 columns]\n"
     ]
    }
   ],
   "source": [
    "#seeing the top 100 features with higher importance\n",
    "print(X[topo_features.index])"
   ]
  },
  {
   "cell_type": "code",
   "execution_count": 163,
   "metadata": {},
   "outputs": [
    {
     "data": {
      "text/plain": [
       "<matplotlib.axes._subplots.AxesSubplot at 0x1a291af9d0>"
      ]
     },
     "execution_count": 163,
     "metadata": {},
     "output_type": "execute_result"
    },
    {
     "data": {
      "image/png": "[encoded data removed]",
      "text/plain": [
       "<Figure size 1728x864 with 1 Axes>"
      ]
     },
     "metadata": {},
     "output_type": "display_data"
    }
   ],
   "source": [
    "#plotting histogram for features after feature selection\n",
    "import seaborn as sb\n",
    "\n",
    "f, axes = plt.subplots(1, 1, figsize=(24, 12))\n",
    "sb.distplot(topo_features, kde = False, color = \"red\",axlabel=\"Feature Importance\")"
   ]
  },
  {
   "cell_type": "markdown",
   "metadata": {},
   "source": [
    "### Random forest model (after feature selection)"
   ]
  },
  {
   "cell_type": "code",
   "execution_count": 164,
   "metadata": {},
   "outputs": [
    {
     "name": "stdout",
     "output_type": "stream",
     "text": [
      "The accuracy score for random forest model is 70.4619648567296\n"
     ]
    }
   ],
   "source": [
    "X_feat_train,X_feat_test,y_feat_train,y_feat_test=train_test_split(X[topo_features.index],y,test_size=0.3,random_state=0)\n",
    "newrfmodel= RandomForestRegressor(n_estimators=100)\n",
    "newrfmodel.fit(X_feat_train,y_feat_train)\n",
    "newrf_predict=newrfmodel.predict(X_feat_test)\n",
    "\n",
    "#determining the accuracy\n",
    "newrferrors=abs(newrf_predict-y_feat_test)\n",
    "newrfmape=100*(newrferrors/y_feat_test)\n",
    "print(\"The accuracy score for random forest model is\",100-np.mean(newrfmape))"
   ]
  },
  {
   "cell_type": "markdown",
   "metadata": {},
   "source": [
    "## After feature selection\n",
    "Testing if the model performs better after feature selection"
   ]
  },
  {
   "cell_type": "markdown",
   "metadata": {},
   "source": [
    "__Summary of data__ (After feature selection)\n",
    "<br>\n",
    "The accuracy scores for the various models are as follows:<br>\n",
    "Linear regression: -95.60106609129517 <br>\n",
    "Random forest: 70.4619648567296 <br>\n",
    "SVR: 96.46976845672535 <br>"
   ]
  },
  {
   "cell_type": "markdown",
   "metadata": {},
   "source": [
    "---"
   ]
  },
  {
   "cell_type": "markdown",
   "metadata": {},
   "source": [
    "# Training models (Morgan/ECFP/Circular Fingerprint)\n"
   ]
  },
  {
   "cell_type": "code",
   "execution_count": 165,
   "metadata": {},
   "outputs": [
    {
     "data": {
      "text/plain": [
       "1024"
      ]
     },
     "execution_count": 165,
     "metadata": {},
     "output_type": "execute_result"
    }
   ],
   "source": [
    "morganfp=data['circular']\n",
    "morganfp_x= morganfp.apply(lambda x: np.fromstring(x,dtype=int, sep=' '))\n",
    "Xm=morganfp_x\n",
    "y=data['ic50']\n",
    "len(Xm[0])"
   ]
  },
  {
   "cell_type": "code",
   "execution_count": 166,
   "metadata": {},
   "outputs": [
    {
     "data": {
      "text/html": [
       "<div>\n",
       "<style scoped>\n",
       "    .dataframe tbody tr th:only-of-type {\n",
       "        vertical-align: middle;\n",
       "    }\n",
       "\n",
       "    .dataframe tbody tr th {\n",
       "        vertical-align: top;\n",
       "    }\n",
       "\n",
       "    .dataframe thead tr th {\n",
       "        text-align: left;\n",
       "    }\n",
       "</style>\n",
       "<table border=\"1\" class=\"dataframe\">\n",
       "  <thead>\n",
       "    <tr>\n",
       "      <th></th>\n",
       "      <th>1</th>\n",
       "      <th>2</th>\n",
       "      <th>3</th>\n",
       "      <th>4</th>\n",
       "      <th>5</th>\n",
       "      <th>6</th>\n",
       "      <th>7</th>\n",
       "      <th>8</th>\n",
       "      <th>9</th>\n",
       "      <th>10</th>\n",
       "      <th>...</th>\n",
       "      <th>1015</th>\n",
       "      <th>1016</th>\n",
       "      <th>1017</th>\n",
       "      <th>1018</th>\n",
       "      <th>1019</th>\n",
       "      <th>1020</th>\n",
       "      <th>1021</th>\n",
       "      <th>1022</th>\n",
       "      <th>1023</th>\n",
       "      <th>1024</th>\n",
       "    </tr>\n",
       "  </thead>\n",
       "  <tbody>\n",
       "    <tr>\n",
       "      <th>0</th>\n",
       "      <td>0</td>\n",
       "      <td>0</td>\n",
       "      <td>0</td>\n",
       "      <td>0</td>\n",
       "      <td>0</td>\n",
       "      <td>0</td>\n",
       "      <td>0</td>\n",
       "      <td>0</td>\n",
       "      <td>0</td>\n",
       "      <td>0</td>\n",
       "      <td>...</td>\n",
       "      <td>0</td>\n",
       "      <td>0</td>\n",
       "      <td>0</td>\n",
       "      <td>0</td>\n",
       "      <td>0</td>\n",
       "      <td>0</td>\n",
       "      <td>0</td>\n",
       "      <td>0</td>\n",
       "      <td>0</td>\n",
       "      <td>0</td>\n",
       "    </tr>\n",
       "    <tr>\n",
       "      <th>1</th>\n",
       "      <td>1</td>\n",
       "      <td>0</td>\n",
       "      <td>0</td>\n",
       "      <td>0</td>\n",
       "      <td>0</td>\n",
       "      <td>0</td>\n",
       "      <td>0</td>\n",
       "      <td>0</td>\n",
       "      <td>1</td>\n",
       "      <td>0</td>\n",
       "      <td>...</td>\n",
       "      <td>0</td>\n",
       "      <td>0</td>\n",
       "      <td>0</td>\n",
       "      <td>1</td>\n",
       "      <td>0</td>\n",
       "      <td>1</td>\n",
       "      <td>0</td>\n",
       "      <td>0</td>\n",
       "      <td>0</td>\n",
       "      <td>0</td>\n",
       "    </tr>\n",
       "    <tr>\n",
       "      <th>2</th>\n",
       "      <td>0</td>\n",
       "      <td>0</td>\n",
       "      <td>0</td>\n",
       "      <td>0</td>\n",
       "      <td>0</td>\n",
       "      <td>0</td>\n",
       "      <td>0</td>\n",
       "      <td>0</td>\n",
       "      <td>0</td>\n",
       "      <td>0</td>\n",
       "      <td>...</td>\n",
       "      <td>0</td>\n",
       "      <td>0</td>\n",
       "      <td>0</td>\n",
       "      <td>0</td>\n",
       "      <td>0</td>\n",
       "      <td>0</td>\n",
       "      <td>0</td>\n",
       "      <td>0</td>\n",
       "      <td>0</td>\n",
       "      <td>0</td>\n",
       "    </tr>\n",
       "    <tr>\n",
       "      <th>3</th>\n",
       "      <td>0</td>\n",
       "      <td>0</td>\n",
       "      <td>0</td>\n",
       "      <td>0</td>\n",
       "      <td>0</td>\n",
       "      <td>0</td>\n",
       "      <td>0</td>\n",
       "      <td>0</td>\n",
       "      <td>0</td>\n",
       "      <td>0</td>\n",
       "      <td>...</td>\n",
       "      <td>0</td>\n",
       "      <td>0</td>\n",
       "      <td>0</td>\n",
       "      <td>0</td>\n",
       "      <td>1</td>\n",
       "      <td>1</td>\n",
       "      <td>0</td>\n",
       "      <td>0</td>\n",
       "      <td>0</td>\n",
       "      <td>0</td>\n",
       "    </tr>\n",
       "    <tr>\n",
       "      <th>4</th>\n",
       "      <td>0</td>\n",
       "      <td>1</td>\n",
       "      <td>0</td>\n",
       "      <td>0</td>\n",
       "      <td>0</td>\n",
       "      <td>0</td>\n",
       "      <td>0</td>\n",
       "      <td>0</td>\n",
       "      <td>0</td>\n",
       "      <td>0</td>\n",
       "      <td>...</td>\n",
       "      <td>0</td>\n",
       "      <td>0</td>\n",
       "      <td>0</td>\n",
       "      <td>1</td>\n",
       "      <td>0</td>\n",
       "      <td>1</td>\n",
       "      <td>0</td>\n",
       "      <td>0</td>\n",
       "      <td>0</td>\n",
       "      <td>0</td>\n",
       "    </tr>\n",
       "    <tr>\n",
       "      <th>...</th>\n",
       "      <td>...</td>\n",
       "      <td>...</td>\n",
       "      <td>...</td>\n",
       "      <td>...</td>\n",
       "      <td>...</td>\n",
       "      <td>...</td>\n",
       "      <td>...</td>\n",
       "      <td>...</td>\n",
       "      <td>...</td>\n",
       "      <td>...</td>\n",
       "      <td>...</td>\n",
       "      <td>...</td>\n",
       "      <td>...</td>\n",
       "      <td>...</td>\n",
       "      <td>...</td>\n",
       "      <td>...</td>\n",
       "      <td>...</td>\n",
       "      <td>...</td>\n",
       "      <td>...</td>\n",
       "      <td>...</td>\n",
       "      <td>...</td>\n",
       "    </tr>\n",
       "    <tr>\n",
       "      <th>161</th>\n",
       "      <td>0</td>\n",
       "      <td>0</td>\n",
       "      <td>0</td>\n",
       "      <td>0</td>\n",
       "      <td>0</td>\n",
       "      <td>0</td>\n",
       "      <td>0</td>\n",
       "      <td>0</td>\n",
       "      <td>0</td>\n",
       "      <td>0</td>\n",
       "      <td>...</td>\n",
       "      <td>0</td>\n",
       "      <td>0</td>\n",
       "      <td>0</td>\n",
       "      <td>0</td>\n",
       "      <td>0</td>\n",
       "      <td>1</td>\n",
       "      <td>0</td>\n",
       "      <td>0</td>\n",
       "      <td>0</td>\n",
       "      <td>0</td>\n",
       "    </tr>\n",
       "    <tr>\n",
       "      <th>162</th>\n",
       "      <td>0</td>\n",
       "      <td>1</td>\n",
       "      <td>0</td>\n",
       "      <td>0</td>\n",
       "      <td>1</td>\n",
       "      <td>0</td>\n",
       "      <td>0</td>\n",
       "      <td>0</td>\n",
       "      <td>0</td>\n",
       "      <td>0</td>\n",
       "      <td>...</td>\n",
       "      <td>1</td>\n",
       "      <td>0</td>\n",
       "      <td>0</td>\n",
       "      <td>0</td>\n",
       "      <td>0</td>\n",
       "      <td>1</td>\n",
       "      <td>0</td>\n",
       "      <td>0</td>\n",
       "      <td>0</td>\n",
       "      <td>0</td>\n",
       "    </tr>\n",
       "    <tr>\n",
       "      <th>163</th>\n",
       "      <td>0</td>\n",
       "      <td>0</td>\n",
       "      <td>0</td>\n",
       "      <td>0</td>\n",
       "      <td>0</td>\n",
       "      <td>0</td>\n",
       "      <td>0</td>\n",
       "      <td>0</td>\n",
       "      <td>0</td>\n",
       "      <td>0</td>\n",
       "      <td>...</td>\n",
       "      <td>0</td>\n",
       "      <td>0</td>\n",
       "      <td>0</td>\n",
       "      <td>0</td>\n",
       "      <td>0</td>\n",
       "      <td>0</td>\n",
       "      <td>0</td>\n",
       "      <td>0</td>\n",
       "      <td>0</td>\n",
       "      <td>0</td>\n",
       "    </tr>\n",
       "    <tr>\n",
       "      <th>164</th>\n",
       "      <td>0</td>\n",
       "      <td>1</td>\n",
       "      <td>0</td>\n",
       "      <td>0</td>\n",
       "      <td>0</td>\n",
       "      <td>0</td>\n",
       "      <td>0</td>\n",
       "      <td>0</td>\n",
       "      <td>0</td>\n",
       "      <td>0</td>\n",
       "      <td>...</td>\n",
       "      <td>1</td>\n",
       "      <td>0</td>\n",
       "      <td>0</td>\n",
       "      <td>0</td>\n",
       "      <td>0</td>\n",
       "      <td>0</td>\n",
       "      <td>0</td>\n",
       "      <td>0</td>\n",
       "      <td>0</td>\n",
       "      <td>0</td>\n",
       "    </tr>\n",
       "    <tr>\n",
       "      <th>165</th>\n",
       "      <td>0</td>\n",
       "      <td>0</td>\n",
       "      <td>0</td>\n",
       "      <td>0</td>\n",
       "      <td>0</td>\n",
       "      <td>0</td>\n",
       "      <td>0</td>\n",
       "      <td>0</td>\n",
       "      <td>0</td>\n",
       "      <td>0</td>\n",
       "      <td>...</td>\n",
       "      <td>0</td>\n",
       "      <td>0</td>\n",
       "      <td>0</td>\n",
       "      <td>0</td>\n",
       "      <td>0</td>\n",
       "      <td>1</td>\n",
       "      <td>0</td>\n",
       "      <td>0</td>\n",
       "      <td>0</td>\n",
       "      <td>0</td>\n",
       "    </tr>\n",
       "  </tbody>\n",
       "</table>\n",
       "<p>166 rows × 1024 columns</p>\n",
       "</div>"
      ],
      "text/plain": [
       "    1    2    3    4    5    6    7    8    9    10    ... 1015 1016 1017  \\\n",
       "0      0    0    0    0    0    0    0    0    0    0  ...    0    0    0   \n",
       "1      1    0    0    0    0    0    0    0    1    0  ...    0    0    0   \n",
       "2      0    0    0    0    0    0    0    0    0    0  ...    0    0    0   \n",
       "3      0    0    0    0    0    0    0    0    0    0  ...    0    0    0   \n",
       "4      0    1    0    0    0    0    0    0    0    0  ...    0    0    0   \n",
       "..   ...  ...  ...  ...  ...  ...  ...  ...  ...  ...  ...  ...  ...  ...   \n",
       "161    0    0    0    0    0    0    0    0    0    0  ...    0    0    0   \n",
       "162    0    1    0    0    1    0    0    0    0    0  ...    1    0    0   \n",
       "163    0    0    0    0    0    0    0    0    0    0  ...    0    0    0   \n",
       "164    0    1    0    0    0    0    0    0    0    0  ...    1    0    0   \n",
       "165    0    0    0    0    0    0    0    0    0    0  ...    0    0    0   \n",
       "\n",
       "    1018 1019 1020 1021 1022 1023 1024  \n",
       "0      0    0    0    0    0    0    0  \n",
       "1      1    0    1    0    0    0    0  \n",
       "2      0    0    0    0    0    0    0  \n",
       "3      0    1    1    0    0    0    0  \n",
       "4      1    0    1    0    0    0    0  \n",
       "..   ...  ...  ...  ...  ...  ...  ...  \n",
       "161    0    0    1    0    0    0    0  \n",
       "162    0    0    1    0    0    0    0  \n",
       "163    0    0    0    0    0    0    0  \n",
       "164    0    0    0    0    0    0    0  \n",
       "165    0    0    1    0    0    0    0  \n",
       "\n",
       "[166 rows x 1024 columns]"
      ]
     },
     "execution_count": 166,
     "metadata": {},
     "output_type": "execute_result"
    }
   ],
   "source": [
    "Xm=pd.DataFrame(columns=[np.arange(1,1025)])\n",
    "#\n",
    "for i in range(0,len(topo_x)):\n",
    "    Xm = Xm.append( pd.Series(morganfp_x[i], index=Xm.columns ),ignore_index=True)\n",
    "Xm"
   ]
  },
  {
   "cell_type": "markdown",
   "metadata": {},
   "source": [
    "### Linear regression model (before feature selection)\n",
    "Using Morgan fingerprints"
   ]
  },
  {
   "cell_type": "code",
   "execution_count": 167,
   "metadata": {},
   "outputs": [
    {
     "name": "stdout",
     "output_type": "stream",
     "text": [
      "The model score is: -9.581371666465032e+25\n",
      "The accuracy score for linear regression model is: -610331875105108.0\n"
     ]
    }
   ],
   "source": [
    "from sklearn.metrics import accuracy_score\n",
    "#creating test and training set\n",
    "Xm_train,Xm_test,ym_train,ym_test=train_test_split(Xm,y,test_size=0.3,random_state=0)\n",
    "model= LinearRegression()\n",
    "model.fit(Xm_train,ym_train)\n",
    "ym_pred=model.predict(Xm_test)\n",
    "\n",
    "#determining the model score\n",
    "print(\"The model score is:\", model.score(Xm_test,ym_test))\n",
    "\n",
    "#determining the accuracy score\n",
    "linreg_error=abs(ym_pred-ym_test)\n",
    "linreg_mape=100*(linreg_error/ym_test)\n",
    "print(\"The accuracy score for linear regression model is:\",100-np.mean(linreg_mape))"
   ]
  },
  {
   "cell_type": "markdown",
   "metadata": {},
   "source": [
    "### Random Forest model (before feature selection)\n",
    "Using Morgan fingerprints"
   ]
  },
  {
   "cell_type": "code",
   "execution_count": 168,
   "metadata": {},
   "outputs": [
    {
     "name": "stdout",
     "output_type": "stream",
     "text": [
      "The correlation score for training set is: 0.8912004025373191\n",
      "The correlation score for training set is: 0.07604908059724214\n",
      "The accuracy score for rf model is: 78.70264728991752\n"
     ]
    }
   ],
   "source": [
    "rfmodel= RandomForestRegressor(n_estimators=100)\n",
    "rfmodel.fit(Xm_train,ym_train)\n",
    "\n",
    "#score gives you correlation\n",
    "rf_predict=rfmodel.predict(Xm_test)\n",
    "print(\"The correlation score for training set is:\",rfmodel.score(Xm_train,ym_train))\n",
    "print(\"The correlation score for training set is:\",rfmodel.score(Xm_test,ym_test))\n",
    "\n",
    "#determining the accuracy\n",
    "errors=abs(rf_predict-ym_test)\n",
    "mape=100*(errors/ym_test)\n",
    "print(\"The accuracy score for rf model is:\",100-np.mean(mape))"
   ]
  },
  {
   "cell_type": "markdown",
   "metadata": {},
   "source": [
    "### Support Vector Regression model (before feature selection)\n",
    "Using Morgan fingerprints"
   ]
  },
  {
   "cell_type": "code",
   "execution_count": 169,
   "metadata": {},
   "outputs": [
    {
     "name": "stdout",
     "output_type": "stream",
     "text": [
      "The R^2 value for training set is: 0.4080444244302437\n",
      "The R^2 value for test set is 0.014146692720361951\n",
      "The accuracy score for svr model is: 90.20519230332191\n"
     ]
    }
   ],
   "source": [
    "svrmodel= SVR(C=1.0, epsilon=0.2)\n",
    "svrmodel.fit(Xm_train,ym_train)\n",
    "\n",
    "svr_predict=svrmodel.predict(Xm_test)\n",
    "\n",
    "#According to the documentation, the score returns the coefficient of determination R^2 of the prediction\n",
    "print(\"The R^2 value for training set is:\",svrmodel.score(Xm_train,ym_train))\n",
    "print(\"The R^2 value for test set is\",svrmodel.score(Xm_test,ym_test))\n",
    "\n",
    "#determining the accuracy\n",
    "svrerrors=abs(svr_predict-ym_test)\n",
    "svrmape=100*(svrerrors/ym_test)\n",
    "print(\"The accuracy score for svr model is:\",100-np.mean(svrmape))"
   ]
  },
  {
   "cell_type": "markdown",
   "metadata": {},
   "source": [
    "__Summary of data__\n",
    "<br>\n",
    "The accuracy scores for the various models are as follows:<br>\n",
    "Linear regression: -2943775232157180.0 <br>\n",
    "Random forest: 76.4670978774818 <br>\n",
    "SVR: 90.20519230332191 <br>"
   ]
  },
  {
   "cell_type": "markdown",
   "metadata": {},
   "source": [
    "## Feature selection (Using Lasso Regression)"
   ]
  },
  {
   "cell_type": "code",
   "execution_count": 170,
   "metadata": {},
   "outputs": [
    {
     "data": {
      "text/plain": [
       "Lasso(alpha=0.3, copy_X=True, fit_intercept=True, max_iter=1000,\n",
       "      normalize=False, positive=False, precompute=False, random_state=None,\n",
       "      selection='cyclic', tol=0.0001, warm_start=False)"
      ]
     },
     "execution_count": 170,
     "metadata": {},
     "output_type": "execute_result"
    }
   ],
   "source": [
    "#lasso regression for linear regression, morgan fingerprints\n",
    "lasso = Lasso(alpha=.3)\n",
    "lasso.fit(Xm, y)"
   ]
  },
  {
   "cell_type": "code",
   "execution_count": 171,
   "metadata": {},
   "outputs": [
    {
     "data": {
      "text/plain": [
       "-0.22350712717660903"
      ]
     },
     "execution_count": 171,
     "metadata": {},
     "output_type": "execute_result"
    }
   ],
   "source": [
    "lasso.coef_.sum()"
   ]
  },
  {
   "cell_type": "code",
   "execution_count": 172,
   "metadata": {},
   "outputs": [],
   "source": [
    "lasso_recoef= lasso.coef_/lasso.coef_.sum()"
   ]
  },
  {
   "cell_type": "code",
   "execution_count": 173,
   "metadata": {},
   "outputs": [
    {
     "data": {
      "text/html": [
       "<div>\n",
       "<style scoped>\n",
       "    .dataframe tbody tr th:only-of-type {\n",
       "        vertical-align: middle;\n",
       "    }\n",
       "\n",
       "    .dataframe tbody tr th {\n",
       "        vertical-align: top;\n",
       "    }\n",
       "\n",
       "    .dataframe thead th {\n",
       "        text-align: right;\n",
       "    }\n",
       "</style>\n",
       "<table border=\"1\" class=\"dataframe\">\n",
       "  <thead>\n",
       "    <tr style=\"text-align: right;\">\n",
       "      <th></th>\n",
       "      <th>importance</th>\n",
       "    </tr>\n",
       "  </thead>\n",
       "  <tbody>\n",
       "    <tr>\n",
       "      <th>315</th>\n",
       "      <td>0.514847</td>\n",
       "    </tr>\n",
       "    <tr>\n",
       "      <th>131</th>\n",
       "      <td>0.485153</td>\n",
       "    </tr>\n",
       "    <tr>\n",
       "      <th>689</th>\n",
       "      <td>-0.000000</td>\n",
       "    </tr>\n",
       "    <tr>\n",
       "      <th>676</th>\n",
       "      <td>-0.000000</td>\n",
       "    </tr>\n",
       "    <tr>\n",
       "      <th>677</th>\n",
       "      <td>-0.000000</td>\n",
       "    </tr>\n",
       "    <tr>\n",
       "      <th>...</th>\n",
       "      <td>...</td>\n",
       "    </tr>\n",
       "    <tr>\n",
       "      <th>348</th>\n",
       "      <td>0.000000</td>\n",
       "    </tr>\n",
       "    <tr>\n",
       "      <th>349</th>\n",
       "      <td>-0.000000</td>\n",
       "    </tr>\n",
       "    <tr>\n",
       "      <th>350</th>\n",
       "      <td>0.000000</td>\n",
       "    </tr>\n",
       "    <tr>\n",
       "      <th>351</th>\n",
       "      <td>0.000000</td>\n",
       "    </tr>\n",
       "    <tr>\n",
       "      <th>1024</th>\n",
       "      <td>0.000000</td>\n",
       "    </tr>\n",
       "  </tbody>\n",
       "</table>\n",
       "<p>1024 rows × 1 columns</p>\n",
       "</div>"
      ],
      "text/plain": [
       "      importance\n",
       "315     0.514847\n",
       "131     0.485153\n",
       "689    -0.000000\n",
       "676    -0.000000\n",
       "677    -0.000000\n",
       "...          ...\n",
       "348     0.000000\n",
       "349    -0.000000\n",
       "350     0.000000\n",
       "351     0.000000\n",
       "1024    0.000000\n",
       "\n",
       "[1024 rows x 1 columns]"
      ]
     },
     "execution_count": 173,
     "metadata": {},
     "output_type": "execute_result"
    }
   ],
   "source": [
    "feature_importance= pd.DataFrame(lasso_recoef,\\\n",
    "                                 index = Xm.columns,\\\n",
    "                                 columns=['importance']).sort_values('importance', ascending=False)\n",
    "feature_importance.round(6)"
   ]
  },
  {
   "cell_type": "code",
   "execution_count": 174,
   "metadata": {},
   "outputs": [
    {
     "data": {
      "text/plain": [
       "Text(0, 0.5, 'Number of Features')"
      ]
     },
     "execution_count": 174,
     "metadata": {},
     "output_type": "execute_result"
    },
    {
     "data": {
      "image/png": "[encoded data removed]",
      "text/plain": [
       "<Figure size 1728x864 with 1 Axes>"
      ]
     },
     "metadata": {},
     "output_type": "display_data"
    }
   ],
   "source": [
    "#identifying the relative importance of features within a fingerprint\n",
    "import seaborn as sb\n",
    "#histogram without feature selection\n",
    "sb.set(font_scale=2)\n",
    "f, axes = plt.subplots(1, 1, figsize=(24, 12))\n",
    "a= sb.distplot(feature_importance, kde = False, color = \"blue\", axlabel=\"Feature Importance\")\n",
    "a.set_ylabel(\"Number of Features\")"
   ]
  },
  {
   "cell_type": "code",
   "execution_count": 175,
   "metadata": {},
   "outputs": [
    {
     "data": {
      "text/html": [
       "<div>\n",
       "<style scoped>\n",
       "    .dataframe tbody tr th:only-of-type {\n",
       "        vertical-align: middle;\n",
       "    }\n",
       "\n",
       "    .dataframe tbody tr th {\n",
       "        vertical-align: top;\n",
       "    }\n",
       "\n",
       "    .dataframe thead th {\n",
       "        text-align: right;\n",
       "    }\n",
       "</style>\n",
       "<table border=\"1\" class=\"dataframe\">\n",
       "  <thead>\n",
       "    <tr style=\"text-align: right;\">\n",
       "      <th></th>\n",
       "      <th>importance</th>\n",
       "    </tr>\n",
       "  </thead>\n",
       "  <tbody>\n",
       "    <tr>\n",
       "      <th>315</th>\n",
       "      <td>0.514847</td>\n",
       "    </tr>\n",
       "    <tr>\n",
       "      <th>131</th>\n",
       "      <td>0.485153</td>\n",
       "    </tr>\n",
       "    <tr>\n",
       "      <th>689</th>\n",
       "      <td>-0.000000</td>\n",
       "    </tr>\n",
       "    <tr>\n",
       "      <th>676</th>\n",
       "      <td>-0.000000</td>\n",
       "    </tr>\n",
       "    <tr>\n",
       "      <th>677</th>\n",
       "      <td>-0.000000</td>\n",
       "    </tr>\n",
       "    <tr>\n",
       "      <th>...</th>\n",
       "      <td>...</td>\n",
       "    </tr>\n",
       "    <tr>\n",
       "      <th>739</th>\n",
       "      <td>0.000000</td>\n",
       "    </tr>\n",
       "    <tr>\n",
       "      <th>737</th>\n",
       "      <td>0.000000</td>\n",
       "    </tr>\n",
       "    <tr>\n",
       "      <th>707</th>\n",
       "      <td>0.000000</td>\n",
       "    </tr>\n",
       "    <tr>\n",
       "      <th>721</th>\n",
       "      <td>0.000000</td>\n",
       "    </tr>\n",
       "    <tr>\n",
       "      <th>708</th>\n",
       "      <td>-0.000000</td>\n",
       "    </tr>\n",
       "  </tbody>\n",
       "</table>\n",
       "<p>100 rows × 1 columns</p>\n",
       "</div>"
      ],
      "text/plain": [
       "     importance\n",
       "315    0.514847\n",
       "131    0.485153\n",
       "689   -0.000000\n",
       "676   -0.000000\n",
       "677   -0.000000\n",
       "..          ...\n",
       "739    0.000000\n",
       "737    0.000000\n",
       "707    0.000000\n",
       "721    0.000000\n",
       "708   -0.000000\n",
       "\n",
       "[100 rows x 1 columns]"
      ]
     },
     "execution_count": 175,
     "metadata": {},
     "output_type": "execute_result"
    }
   ],
   "source": [
    "#select these indexes and get those respective features from X\n",
    "feature_lasso=feature_importance[0:100]\n",
    "feature_lasso"
   ]
  },
  {
   "cell_type": "code",
   "execution_count": 176,
   "metadata": {},
   "outputs": [
    {
     "name": "stdout",
     "output_type": "stream",
     "text": [
      "    315 131 689 676 677 678 679 680 681 682  ... 763 764 765 766 767 739 737  \\\n",
      "0     1   1   0   0   0   0   0   0   0   0  ...   1   0   0   0   0   0   0   \n",
      "1     0   1   0   0   0   0   0   1   0   0  ...   0   0   0   0   0   1   0   \n",
      "2     0   0   0   0   0   0   0   0   0   0  ...   0   0   0   0   0   0   0   \n",
      "3     1   0   0   0   0   0   0   0   0   0  ...   0   0   0   0   0   0   0   \n",
      "4     1   1   0   0   0   0   0   1   0   0  ...   0   0   0   0   0   0   0   \n",
      "..   ..  ..  ..  ..  ..  ..  ..  ..  ..  ..  ...  ..  ..  ..  ..  ..  ..  ..   \n",
      "161   1   0   0   0   0   0   0   0   0   0  ...   0   0   0   0   0   0   0   \n",
      "162   0   0   0   0   0   0   0   0   0   0  ...   0   0   0   0   0   0   0   \n",
      "163   0   0   0   0   0   0   0   0   0   0  ...   0   0   0   0   0   0   0   \n",
      "164   1   0   0   0   0   0   0   0   0   0  ...   0   0   0   0   0   0   0   \n",
      "165   0   0   0   1   0   0   0   0   0   0  ...   0   0   0   0   0   0   0   \n",
      "\n",
      "    707 721 708  \n",
      "0     1   0   0  \n",
      "1     0   0   0  \n",
      "2     0   0   0  \n",
      "3     0   0   0  \n",
      "4     1   0   0  \n",
      "..   ..  ..  ..  \n",
      "161   0   0   0  \n",
      "162   0   0   0  \n",
      "163   0   0   0  \n",
      "164   0   0   0  \n",
      "165   0   0   0  \n",
      "\n",
      "[166 rows x 100 columns]\n"
     ]
    }
   ],
   "source": [
    "print(Xm[feature_lasso.index])"
   ]
  },
  {
   "cell_type": "code",
   "execution_count": 177,
   "metadata": {},
   "outputs": [
    {
     "data": {
      "text/plain": [
       "Text(0, 0.5, 'Number of Features')"
      ]
     },
     "execution_count": 177,
     "metadata": {},
     "output_type": "execute_result"
    },
    {
     "data": {
      "image/png": "[encoded data removed]",
      "text/plain": [
       "<Figure size 1728x864 with 1 Axes>"
      ]
     },
     "metadata": {},
     "output_type": "display_data"
    }
   ],
   "source": [
    "#plotting histogram for features after feature selection\n",
    "import seaborn as sb\n",
    "\n",
    "f, axes = plt.subplots(1, 1, figsize=(24, 12))\n",
    "sb.distplot(feature_lasso, kde = False, color = \"purple\",axlabel=\"Feature Importance\")\n",
    "axes.set_ylabel(\"Number of Features\")"
   ]
  },
  {
   "cell_type": "code",
   "execution_count": 178,
   "metadata": {},
   "outputs": [
    {
     "name": "stdout",
     "output_type": "stream",
     "text": [
      "The model score for linear regression model is -3.3710142924086497e+25\n",
      "The accuracy score for linear lasso regression model is: -678154284490331.2\n"
     ]
    }
   ],
   "source": [
    "#creating test and training set after feature selection\n",
    "Xm_lasso_train,Xm_lasso_test,ym_lasso_train,ym_lasso_test=train_test_split(Xm[feature_lasso.index],y,test_size=0.3,random_state=0)\n",
    "lassomodel= LinearRegression()\n",
    "lassomodel.fit(Xm_lasso_train,ym_lasso_train)\n",
    "ym_lassopred=lassomodel.predict(Xm_lasso_test)\n",
    "\n",
    "#new model score after feature selection\n",
    "print(\"The model score for linear regression model is\",lassomodel.score(Xm_lasso_test,ym_lasso_test))\n",
    "\n",
    "#determining the accuracy score\n",
    "lassolinreg_error=abs(ym_lassopred-ym_lasso_test)\n",
    "lassolinreg_mape=100*(lassolinreg_error/ym_lasso_test)\n",
    "print(\"The accuracy score for linear lasso regression model is:\",100-np.mean(lassolinreg_mape))"
   ]
  },
  {
   "cell_type": "markdown",
   "metadata": {},
   "source": [
    "## Feature selection (Using SVM RFE)"
   ]
  },
  {
   "cell_type": "code",
   "execution_count": 179,
   "metadata": {},
   "outputs": [],
   "source": [
    "import pandas as pd\n",
    "from sklearn.feature_selection import RFE\n",
    "from sklearn.svm import SVR\n",
    "svrmodel= SVR(kernel=\"linear\") #read online that rfe only works when kernel is linear, not sure what is the effect\n",
    "rfe= RFE(svrmodel,n_features_to_select=100, step=1)\n",
    "rfe= rfe.fit(Xm,y)"
   ]
  },
  {
   "cell_type": "code",
   "execution_count": 180,
   "metadata": {},
   "outputs": [
    {
     "data": {
      "text/plain": [
       "array([581, 166, 609, ..., 426, 512, 179])"
      ]
     },
     "execution_count": 180,
     "metadata": {},
     "output_type": "execute_result"
    }
   ],
   "source": [
    "rfe.ranking_"
   ]
  },
  {
   "cell_type": "code",
   "execution_count": 181,
   "metadata": {},
   "outputs": [
    {
     "data": {
      "text/plain": [
       "428374"
      ]
     },
     "execution_count": 181,
     "metadata": {},
     "output_type": "execute_result"
    }
   ],
   "source": [
    "rfe.ranking_.sum()"
   ]
  },
  {
   "cell_type": "markdown",
   "metadata": {},
   "source": [
    "Because the sum of feature importance is not 1, a new variable was created so that the feature importance would be relative, and the sum is 1"
   ]
  },
  {
   "cell_type": "code",
   "execution_count": 182,
   "metadata": {},
   "outputs": [],
   "source": [
    "rfe_rerank=rfe.ranking_/rfe.ranking_.sum()"
   ]
  },
  {
   "cell_type": "code",
   "execution_count": 183,
   "metadata": {},
   "outputs": [
    {
     "data": {
      "text/html": [
       "<div>\n",
       "<style scoped>\n",
       "    .dataframe tbody tr th:only-of-type {\n",
       "        vertical-align: middle;\n",
       "    }\n",
       "\n",
       "    .dataframe tbody tr th {\n",
       "        vertical-align: top;\n",
       "    }\n",
       "\n",
       "    .dataframe thead th {\n",
       "        text-align: right;\n",
       "    }\n",
       "</style>\n",
       "<table border=\"1\" class=\"dataframe\">\n",
       "  <thead>\n",
       "    <tr style=\"text-align: right;\">\n",
       "      <th></th>\n",
       "      <th>importance</th>\n",
       "    </tr>\n",
       "  </thead>\n",
       "  <tbody>\n",
       "    <tr>\n",
       "      <th>396</th>\n",
       "      <td>0.002159</td>\n",
       "    </tr>\n",
       "    <tr>\n",
       "      <th>56</th>\n",
       "      <td>0.002157</td>\n",
       "    </tr>\n",
       "    <tr>\n",
       "      <th>908</th>\n",
       "      <td>0.002155</td>\n",
       "    </tr>\n",
       "    <tr>\n",
       "      <th>825</th>\n",
       "      <td>0.002152</td>\n",
       "    </tr>\n",
       "    <tr>\n",
       "      <th>938</th>\n",
       "      <td>0.002150</td>\n",
       "    </tr>\n",
       "    <tr>\n",
       "      <th>...</th>\n",
       "      <td>...</td>\n",
       "    </tr>\n",
       "    <tr>\n",
       "      <th>832</th>\n",
       "      <td>0.000002</td>\n",
       "    </tr>\n",
       "    <tr>\n",
       "      <th>933</th>\n",
       "      <td>0.000002</td>\n",
       "    </tr>\n",
       "    <tr>\n",
       "      <th>280</th>\n",
       "      <td>0.000002</td>\n",
       "    </tr>\n",
       "    <tr>\n",
       "      <th>931</th>\n",
       "      <td>0.000002</td>\n",
       "    </tr>\n",
       "    <tr>\n",
       "      <th>154</th>\n",
       "      <td>0.000002</td>\n",
       "    </tr>\n",
       "  </tbody>\n",
       "</table>\n",
       "<p>1024 rows × 1 columns</p>\n",
       "</div>"
      ],
      "text/plain": [
       "     importance\n",
       "396    0.002159\n",
       "56     0.002157\n",
       "908    0.002155\n",
       "825    0.002152\n",
       "938    0.002150\n",
       "..          ...\n",
       "832    0.000002\n",
       "933    0.000002\n",
       "280    0.000002\n",
       "931    0.000002\n",
       "154    0.000002\n",
       "\n",
       "[1024 rows x 1 columns]"
      ]
     },
     "execution_count": 183,
     "metadata": {},
     "output_type": "execute_result"
    }
   ],
   "source": [
    "feature_importance= pd.DataFrame(rfe_rerank,\\\n",
    "                                   index = Xm.columns,\\\n",
    "                                   columns=['importance']).sort_values('importance', ascending=False)\n",
    "feature_importance.round(6)"
   ]
  },
  {
   "cell_type": "code",
   "execution_count": 184,
   "metadata": {},
   "outputs": [
    {
     "data": {
      "text/plain": [
       "Text(0, 0.5, 'Number of Features')"
      ]
     },
     "execution_count": 184,
     "metadata": {},
     "output_type": "execute_result"
    },
    {
     "data": {
      "image/png": "[encoded data removed]",
      "text/plain": [
       "<Figure size 1728x864 with 1 Axes>"
      ]
     },
     "metadata": {},
     "output_type": "display_data"
    }
   ],
   "source": [
    "#identifying the relative importance of features within a fingerprint\n",
    "import seaborn as sb\n",
    "#histogram without feature selection\n",
    "sb.set(font_scale=2)\n",
    "f, axes = plt.subplots(1, 1, figsize=(24, 12))\n",
    "a= sb.distplot(feature_importance, kde = False, color = \"green\", axlabel=\"Feature Importance\")\n",
    "a.set_ylabel(\"Number of Features\")"
   ]
  },
  {
   "cell_type": "code",
   "execution_count": 185,
   "metadata": {},
   "outputs": [
    {
     "data": {
      "text/html": [
       "<div>\n",
       "<style scoped>\n",
       "    .dataframe tbody tr th:only-of-type {\n",
       "        vertical-align: middle;\n",
       "    }\n",
       "\n",
       "    .dataframe tbody tr th {\n",
       "        vertical-align: top;\n",
       "    }\n",
       "\n",
       "    .dataframe thead th {\n",
       "        text-align: right;\n",
       "    }\n",
       "</style>\n",
       "<table border=\"1\" class=\"dataframe\">\n",
       "  <thead>\n",
       "    <tr style=\"text-align: right;\">\n",
       "      <th></th>\n",
       "      <th>importance</th>\n",
       "    </tr>\n",
       "  </thead>\n",
       "  <tbody>\n",
       "    <tr>\n",
       "      <th>396</th>\n",
       "      <td>0.002159</td>\n",
       "    </tr>\n",
       "    <tr>\n",
       "      <th>56</th>\n",
       "      <td>0.002157</td>\n",
       "    </tr>\n",
       "    <tr>\n",
       "      <th>908</th>\n",
       "      <td>0.002155</td>\n",
       "    </tr>\n",
       "    <tr>\n",
       "      <th>825</th>\n",
       "      <td>0.002152</td>\n",
       "    </tr>\n",
       "    <tr>\n",
       "      <th>938</th>\n",
       "      <td>0.002150</td>\n",
       "    </tr>\n",
       "    <tr>\n",
       "      <th>...</th>\n",
       "      <td>...</td>\n",
       "    </tr>\n",
       "    <tr>\n",
       "      <th>926</th>\n",
       "      <td>0.001938</td>\n",
       "    </tr>\n",
       "    <tr>\n",
       "      <th>553</th>\n",
       "      <td>0.001935</td>\n",
       "    </tr>\n",
       "    <tr>\n",
       "      <th>537</th>\n",
       "      <td>0.001933</td>\n",
       "    </tr>\n",
       "    <tr>\n",
       "      <th>190</th>\n",
       "      <td>0.001931</td>\n",
       "    </tr>\n",
       "    <tr>\n",
       "      <th>114</th>\n",
       "      <td>0.001928</td>\n",
       "    </tr>\n",
       "  </tbody>\n",
       "</table>\n",
       "<p>100 rows × 1 columns</p>\n",
       "</div>"
      ],
      "text/plain": [
       "     importance\n",
       "396    0.002159\n",
       "56     0.002157\n",
       "908    0.002155\n",
       "825    0.002152\n",
       "938    0.002150\n",
       "..          ...\n",
       "926    0.001938\n",
       "553    0.001935\n",
       "537    0.001933\n",
       "190    0.001931\n",
       "114    0.001928\n",
       "\n",
       "[100 rows x 1 columns]"
      ]
     },
     "execution_count": 185,
     "metadata": {},
     "output_type": "execute_result"
    }
   ],
   "source": [
    "#select these indexes and get those respective features from X\n",
    "feature_sel=feature_importance[0:100]\n",
    "feature_sel"
   ]
  },
  {
   "cell_type": "code",
   "execution_count": 186,
   "metadata": {},
   "outputs": [
    {
     "name": "stdout",
     "output_type": "stream",
     "text": [
      "    396 56  908 825 938 352 221 770 451 867  ... 738 353 518 768 812 926 553  \\\n",
      "0     0   0   0   0   0   0   0   0   0   0  ...   0   0   0   0   0   0   0   \n",
      "1     0   0   0   0   0   0   0   0   0   0  ...   0   0   0   0   0   0   0   \n",
      "2     0   0   0   0   0   0   0   0   0   0  ...   0   0   0   0   0   0   0   \n",
      "3     0   0   0   0   0   0   0   0   0   0  ...   0   0   0   0   0   0   0   \n",
      "4     0   0   0   0   0   0   0   0   0   0  ...   0   1   0   0   0   0   0   \n",
      "..   ..  ..  ..  ..  ..  ..  ..  ..  ..  ..  ...  ..  ..  ..  ..  ..  ..  ..   \n",
      "161   0   0   0   0   0   0   0   0   0   0  ...   0   1   0   0   0   0   0   \n",
      "162   0   0   0   0   0   0   0   0   0   0  ...   0   0   0   1   0   0   0   \n",
      "163   0   0   0   0   0   0   0   0   0   0  ...   0   0   0   0   0   0   0   \n",
      "164   0   0   0   0   0   0   0   0   0   0  ...   0   0   0   0   0   0   0   \n",
      "165   0   0   0   0   0   0   0   0   0   0  ...   0   0   0   0   0   0   0   \n",
      "\n",
      "    537 190 114  \n",
      "0     0   0   0  \n",
      "1     0   0   0  \n",
      "2     0   0   0  \n",
      "3     0   0   0  \n",
      "4     0   0   0  \n",
      "..   ..  ..  ..  \n",
      "161   0   0   0  \n",
      "162   0   0   0  \n",
      "163   0   0   0  \n",
      "164   0   0   0  \n",
      "165   0   0   0  \n",
      "\n",
      "[166 rows x 100 columns]\n"
     ]
    }
   ],
   "source": [
    "print(Xm[feature_sel.index])"
   ]
  },
  {
   "cell_type": "code",
   "execution_count": 187,
   "metadata": {},
   "outputs": [
    {
     "data": {
      "text/plain": [
       "Text(0, 0.5, 'Number of Features')"
      ]
     },
     "execution_count": 187,
     "metadata": {},
     "output_type": "execute_result"
    },
    {
     "data": {
      "image/png": "[encoded data removed]",
      "text/plain": [
       "<Figure size 1728x864 with 1 Axes>"
      ]
     },
     "metadata": {},
     "output_type": "display_data"
    }
   ],
   "source": [
    "#plotting histogram for features after feature selection\n",
    "import seaborn as sb\n",
    "\n",
    "f, axes = plt.subplots(1, 1, figsize=(24, 12))\n",
    "sb.distplot(feature_sel, kde = False, color = \"purple\",axlabel=\"Feature Importance\")\n",
    "axes.set_ylabel(\"Number of Features\")"
   ]
  },
  {
   "cell_type": "code",
   "execution_count": 188,
   "metadata": {},
   "outputs": [
    {
     "name": "stdout",
     "output_type": "stream",
     "text": [
      "The accuracy score for svr rfe model is: 91.14161876418865\n"
     ]
    }
   ],
   "source": [
    "#retrying this with SVR to see model performance after feature selection\n",
    "Xm_rfe_train,Xm_rfe_test,ym_rfe_train,ym_rfe_test=train_test_split(Xm[feature_sel.index],y,test_size=0.3,random_state=0)\n",
    "svrfemodel= SVR(C=1.0, epsilon=0.2)\n",
    "svrfemodel.fit(Xm_rfe_train,ym_rfe_train)\n",
    "\n",
    "svrfe_predict=svrfemodel.predict(Xm_rfe_test)\n",
    "#determining the accuracy\n",
    "svrferrors=abs(svrfe_predict-ym_rfe_test)\n",
    "svrfemape=100*(svrferrors/ym_rfe_test)\n",
    "print(\"The accuracy score for svr rfe model is:\",100-np.mean(svrfemape))"
   ]
  },
  {
   "cell_type": "markdown",
   "metadata": {},
   "source": [
    "## Feature selection (Using Random Forest)\n",
    "Too many features in a fingerprint. We need to reduce the features so that we can improve the accuracy of all the models"
   ]
  },
  {
   "cell_type": "code",
   "execution_count": 189,
   "metadata": {},
   "outputs": [],
   "source": [
    "import pandas as pd\n",
    "#with feature selection \n",
    "rf=RandomForestRegressor()\n",
    "feature_importance= pd.DataFrame(rfmodel.feature_importances_,\\\n",
    "                                   index = Xm.columns,\\\n",
    "                                   columns=['importance']).sort_values('importance', ascending=False)"
   ]
  },
  {
   "cell_type": "code",
   "execution_count": 190,
   "metadata": {},
   "outputs": [
    {
     "data": {
      "image/png": "[encoded data removed]",
      "text/plain": [
       "<Figure size 1728x864 with 1 Axes>"
      ]
     },
     "metadata": {},
     "output_type": "display_data"
    }
   ],
   "source": [
    "#identifying the relative importance of features within a fingerprint\n",
    "import seaborn as sb\n",
    "#histogram without feature selection\n",
    "sb.set(font_scale=2)\n",
    "f, axes = plt.subplots(1, 1, figsize=(24, 12))\n",
    "a= sb.distplot(feature_importance, kde = False, color = \"blue\", axlabel=\"Feature Importance\")"
   ]
  },
  {
   "cell_type": "code",
   "execution_count": 191,
   "metadata": {},
   "outputs": [
    {
     "data": {
      "text/html": [
       "<div>\n",
       "<style scoped>\n",
       "    .dataframe tbody tr th:only-of-type {\n",
       "        vertical-align: middle;\n",
       "    }\n",
       "\n",
       "    .dataframe tbody tr th {\n",
       "        vertical-align: top;\n",
       "    }\n",
       "\n",
       "    .dataframe thead th {\n",
       "        text-align: right;\n",
       "    }\n",
       "</style>\n",
       "<table border=\"1\" class=\"dataframe\">\n",
       "  <thead>\n",
       "    <tr style=\"text-align: right;\">\n",
       "      <th></th>\n",
       "      <th>importance</th>\n",
       "    </tr>\n",
       "  </thead>\n",
       "  <tbody>\n",
       "    <tr>\n",
       "      <th>63</th>\n",
       "      <td>0.065255</td>\n",
       "    </tr>\n",
       "    <tr>\n",
       "      <th>792</th>\n",
       "      <td>0.055124</td>\n",
       "    </tr>\n",
       "    <tr>\n",
       "      <th>362</th>\n",
       "      <td>0.049652</td>\n",
       "    </tr>\n",
       "    <tr>\n",
       "      <th>131</th>\n",
       "      <td>0.038941</td>\n",
       "    </tr>\n",
       "    <tr>\n",
       "      <th>175</th>\n",
       "      <td>0.026741</td>\n",
       "    </tr>\n",
       "    <tr>\n",
       "      <th>...</th>\n",
       "      <td>...</td>\n",
       "    </tr>\n",
       "    <tr>\n",
       "      <th>484</th>\n",
       "      <td>0.001972</td>\n",
       "    </tr>\n",
       "    <tr>\n",
       "      <th>932</th>\n",
       "      <td>0.001971</td>\n",
       "    </tr>\n",
       "    <tr>\n",
       "      <th>611</th>\n",
       "      <td>0.001956</td>\n",
       "    </tr>\n",
       "    <tr>\n",
       "      <th>91</th>\n",
       "      <td>0.001911</td>\n",
       "    </tr>\n",
       "    <tr>\n",
       "      <th>213</th>\n",
       "      <td>0.001867</td>\n",
       "    </tr>\n",
       "  </tbody>\n",
       "</table>\n",
       "<p>100 rows × 1 columns</p>\n",
       "</div>"
      ],
      "text/plain": [
       "     importance\n",
       "63     0.065255\n",
       "792    0.055124\n",
       "362    0.049652\n",
       "131    0.038941\n",
       "175    0.026741\n",
       "..          ...\n",
       "484    0.001972\n",
       "932    0.001971\n",
       "611    0.001956\n",
       "91     0.001911\n",
       "213    0.001867\n",
       "\n",
       "[100 rows x 1 columns]"
      ]
     },
     "execution_count": 191,
     "metadata": {},
     "output_type": "execute_result"
    }
   ],
   "source": [
    "morgan_features=feature_importance[0:100]\n",
    "morgan_features"
   ]
  },
  {
   "cell_type": "code",
   "execution_count": 192,
   "metadata": {},
   "outputs": [
    {
     "name": "stdout",
     "output_type": "stream",
     "text": [
      "    63  792 362 131 175 12  127 298 831 980  ... 254 137 962 268 542 484 932  \\\n",
      "0     0   0   1   1   0   0   0   0   0   0  ...   0   0   0   0   1   0   0   \n",
      "1     0   1   1   1   1   1   0   0   1   0  ...   0   0   0   0   0   0   0   \n",
      "2     0   0   0   0   0   0   0   0   0   0  ...   0   0   0   0   0   0   0   \n",
      "3     1   0   0   0   0   0   0   0   0   0  ...   0   0   0   0   0   0   0   \n",
      "4     0   0   1   1   0   1   0   1   0   0  ...   0   0   1   0   0   0   0   \n",
      "..   ..  ..  ..  ..  ..  ..  ..  ..  ..  ..  ...  ..  ..  ..  ..  ..  ..  ..   \n",
      "161   0   0   0   0   0   0   0   0   0   0  ...   0   1   0   0   0   0   0   \n",
      "162   0   0   1   0   0   0   0   0   0   0  ...   0   0   0   0   0   0   0   \n",
      "163   0   0   0   0   0   0   0   0   0   0  ...   0   1   0   1   0   0   0   \n",
      "164   0   0   0   0   0   0   0   0   0   0  ...   0   0   0   0   0   0   0   \n",
      "165   0   0   0   0   0   0   0   0   0   0  ...   0   1   0   0   0   0   0   \n",
      "\n",
      "    611 91  213  \n",
      "0     0   0   1  \n",
      "1     0   1   0  \n",
      "2     0   0   0  \n",
      "3     1   0   0  \n",
      "4     0   0   0  \n",
      "..   ..  ..  ..  \n",
      "161   0   1   0  \n",
      "162   1   0   1  \n",
      "163   0   0   0  \n",
      "164   0   0   0  \n",
      "165   0   0   0  \n",
      "\n",
      "[166 rows x 100 columns]\n"
     ]
    }
   ],
   "source": [
    "#seeing the top 100 features with higher importance\n",
    "print(Xm[morgan_features.index])"
   ]
  },
  {
   "cell_type": "code",
   "execution_count": 193,
   "metadata": {},
   "outputs": [
    {
     "data": {
      "text/plain": [
       "<matplotlib.axes._subplots.AxesSubplot at 0x1a29016110>"
      ]
     },
     "execution_count": 193,
     "metadata": {},
     "output_type": "execute_result"
    },
    {
     "data": {
      "image/png": "[encoded data removed]",
      "text/plain": [
       "<Figure size 1728x864 with 1 Axes>"
      ]
     },
     "metadata": {},
     "output_type": "display_data"
    }
   ],
   "source": [
    "#plotting histogram for features after feature selection\n",
    "import seaborn as sb\n",
    "\n",
    "f, axes = plt.subplots(1, 1, figsize=(24, 12))\n",
    "sb.distplot(morgan_features, kde = False, color = \"red\",axlabel=\"Feature Importance\")"
   ]
  },
  {
   "cell_type": "markdown",
   "metadata": {},
   "source": [
    "### Random forest model (after feature selection)"
   ]
  },
  {
   "cell_type": "code",
   "execution_count": 194,
   "metadata": {},
   "outputs": [
    {
     "name": "stdout",
     "output_type": "stream",
     "text": [
      "The accuracy score for random forest model is 70.59744525608012\n"
     ]
    }
   ],
   "source": [
    "Xm_feat_train,Xm_feat_test,ym_feat_train,ym_feat_test=train_test_split(Xm[morgan_features.index],y,test_size=0.3,random_state=0)\n",
    "newrfmodel= RandomForestRegressor(n_estimators=100)\n",
    "newrfmodel.fit(Xm_feat_train,ym_feat_train)\n",
    "newrf_predict=newrfmodel.predict(Xm_feat_test)\n",
    "\n",
    "#determining the accuracy\n",
    "newrferrors=abs(newrf_predict-ym_feat_test)\n",
    "newrfmape=100*(newrferrors/ym_feat_test)\n",
    "print(\"The accuracy score for random forest model is\",100-np.mean(newrfmape))"
   ]
  },
  {
   "cell_type": "markdown",
   "metadata": {},
   "source": [
    "## After feature selection\n",
    "Testing if the model performs better after feature selection"
   ]
  },
  {
   "cell_type": "markdown",
   "metadata": {},
   "source": [
    "__Summary of data__ (After feature selection)\n",
    "<br>\n",
    "The accuracy scores for the various models are as follows:<br>\n",
    "Linear regression: -678154284490331.2 <br>\n",
    "Random forest: 70.59744525608012 <br>\n",
    "SVR: 91.14161876418865 <br>"
   ]
  },
  {
   "cell_type": "markdown",
   "metadata": {},
   "source": [
    "---"
   ]
  },
  {
   "cell_type": "markdown",
   "metadata": {},
   "source": [
    "# Training models (Maccs Fingerprint)\n"
   ]
  },
  {
   "cell_type": "code",
   "execution_count": 195,
   "metadata": {},
   "outputs": [
    {
     "data": {
      "text/plain": [
       "167"
      ]
     },
     "execution_count": 195,
     "metadata": {},
     "output_type": "execute_result"
    }
   ],
   "source": [
    "maccsfp=data['maccs']\n",
    "maccsfp_x= maccsfp.apply(lambda x: np.fromstring(x,dtype=int, sep=' '))\n",
    "Xmac=maccsfp_x\n",
    "y=data['ic50']\n",
    "len(Xmac[0])"
   ]
  },
  {
   "cell_type": "code",
   "execution_count": 196,
   "metadata": {},
   "outputs": [
    {
     "data": {
      "text/html": [
       "<div>\n",
       "<style scoped>\n",
       "    .dataframe tbody tr th:only-of-type {\n",
       "        vertical-align: middle;\n",
       "    }\n",
       "\n",
       "    .dataframe tbody tr th {\n",
       "        vertical-align: top;\n",
       "    }\n",
       "\n",
       "    .dataframe thead tr th {\n",
       "        text-align: left;\n",
       "    }\n",
       "</style>\n",
       "<table border=\"1\" class=\"dataframe\">\n",
       "  <thead>\n",
       "    <tr>\n",
       "      <th></th>\n",
       "      <th>1</th>\n",
       "      <th>2</th>\n",
       "      <th>3</th>\n",
       "      <th>4</th>\n",
       "      <th>5</th>\n",
       "      <th>6</th>\n",
       "      <th>7</th>\n",
       "      <th>8</th>\n",
       "      <th>9</th>\n",
       "      <th>10</th>\n",
       "      <th>...</th>\n",
       "      <th>158</th>\n",
       "      <th>159</th>\n",
       "      <th>160</th>\n",
       "      <th>161</th>\n",
       "      <th>162</th>\n",
       "      <th>163</th>\n",
       "      <th>164</th>\n",
       "      <th>165</th>\n",
       "      <th>166</th>\n",
       "      <th>167</th>\n",
       "    </tr>\n",
       "  </thead>\n",
       "  <tbody>\n",
       "    <tr>\n",
       "      <th>0</th>\n",
       "      <td>0</td>\n",
       "      <td>0</td>\n",
       "      <td>0</td>\n",
       "      <td>0</td>\n",
       "      <td>0</td>\n",
       "      <td>0</td>\n",
       "      <td>0</td>\n",
       "      <td>0</td>\n",
       "      <td>0</td>\n",
       "      <td>0</td>\n",
       "      <td>...</td>\n",
       "      <td>1</td>\n",
       "      <td>1</td>\n",
       "      <td>1</td>\n",
       "      <td>1</td>\n",
       "      <td>1</td>\n",
       "      <td>1</td>\n",
       "      <td>1</td>\n",
       "      <td>1</td>\n",
       "      <td>1</td>\n",
       "      <td>0</td>\n",
       "    </tr>\n",
       "    <tr>\n",
       "      <th>1</th>\n",
       "      <td>0</td>\n",
       "      <td>0</td>\n",
       "      <td>0</td>\n",
       "      <td>0</td>\n",
       "      <td>0</td>\n",
       "      <td>0</td>\n",
       "      <td>0</td>\n",
       "      <td>0</td>\n",
       "      <td>0</td>\n",
       "      <td>0</td>\n",
       "      <td>...</td>\n",
       "      <td>1</td>\n",
       "      <td>1</td>\n",
       "      <td>1</td>\n",
       "      <td>1</td>\n",
       "      <td>1</td>\n",
       "      <td>1</td>\n",
       "      <td>1</td>\n",
       "      <td>1</td>\n",
       "      <td>1</td>\n",
       "      <td>0</td>\n",
       "    </tr>\n",
       "    <tr>\n",
       "      <th>2</th>\n",
       "      <td>0</td>\n",
       "      <td>0</td>\n",
       "      <td>0</td>\n",
       "      <td>0</td>\n",
       "      <td>0</td>\n",
       "      <td>0</td>\n",
       "      <td>0</td>\n",
       "      <td>0</td>\n",
       "      <td>0</td>\n",
       "      <td>1</td>\n",
       "      <td>...</td>\n",
       "      <td>0</td>\n",
       "      <td>0</td>\n",
       "      <td>0</td>\n",
       "      <td>0</td>\n",
       "      <td>1</td>\n",
       "      <td>0</td>\n",
       "      <td>0</td>\n",
       "      <td>0</td>\n",
       "      <td>0</td>\n",
       "      <td>1</td>\n",
       "    </tr>\n",
       "    <tr>\n",
       "      <th>3</th>\n",
       "      <td>0</td>\n",
       "      <td>0</td>\n",
       "      <td>0</td>\n",
       "      <td>0</td>\n",
       "      <td>0</td>\n",
       "      <td>0</td>\n",
       "      <td>0</td>\n",
       "      <td>0</td>\n",
       "      <td>0</td>\n",
       "      <td>0</td>\n",
       "      <td>...</td>\n",
       "      <td>1</td>\n",
       "      <td>1</td>\n",
       "      <td>1</td>\n",
       "      <td>0</td>\n",
       "      <td>1</td>\n",
       "      <td>1</td>\n",
       "      <td>1</td>\n",
       "      <td>1</td>\n",
       "      <td>1</td>\n",
       "      <td>0</td>\n",
       "    </tr>\n",
       "    <tr>\n",
       "      <th>4</th>\n",
       "      <td>0</td>\n",
       "      <td>0</td>\n",
       "      <td>0</td>\n",
       "      <td>0</td>\n",
       "      <td>0</td>\n",
       "      <td>0</td>\n",
       "      <td>0</td>\n",
       "      <td>0</td>\n",
       "      <td>1</td>\n",
       "      <td>0</td>\n",
       "      <td>...</td>\n",
       "      <td>1</td>\n",
       "      <td>1</td>\n",
       "      <td>1</td>\n",
       "      <td>1</td>\n",
       "      <td>1</td>\n",
       "      <td>1</td>\n",
       "      <td>1</td>\n",
       "      <td>1</td>\n",
       "      <td>1</td>\n",
       "      <td>0</td>\n",
       "    </tr>\n",
       "    <tr>\n",
       "      <th>...</th>\n",
       "      <td>...</td>\n",
       "      <td>...</td>\n",
       "      <td>...</td>\n",
       "      <td>...</td>\n",
       "      <td>...</td>\n",
       "      <td>...</td>\n",
       "      <td>...</td>\n",
       "      <td>...</td>\n",
       "      <td>...</td>\n",
       "      <td>...</td>\n",
       "      <td>...</td>\n",
       "      <td>...</td>\n",
       "      <td>...</td>\n",
       "      <td>...</td>\n",
       "      <td>...</td>\n",
       "      <td>...</td>\n",
       "      <td>...</td>\n",
       "      <td>...</td>\n",
       "      <td>...</td>\n",
       "      <td>...</td>\n",
       "      <td>...</td>\n",
       "    </tr>\n",
       "    <tr>\n",
       "      <th>161</th>\n",
       "      <td>0</td>\n",
       "      <td>0</td>\n",
       "      <td>0</td>\n",
       "      <td>0</td>\n",
       "      <td>0</td>\n",
       "      <td>0</td>\n",
       "      <td>0</td>\n",
       "      <td>0</td>\n",
       "      <td>0</td>\n",
       "      <td>0</td>\n",
       "      <td>...</td>\n",
       "      <td>0</td>\n",
       "      <td>1</td>\n",
       "      <td>0</td>\n",
       "      <td>1</td>\n",
       "      <td>1</td>\n",
       "      <td>1</td>\n",
       "      <td>1</td>\n",
       "      <td>1</td>\n",
       "      <td>1</td>\n",
       "      <td>0</td>\n",
       "    </tr>\n",
       "    <tr>\n",
       "      <th>162</th>\n",
       "      <td>0</td>\n",
       "      <td>0</td>\n",
       "      <td>0</td>\n",
       "      <td>0</td>\n",
       "      <td>0</td>\n",
       "      <td>0</td>\n",
       "      <td>0</td>\n",
       "      <td>0</td>\n",
       "      <td>0</td>\n",
       "      <td>0</td>\n",
       "      <td>...</td>\n",
       "      <td>1</td>\n",
       "      <td>1</td>\n",
       "      <td>1</td>\n",
       "      <td>0</td>\n",
       "      <td>1</td>\n",
       "      <td>1</td>\n",
       "      <td>1</td>\n",
       "      <td>1</td>\n",
       "      <td>1</td>\n",
       "      <td>0</td>\n",
       "    </tr>\n",
       "    <tr>\n",
       "      <th>163</th>\n",
       "      <td>0</td>\n",
       "      <td>0</td>\n",
       "      <td>0</td>\n",
       "      <td>0</td>\n",
       "      <td>0</td>\n",
       "      <td>0</td>\n",
       "      <td>0</td>\n",
       "      <td>0</td>\n",
       "      <td>0</td>\n",
       "      <td>0</td>\n",
       "      <td>...</td>\n",
       "      <td>0</td>\n",
       "      <td>1</td>\n",
       "      <td>1</td>\n",
       "      <td>1</td>\n",
       "      <td>1</td>\n",
       "      <td>1</td>\n",
       "      <td>1</td>\n",
       "      <td>1</td>\n",
       "      <td>1</td>\n",
       "      <td>0</td>\n",
       "    </tr>\n",
       "    <tr>\n",
       "      <th>164</th>\n",
       "      <td>0</td>\n",
       "      <td>0</td>\n",
       "      <td>0</td>\n",
       "      <td>0</td>\n",
       "      <td>0</td>\n",
       "      <td>0</td>\n",
       "      <td>0</td>\n",
       "      <td>0</td>\n",
       "      <td>0</td>\n",
       "      <td>0</td>\n",
       "      <td>...</td>\n",
       "      <td>1</td>\n",
       "      <td>1</td>\n",
       "      <td>1</td>\n",
       "      <td>1</td>\n",
       "      <td>1</td>\n",
       "      <td>1</td>\n",
       "      <td>1</td>\n",
       "      <td>1</td>\n",
       "      <td>1</td>\n",
       "      <td>0</td>\n",
       "    </tr>\n",
       "    <tr>\n",
       "      <th>165</th>\n",
       "      <td>0</td>\n",
       "      <td>0</td>\n",
       "      <td>0</td>\n",
       "      <td>0</td>\n",
       "      <td>0</td>\n",
       "      <td>0</td>\n",
       "      <td>0</td>\n",
       "      <td>0</td>\n",
       "      <td>0</td>\n",
       "      <td>0</td>\n",
       "      <td>...</td>\n",
       "      <td>1</td>\n",
       "      <td>1</td>\n",
       "      <td>1</td>\n",
       "      <td>1</td>\n",
       "      <td>1</td>\n",
       "      <td>1</td>\n",
       "      <td>1</td>\n",
       "      <td>1</td>\n",
       "      <td>1</td>\n",
       "      <td>0</td>\n",
       "    </tr>\n",
       "  </tbody>\n",
       "</table>\n",
       "<p>166 rows × 167 columns</p>\n",
       "</div>"
      ],
      "text/plain": [
       "    1   2   3   4   5   6   7   8   9   10   ... 158 159 160 161 162 163 164  \\\n",
       "0     0   0   0   0   0   0   0   0   0   0  ...   1   1   1   1   1   1   1   \n",
       "1     0   0   0   0   0   0   0   0   0   0  ...   1   1   1   1   1   1   1   \n",
       "2     0   0   0   0   0   0   0   0   0   1  ...   0   0   0   0   1   0   0   \n",
       "3     0   0   0   0   0   0   0   0   0   0  ...   1   1   1   0   1   1   1   \n",
       "4     0   0   0   0   0   0   0   0   1   0  ...   1   1   1   1   1   1   1   \n",
       "..   ..  ..  ..  ..  ..  ..  ..  ..  ..  ..  ...  ..  ..  ..  ..  ..  ..  ..   \n",
       "161   0   0   0   0   0   0   0   0   0   0  ...   0   1   0   1   1   1   1   \n",
       "162   0   0   0   0   0   0   0   0   0   0  ...   1   1   1   0   1   1   1   \n",
       "163   0   0   0   0   0   0   0   0   0   0  ...   0   1   1   1   1   1   1   \n",
       "164   0   0   0   0   0   0   0   0   0   0  ...   1   1   1   1   1   1   1   \n",
       "165   0   0   0   0   0   0   0   0   0   0  ...   1   1   1   1   1   1   1   \n",
       "\n",
       "    165 166 167  \n",
       "0     1   1   0  \n",
       "1     1   1   0  \n",
       "2     0   0   1  \n",
       "3     1   1   0  \n",
       "4     1   1   0  \n",
       "..   ..  ..  ..  \n",
       "161   1   1   0  \n",
       "162   1   1   0  \n",
       "163   1   1   0  \n",
       "164   1   1   0  \n",
       "165   1   1   0  \n",
       "\n",
       "[166 rows x 167 columns]"
      ]
     },
     "execution_count": 196,
     "metadata": {},
     "output_type": "execute_result"
    }
   ],
   "source": [
    "Xmac=pd.DataFrame(columns=[np.arange(1,168)])\n",
    "#\n",
    "for i in range(0,len(topo_x)):\n",
    "    Xmac = Xmac.append( pd.Series(maccsfp_x[i], index=Xmac.columns ),ignore_index=True)\n",
    "Xmac"
   ]
  },
  {
   "cell_type": "markdown",
   "metadata": {},
   "source": [
    "### Linear regression model (before feature selection)\n",
    "Using Maccs fingerprints"
   ]
  },
  {
   "cell_type": "code",
   "execution_count": 197,
   "metadata": {},
   "outputs": [
    {
     "name": "stdout",
     "output_type": "stream",
     "text": [
      "The model score is: -5.608488837349783e+22\n",
      "The accuracy score for linear regression model is: -16096181421901.186\n"
     ]
    }
   ],
   "source": [
    "#creating test and training set\n",
    "X_mac_train,X_mac_test,y_mac_train,y_mac_test=train_test_split(Xmac,y,test_size=0.3,random_state=0)\n",
    "model= LinearRegression()\n",
    "model.fit(X_mac_train,y_mac_train)\n",
    "y_mac_pred=model.predict(X_mac_test)\n",
    "\n",
    "#determining the model score\n",
    "print(\"The model score is:\", model.score(X_mac_test,y_mac_test))\n",
    "\n",
    "#determining the accuracy score\n",
    "linreg_error=abs(y_mac_pred-y_mac_test)\n",
    "linreg_mape=100*(linreg_error/y_mac_test)\n",
    "print(\"The accuracy score for linear regression model is:\",100-np.mean(linreg_mape))"
   ]
  },
  {
   "cell_type": "markdown",
   "metadata": {},
   "source": [
    "### Random Forest model (before feature selection)\n",
    "Using Maccs fingerprints"
   ]
  },
  {
   "cell_type": "code",
   "execution_count": 198,
   "metadata": {},
   "outputs": [
    {
     "name": "stdout",
     "output_type": "stream",
     "text": [
      "The correlation score for training set is: 0.863796093167731\n",
      "The correlation score for training set is: 0.30747539209531216\n",
      "The accuracy score for rf model is: 57.011417823623304\n"
     ]
    }
   ],
   "source": [
    "rfmodel= RandomForestRegressor(n_estimators=100)\n",
    "rfmodel.fit(X_mac_train,y_mac_train)\n",
    "\n",
    "#score gives you correlation\n",
    "rf_predict=rfmodel.predict(X_mac_test)\n",
    "print(\"The correlation score for training set is:\",rfmodel.score(X_mac_train,y_mac_train))\n",
    "print(\"The correlation score for training set is:\",rfmodel.score(X_mac_test,y_mac_test))\n",
    "#determining the accuracy\n",
    "errors=abs(rf_predict-y_mac_test)\n",
    "mape=100*(errors/y_mac_test)\n",
    "print(\"The accuracy score for rf model is:\",100-np.mean(mape))"
   ]
  },
  {
   "cell_type": "markdown",
   "metadata": {},
   "source": [
    "### Support Vector Regression model (before feature selection)\n",
    "Using Morgan fingerprints"
   ]
  },
  {
   "cell_type": "code",
   "execution_count": 199,
   "metadata": {},
   "outputs": [
    {
     "name": "stdout",
     "output_type": "stream",
     "text": [
      "The R^2 value for training set is: 0.30261458697956756\n",
      "The R^2 value for test set is 0.13391732873182705\n",
      "The accuracy score for svr model is: 75.740677699616\n"
     ]
    }
   ],
   "source": [
    "svrmodel= SVR(C=1.0, epsilon=0.2)\n",
    "svrmodel.fit(X_mac_train,y_mac_train)\n",
    "\n",
    "svr_predict=svrmodel.predict(X_mac_test)\n",
    "\n",
    "#According to the documentation, the score returns the coefficient of determination R^2 of the prediction\n",
    "print(\"The R^2 value for training set is:\",svrmodel.score(X_mac_train,y_mac_train))\n",
    "print(\"The R^2 value for test set is\",svrmodel.score(X_mac_test,y_mac_test))\n",
    "\n",
    "#determining the accuracy\n",
    "svrerrors=abs(svr_predict-y_mac_test)\n",
    "svrmape=100*(svrerrors/y_mac_test)\n",
    "print(\"The accuracy score for svr model is:\",100-np.mean(svrmape))"
   ]
  },
  {
   "cell_type": "markdown",
   "metadata": {},
   "source": [
    "__Summary of data__\n",
    "<br>\n",
    "The accuracy scores for the various models are as follows:<br>\n",
    "Linear regression: -15350409125293.8 <br>\n",
    "Random forest: 60.1961016362716 <br>\n",
    "SVR: 75.740677699616 <br>"
   ]
  },
  {
   "cell_type": "markdown",
   "metadata": {},
   "source": [
    "## Feature Selection"
   ]
  },
  {
   "cell_type": "markdown",
   "metadata": {},
   "source": [
    "## Feature selection (Using Lasso Regression)"
   ]
  },
  {
   "cell_type": "code",
   "execution_count": 200,
   "metadata": {},
   "outputs": [
    {
     "data": {
      "text/plain": [
       "Lasso(alpha=0.3, copy_X=True, fit_intercept=True, max_iter=1000,\n",
       "      normalize=False, positive=False, precompute=False, random_state=None,\n",
       "      selection='cyclic', tol=0.0001, warm_start=False)"
      ]
     },
     "execution_count": 200,
     "metadata": {},
     "output_type": "execute_result"
    }
   ],
   "source": [
    "from sklearn.linear_model import Lasso\n",
    "from sklearn.feature_selection import SelectFromModel\n",
    "from sklearn.preprocessing import StandardScaler\n",
    "\n",
    "lasso = Lasso(alpha=.3)\n",
    "lasso.fit(Xmac, y)"
   ]
  },
  {
   "cell_type": "code",
   "execution_count": 201,
   "metadata": {},
   "outputs": [
    {
     "data": {
      "text/plain": [
       "-0.7483152262226007"
      ]
     },
     "execution_count": 201,
     "metadata": {},
     "output_type": "execute_result"
    }
   ],
   "source": [
    "lasso.coef_.sum()"
   ]
  },
  {
   "cell_type": "code",
   "execution_count": 202,
   "metadata": {},
   "outputs": [],
   "source": [
    "lasso_recoef= lasso.coef_/lasso.coef_.sum()"
   ]
  },
  {
   "cell_type": "code",
   "execution_count": 203,
   "metadata": {},
   "outputs": [
    {
     "data": {
      "text/html": [
       "<div>\n",
       "<style scoped>\n",
       "    .dataframe tbody tr th:only-of-type {\n",
       "        vertical-align: middle;\n",
       "    }\n",
       "\n",
       "    .dataframe tbody tr th {\n",
       "        vertical-align: top;\n",
       "    }\n",
       "\n",
       "    .dataframe thead th {\n",
       "        text-align: right;\n",
       "    }\n",
       "</style>\n",
       "<table border=\"1\" class=\"dataframe\">\n",
       "  <thead>\n",
       "    <tr style=\"text-align: right;\">\n",
       "      <th></th>\n",
       "      <th>importance</th>\n",
       "    </tr>\n",
       "  </thead>\n",
       "  <tbody>\n",
       "    <tr>\n",
       "      <th>141</th>\n",
       "      <td>0.996418</td>\n",
       "    </tr>\n",
       "    <tr>\n",
       "      <th>55</th>\n",
       "      <td>0.003582</td>\n",
       "    </tr>\n",
       "    <tr>\n",
       "      <th>1</th>\n",
       "      <td>-0.000000</td>\n",
       "    </tr>\n",
       "    <tr>\n",
       "      <th>108</th>\n",
       "      <td>-0.000000</td>\n",
       "    </tr>\n",
       "    <tr>\n",
       "      <th>109</th>\n",
       "      <td>0.000000</td>\n",
       "    </tr>\n",
       "    <tr>\n",
       "      <th>...</th>\n",
       "      <td>...</td>\n",
       "    </tr>\n",
       "    <tr>\n",
       "      <th>58</th>\n",
       "      <td>0.000000</td>\n",
       "    </tr>\n",
       "    <tr>\n",
       "      <th>59</th>\n",
       "      <td>-0.000000</td>\n",
       "    </tr>\n",
       "    <tr>\n",
       "      <th>60</th>\n",
       "      <td>-0.000000</td>\n",
       "    </tr>\n",
       "    <tr>\n",
       "      <th>61</th>\n",
       "      <td>-0.000000</td>\n",
       "    </tr>\n",
       "    <tr>\n",
       "      <th>167</th>\n",
       "      <td>0.000000</td>\n",
       "    </tr>\n",
       "  </tbody>\n",
       "</table>\n",
       "<p>167 rows × 1 columns</p>\n",
       "</div>"
      ],
      "text/plain": [
       "     importance\n",
       "141    0.996418\n",
       "55     0.003582\n",
       "1     -0.000000\n",
       "108   -0.000000\n",
       "109    0.000000\n",
       "..          ...\n",
       "58     0.000000\n",
       "59    -0.000000\n",
       "60    -0.000000\n",
       "61    -0.000000\n",
       "167    0.000000\n",
       "\n",
       "[167 rows x 1 columns]"
      ]
     },
     "execution_count": 203,
     "metadata": {},
     "output_type": "execute_result"
    }
   ],
   "source": [
    "feature_importance= pd.DataFrame(lasso_recoef,\\\n",
    "                                 index = Xmac.columns,\\\n",
    "                                 columns=['importance']).sort_values('importance', ascending=False)\n",
    "feature_importance.round(6)"
   ]
  },
  {
   "cell_type": "code",
   "execution_count": 204,
   "metadata": {},
   "outputs": [
    {
     "data": {
      "text/plain": [
       "Text(0, 0.5, 'Number of Features')"
      ]
     },
     "execution_count": 204,
     "metadata": {},
     "output_type": "execute_result"
    },
    {
     "data": {
      "image/png": "[encoded data removed]",
      "text/plain": [
       "<Figure size 1728x864 with 1 Axes>"
      ]
     },
     "metadata": {},
     "output_type": "display_data"
    }
   ],
   "source": [
    "#identifying the relative importance of features within a fingerprint\n",
    "import seaborn as sb\n",
    "#histogram without feature selection\n",
    "sb.set(font_scale=2)\n",
    "f, axes = plt.subplots(1, 1, figsize=(24, 12))\n",
    "a= sb.distplot(feature_importance, kde = False, color = \"blue\", axlabel=\"Feature Importance\")\n",
    "a.set_ylabel(\"Number of Features\")"
   ]
  },
  {
   "cell_type": "code",
   "execution_count": 205,
   "metadata": {},
   "outputs": [
    {
     "data": {
      "text/html": [
       "<div>\n",
       "<style scoped>\n",
       "    .dataframe tbody tr th:only-of-type {\n",
       "        vertical-align: middle;\n",
       "    }\n",
       "\n",
       "    .dataframe tbody tr th {\n",
       "        vertical-align: top;\n",
       "    }\n",
       "\n",
       "    .dataframe thead th {\n",
       "        text-align: right;\n",
       "    }\n",
       "</style>\n",
       "<table border=\"1\" class=\"dataframe\">\n",
       "  <thead>\n",
       "    <tr style=\"text-align: right;\">\n",
       "      <th></th>\n",
       "      <th>importance</th>\n",
       "    </tr>\n",
       "  </thead>\n",
       "  <tbody>\n",
       "    <tr>\n",
       "      <th>141</th>\n",
       "      <td>0.996418</td>\n",
       "    </tr>\n",
       "    <tr>\n",
       "      <th>55</th>\n",
       "      <td>0.003582</td>\n",
       "    </tr>\n",
       "    <tr>\n",
       "      <th>1</th>\n",
       "      <td>-0.000000</td>\n",
       "    </tr>\n",
       "    <tr>\n",
       "      <th>108</th>\n",
       "      <td>-0.000000</td>\n",
       "    </tr>\n",
       "    <tr>\n",
       "      <th>109</th>\n",
       "      <td>0.000000</td>\n",
       "    </tr>\n",
       "    <tr>\n",
       "      <th>...</th>\n",
       "      <td>...</td>\n",
       "    </tr>\n",
       "    <tr>\n",
       "      <th>32</th>\n",
       "      <td>-0.000000</td>\n",
       "    </tr>\n",
       "    <tr>\n",
       "      <th>33</th>\n",
       "      <td>-0.000000</td>\n",
       "    </tr>\n",
       "    <tr>\n",
       "      <th>34</th>\n",
       "      <td>-0.000000</td>\n",
       "    </tr>\n",
       "    <tr>\n",
       "      <th>35</th>\n",
       "      <td>-0.000000</td>\n",
       "    </tr>\n",
       "    <tr>\n",
       "      <th>36</th>\n",
       "      <td>-0.000000</td>\n",
       "    </tr>\n",
       "  </tbody>\n",
       "</table>\n",
       "<p>100 rows × 1 columns</p>\n",
       "</div>"
      ],
      "text/plain": [
       "     importance\n",
       "141    0.996418\n",
       "55     0.003582\n",
       "1     -0.000000\n",
       "108   -0.000000\n",
       "109    0.000000\n",
       "..          ...\n",
       "32    -0.000000\n",
       "33    -0.000000\n",
       "34    -0.000000\n",
       "35    -0.000000\n",
       "36    -0.000000\n",
       "\n",
       "[100 rows x 1 columns]"
      ]
     },
     "execution_count": 205,
     "metadata": {},
     "output_type": "execute_result"
    }
   ],
   "source": [
    "#select these indexes and get those respective features from X\n",
    "feature_lasso=feature_importance[0:100]\n",
    "feature_lasso"
   ]
  },
  {
   "cell_type": "code",
   "execution_count": 206,
   "metadata": {},
   "outputs": [
    {
     "name": "stdout",
     "output_type": "stream",
     "text": [
      "    141 55  1   108 109 110 111 112 113 114  ... 27  28  29  30  31  32  33   \\\n",
      "0     1   0   0   0   0   1   1   0   1   1  ...   0   0   0   0   0   0   0   \n",
      "1     1   0   0   0   1   0   0   1   1   1  ...   0   0   0   0   0   0   0   \n",
      "2     0   0   0   0   0   0   0   0   0   0  ...   0   0   0   0   0   0   0   \n",
      "3     1   1   0   0   0   1   1   0   0   1  ...   0   0   0   0   0   0   0   \n",
      "4     1   1   0   0   1   1   1   0   1   0  ...   1   0   0   0   0   0   0   \n",
      "..   ..  ..  ..  ..  ..  ..  ..  ..  ..  ..  ...  ..  ..  ..  ..  ..  ..  ..   \n",
      "161   0   0   0   0   1   0   1   1   0   1  ...   0   0   0   0   0   0   0   \n",
      "162   0   1   0   0   0   0   1   1   0   0  ...   0   0   0   0   0   0   0   \n",
      "163   0   0   0   0   0   0   1   0   1   0  ...   0   0   0   0   0   0   0   \n",
      "164   1   0   0   0   0   1   1   1   0   1  ...   0   0   0   0   0   0   0   \n",
      "165   0   0   0   1   1   0   0   1   1   0  ...   0   0   0   0   0   0   0   \n",
      "\n",
      "    34  35  36   \n",
      "0     0   0   0  \n",
      "1     0   0   0  \n",
      "2     0   0   0  \n",
      "3     0   0   0  \n",
      "4     0   0   0  \n",
      "..   ..  ..  ..  \n",
      "161   0   0   0  \n",
      "162   0   0   0  \n",
      "163   0   0   0  \n",
      "164   0   0   0  \n",
      "165   0   0   0  \n",
      "\n",
      "[166 rows x 100 columns]\n"
     ]
    }
   ],
   "source": [
    "print(Xmac[feature_lasso.index])"
   ]
  },
  {
   "cell_type": "code",
   "execution_count": 207,
   "metadata": {},
   "outputs": [
    {
     "data": {
      "text/plain": [
       "Text(0, 0.5, 'Number of Features')"
      ]
     },
     "execution_count": 207,
     "metadata": {},
     "output_type": "execute_result"
    },
    {
     "data": {
      "image/png": "[encoded data removed]",
      "text/plain": [
       "<Figure size 1728x864 with 1 Axes>"
      ]
     },
     "metadata": {},
     "output_type": "display_data"
    }
   ],
   "source": [
    "#plotting histogram for features after feature selection\n",
    "import seaborn as sb\n",
    "\n",
    "f, axes = plt.subplots(1, 1, figsize=(24, 12))\n",
    "sb.distplot(feature_lasso, kde = False, color = \"purple\",axlabel=\"Feature Importance\")\n",
    "axes.set_ylabel(\"Number of Features\")"
   ]
  },
  {
   "cell_type": "code",
   "execution_count": 208,
   "metadata": {},
   "outputs": [
    {
     "name": "stdout",
     "output_type": "stream",
     "text": [
      "The model score for linear regression model is -4.739998454205092\n",
      "The accuracy score for linear lasso regression model is: -174.2361862455151\n"
     ]
    }
   ],
   "source": [
    "#creating test and training set after feature selection\n",
    "Xmac_lasso_train,Xmac_lasso_test,ymac_lasso_train,ymac_lasso_test=train_test_split(Xmac[feature_lasso.index],y,test_size=0.3,random_state=0)\n",
    "lassomodel= LinearRegression()\n",
    "lassomodel.fit(Xmac_lasso_train,ymac_lasso_train)\n",
    "ymac_lassopred=lassomodel.predict(Xmac_lasso_test)\n",
    "\n",
    "#new model score after feature selection\n",
    "print(\"The model score for linear regression model is\",lassomodel.score(Xmac_lasso_test,ymac_lasso_test))\n",
    "\n",
    "#determining the accuracy score\n",
    "lassolinreg_error=abs(ymac_lassopred-ymac_lasso_test)\n",
    "lassolinreg_mape=100*(lassolinreg_error/ymac_lasso_test)\n",
    "print(\"The accuracy score for linear lasso regression model is:\",100-np.mean(lassolinreg_mape))"
   ]
  },
  {
   "cell_type": "markdown",
   "metadata": {},
   "source": [
    "## Feature selection (Using SVM RFE)"
   ]
  },
  {
   "cell_type": "code",
   "execution_count": 209,
   "metadata": {},
   "outputs": [],
   "source": [
    "import pandas as pd\n",
    "from sklearn.feature_selection import RFE\n",
    "from sklearn.svm import SVR\n",
    "svrmodel= SVR(kernel=\"linear\") #read online that rfe only works when kernel is linear, not sure what is the effect\n",
    "rfe= RFE(svrmodel,n_features_to_select=100, step=1)\n",
    "rfe= rfe.fit(Xmac,y)"
   ]
  },
  {
   "cell_type": "code",
   "execution_count": 210,
   "metadata": {},
   "outputs": [
    {
     "data": {
      "text/plain": [
       "array([68, 67, 66, 65, 64, 63, 62, 61,  1, 10, 59,  1, 55,  1, 54, 53,  1,\n",
       "        1,  1,  1, 57,  1, 22,  1,  1, 40,  1,  1,  1,  1, 58, 56,  1, 49,\n",
       "        2, 60, 36,  1,  1,  1,  1,  1, 43, 16,  1, 12,  1,  1, 32,  1,  3,\n",
       "        1, 21,  1,  1,  1,  1,  1, 28,  1, 24,  1, 18,  1,  1,  1, 39,  1,\n",
       "        1, 20,  1, 38, 37, 11,  1,  1,  5, 42,  1,  1,  1,  1,  1,  1,  1,\n",
       "        1,  1,  1, 51, 52, 47, 17,  1, 48, 45,  1,  1, 41,  1,  9,  1,  4,\n",
       "       26,  1, 23,  1, 19,  1, 30,  1,  1, 14,  1, 15,  1,  1,  1,  1,  1,\n",
       "       33, 29,  1,  1, 46, 31,  1,  1,  1,  8, 44,  1,  1,  1,  1, 34,  1,\n",
       "        1,  1,  1, 35, 13,  1,  1, 25,  6,  1,  1,  1,  1,  1,  7, 27,  1,\n",
       "        1,  1,  1,  1, 50,  1,  1,  1,  1,  1,  1,  1,  1,  1])"
      ]
     },
     "execution_count": 210,
     "metadata": {},
     "output_type": "execute_result"
    }
   ],
   "source": [
    "rfe.ranking_"
   ]
  },
  {
   "cell_type": "code",
   "execution_count": 211,
   "metadata": {},
   "outputs": [
    {
     "data": {
      "text/plain": [
       "2445"
      ]
     },
     "execution_count": 211,
     "metadata": {},
     "output_type": "execute_result"
    }
   ],
   "source": [
    "rfe.ranking_.sum()"
   ]
  },
  {
   "cell_type": "markdown",
   "metadata": {},
   "source": [
    "Because the sum of feature importance is not 1, a new variable was created so that the feature importance would be relative, and the sum is 1"
   ]
  },
  {
   "cell_type": "code",
   "execution_count": 212,
   "metadata": {},
   "outputs": [],
   "source": [
    "rfe_rerank=rfe.ranking_/rfe.ranking_.sum()"
   ]
  },
  {
   "cell_type": "code",
   "execution_count": 213,
   "metadata": {},
   "outputs": [
    {
     "data": {
      "text/html": [
       "<div>\n",
       "<style scoped>\n",
       "    .dataframe tbody tr th:only-of-type {\n",
       "        vertical-align: middle;\n",
       "    }\n",
       "\n",
       "    .dataframe tbody tr th {\n",
       "        vertical-align: top;\n",
       "    }\n",
       "\n",
       "    .dataframe thead th {\n",
       "        text-align: right;\n",
       "    }\n",
       "</style>\n",
       "<table border=\"1\" class=\"dataframe\">\n",
       "  <thead>\n",
       "    <tr style=\"text-align: right;\">\n",
       "      <th></th>\n",
       "      <th>importance</th>\n",
       "    </tr>\n",
       "  </thead>\n",
       "  <tbody>\n",
       "    <tr>\n",
       "      <th>1</th>\n",
       "      <td>0.027812</td>\n",
       "    </tr>\n",
       "    <tr>\n",
       "      <th>2</th>\n",
       "      <td>0.027403</td>\n",
       "    </tr>\n",
       "    <tr>\n",
       "      <th>3</th>\n",
       "      <td>0.026994</td>\n",
       "    </tr>\n",
       "    <tr>\n",
       "      <th>4</th>\n",
       "      <td>0.026585</td>\n",
       "    </tr>\n",
       "    <tr>\n",
       "      <th>5</th>\n",
       "      <td>0.026176</td>\n",
       "    </tr>\n",
       "    <tr>\n",
       "      <th>...</th>\n",
       "      <td>...</td>\n",
       "    </tr>\n",
       "    <tr>\n",
       "      <th>65</th>\n",
       "      <td>0.000409</td>\n",
       "    </tr>\n",
       "    <tr>\n",
       "      <th>64</th>\n",
       "      <td>0.000409</td>\n",
       "    </tr>\n",
       "    <tr>\n",
       "      <th>62</th>\n",
       "      <td>0.000409</td>\n",
       "    </tr>\n",
       "    <tr>\n",
       "      <th>60</th>\n",
       "      <td>0.000409</td>\n",
       "    </tr>\n",
       "    <tr>\n",
       "      <th>167</th>\n",
       "      <td>0.000409</td>\n",
       "    </tr>\n",
       "  </tbody>\n",
       "</table>\n",
       "<p>167 rows × 1 columns</p>\n",
       "</div>"
      ],
      "text/plain": [
       "     importance\n",
       "1      0.027812\n",
       "2      0.027403\n",
       "3      0.026994\n",
       "4      0.026585\n",
       "5      0.026176\n",
       "..          ...\n",
       "65     0.000409\n",
       "64     0.000409\n",
       "62     0.000409\n",
       "60     0.000409\n",
       "167    0.000409\n",
       "\n",
       "[167 rows x 1 columns]"
      ]
     },
     "execution_count": 213,
     "metadata": {},
     "output_type": "execute_result"
    }
   ],
   "source": [
    "feature_importance= pd.DataFrame(rfe_rerank,\\\n",
    "                                   index = Xmac.columns,\\\n",
    "                                   columns=['importance']).sort_values('importance', ascending=False)\n",
    "feature_importance.round(6)"
   ]
  },
  {
   "cell_type": "code",
   "execution_count": 214,
   "metadata": {},
   "outputs": [
    {
     "data": {
      "text/plain": [
       "Text(0, 0.5, 'Number of Features')"
      ]
     },
     "execution_count": 214,
     "metadata": {},
     "output_type": "execute_result"
    },
    {
     "data": {
      "image/png": "[encoded data removed]",
      "text/plain": [
       "<Figure size 1728x864 with 1 Axes>"
      ]
     },
     "metadata": {},
     "output_type": "display_data"
    }
   ],
   "source": [
    "#identifying the relative importance of features within a fingerprint\n",
    "import seaborn as sb\n",
    "#histogram without feature selection\n",
    "sb.set(font_scale=2)\n",
    "f, axes = plt.subplots(1, 1, figsize=(24, 12))\n",
    "a= sb.distplot(feature_importance, kde = False, color = \"green\", axlabel=\"Feature Importance\")\n",
    "a.set_ylabel(\"Number of Features\")"
   ]
  },
  {
   "cell_type": "code",
   "execution_count": 215,
   "metadata": {},
   "outputs": [
    {
     "data": {
      "text/html": [
       "<div>\n",
       "<style scoped>\n",
       "    .dataframe tbody tr th:only-of-type {\n",
       "        vertical-align: middle;\n",
       "    }\n",
       "\n",
       "    .dataframe tbody tr th {\n",
       "        vertical-align: top;\n",
       "    }\n",
       "\n",
       "    .dataframe thead th {\n",
       "        text-align: right;\n",
       "    }\n",
       "</style>\n",
       "<table border=\"1\" class=\"dataframe\">\n",
       "  <thead>\n",
       "    <tr style=\"text-align: right;\">\n",
       "      <th></th>\n",
       "      <th>importance</th>\n",
       "    </tr>\n",
       "  </thead>\n",
       "  <tbody>\n",
       "    <tr>\n",
       "      <th>1</th>\n",
       "      <td>0.027812</td>\n",
       "    </tr>\n",
       "    <tr>\n",
       "      <th>2</th>\n",
       "      <td>0.027403</td>\n",
       "    </tr>\n",
       "    <tr>\n",
       "      <th>3</th>\n",
       "      <td>0.026994</td>\n",
       "    </tr>\n",
       "    <tr>\n",
       "      <th>4</th>\n",
       "      <td>0.026585</td>\n",
       "    </tr>\n",
       "    <tr>\n",
       "      <th>5</th>\n",
       "      <td>0.026176</td>\n",
       "    </tr>\n",
       "    <tr>\n",
       "      <th>...</th>\n",
       "      <td>...</td>\n",
       "    </tr>\n",
       "    <tr>\n",
       "      <th>137</th>\n",
       "      <td>0.000409</td>\n",
       "    </tr>\n",
       "    <tr>\n",
       "      <th>136</th>\n",
       "      <td>0.000409</td>\n",
       "    </tr>\n",
       "    <tr>\n",
       "      <th>134</th>\n",
       "      <td>0.000409</td>\n",
       "    </tr>\n",
       "    <tr>\n",
       "      <th>133</th>\n",
       "      <td>0.000409</td>\n",
       "    </tr>\n",
       "    <tr>\n",
       "      <th>132</th>\n",
       "      <td>0.000409</td>\n",
       "    </tr>\n",
       "  </tbody>\n",
       "</table>\n",
       "<p>100 rows × 1 columns</p>\n",
       "</div>"
      ],
      "text/plain": [
       "     importance\n",
       "1      0.027812\n",
       "2      0.027403\n",
       "3      0.026994\n",
       "4      0.026585\n",
       "5      0.026176\n",
       "..          ...\n",
       "137    0.000409\n",
       "136    0.000409\n",
       "134    0.000409\n",
       "133    0.000409\n",
       "132    0.000409\n",
       "\n",
       "[100 rows x 1 columns]"
      ]
     },
     "execution_count": 215,
     "metadata": {},
     "output_type": "execute_result"
    }
   ],
   "source": [
    "#select these indexes and get those respective features from X\n",
    "feature_sel=feature_importance[0:100]\n",
    "feature_sel"
   ]
  },
  {
   "cell_type": "code",
   "execution_count": 216,
   "metadata": {},
   "outputs": [
    {
     "name": "stdout",
     "output_type": "stream",
     "text": [
      "    1   2   3   4   5   6   7   8   36  11   ... 146 143 142 139 138 137 136  \\\n",
      "0     0   0   0   0   0   0   0   0   0   0  ...   1   1   0   1   1   1   0   \n",
      "1     0   0   0   0   0   0   0   0   0   0  ...   1   1   1   1   1   1   1   \n",
      "2     0   0   0   0   0   0   0   0   0   0  ...   0   1   0   0   0   0   0   \n",
      "3     0   0   0   0   0   0   0   0   0   0  ...   0   1   0   0   1   0   1   \n",
      "4     0   0   0   0   0   0   0   0   0   0  ...   1   0   1   0   1   1   0   \n",
      "..   ..  ..  ..  ..  ..  ..  ..  ..  ..  ..  ...  ..  ..  ..  ..  ..  ..  ..   \n",
      "161   0   0   0   0   0   0   0   0   0   0  ...   1   1   1   1   1   0   1   \n",
      "162   0   0   0   0   0   0   0   0   0   0  ...   1   1   0   1   1   0   1   \n",
      "163   0   0   0   0   0   0   0   0   0   0  ...   1   1   0   0   1   1   1   \n",
      "164   0   0   0   0   0   0   0   0   0   0  ...   1   1   0   1   1   1   1   \n",
      "165   0   0   0   0   0   0   0   0   0   0  ...   0   1   1   0   1   0   1   \n",
      "\n",
      "    134 133 132  \n",
      "0     0   1   0  \n",
      "1     0   1   1  \n",
      "2     0   0   1  \n",
      "3     1   1   1  \n",
      "4     0   1   1  \n",
      "..   ..  ..  ..  \n",
      "161   1   0   1  \n",
      "162   1   1   1  \n",
      "163   1   0   1  \n",
      "164   1   1   1  \n",
      "165   0   1   0  \n",
      "\n",
      "[166 rows x 100 columns]\n"
     ]
    }
   ],
   "source": [
    "print(Xmac[feature_sel.index])"
   ]
  },
  {
   "cell_type": "code",
   "execution_count": 217,
   "metadata": {},
   "outputs": [
    {
     "data": {
      "text/plain": [
       "Text(0, 0.5, 'Number of Features')"
      ]
     },
     "execution_count": 217,
     "metadata": {},
     "output_type": "execute_result"
    },
    {
     "data": {
      "image/png": "[encoded data removed]",
      "text/plain": [
       "<Figure size 1728x864 with 1 Axes>"
      ]
     },
     "metadata": {},
     "output_type": "display_data"
    }
   ],
   "source": [
    "#plotting histogram for features after feature selection\n",
    "import seaborn as sb\n",
    "\n",
    "f, axes = plt.subplots(1, 1, figsize=(24, 12))\n",
    "sb.distplot(feature_sel, kde = False, color = \"purple\",axlabel=\"Feature Importance\")\n",
    "axes.set_ylabel(\"Number of Features\")"
   ]
  },
  {
   "cell_type": "code",
   "execution_count": 218,
   "metadata": {},
   "outputs": [
    {
     "name": "stdout",
     "output_type": "stream",
     "text": [
      "The accuracy score for svr rfe model is: 76.65740977697769\n"
     ]
    }
   ],
   "source": [
    "#retrying this with SVR to see model performance after feature selection\n",
    "Xmac_rfe_train,Xmac_rfe_test,ymac_rfe_train,ymac_rfe_test=train_test_split(Xmac[feature_sel.index],y,test_size=0.3,random_state=0)\n",
    "svrfemodel= SVR(C=1.0, epsilon=0.2)\n",
    "svrfemodel.fit(Xmac_rfe_train,ymac_rfe_train)\n",
    "\n",
    "svrfe_predict=svrfemodel.predict(Xmac_rfe_test)\n",
    "#determining the accuracy\n",
    "svrferrors=abs(svrfe_predict-ymac_rfe_test)\n",
    "svrfemape=100*(svrferrors/ymac_rfe_test)\n",
    "print(\"The accuracy score for svr rfe model is:\",100-np.mean(svrfemape))"
   ]
  },
  {
   "cell_type": "markdown",
   "metadata": {},
   "source": [
    "## Feature selection (Using Random Forest)\n",
    "Too many features in a fingerprint. We need to reduce the features so that we can improve the accuracy of all the models"
   ]
  },
  {
   "cell_type": "code",
   "execution_count": 219,
   "metadata": {},
   "outputs": [],
   "source": [
    "import pandas as pd\n",
    "#with feature selection \n",
    "rf=RandomForestRegressor()\n",
    "feature_importance= pd.DataFrame(rfmodel.feature_importances_,\\\n",
    "                                   index = Xmac.columns,\\\n",
    "                                   columns=['importance']).sort_values('importance', ascending=False)"
   ]
  },
  {
   "cell_type": "code",
   "execution_count": 220,
   "metadata": {},
   "outputs": [
    {
     "data": {
      "image/png": "[encoded data removed]",
      "text/plain": [
       "<Figure size 1728x864 with 1 Axes>"
      ]
     },
     "metadata": {},
     "output_type": "display_data"
    }
   ],
   "source": [
    "#identifying the relative importance of features within a fingerprint\n",
    "import seaborn as sb\n",
    "#histogram without feature selection\n",
    "sb.set(font_scale=2)\n",
    "f, axes = plt.subplots(1, 1, figsize=(24, 12))\n",
    "a= sb.distplot(feature_importance, kde = False, color = \"blue\", axlabel=\"Feature Importance\")"
   ]
  },
  {
   "cell_type": "code",
   "execution_count": 221,
   "metadata": {},
   "outputs": [
    {
     "data": {
      "text/html": [
       "<div>\n",
       "<style scoped>\n",
       "    .dataframe tbody tr th:only-of-type {\n",
       "        vertical-align: middle;\n",
       "    }\n",
       "\n",
       "    .dataframe tbody tr th {\n",
       "        vertical-align: top;\n",
       "    }\n",
       "\n",
       "    .dataframe thead th {\n",
       "        text-align: right;\n",
       "    }\n",
       "</style>\n",
       "<table border=\"1\" class=\"dataframe\">\n",
       "  <thead>\n",
       "    <tr style=\"text-align: right;\">\n",
       "      <th></th>\n",
       "      <th>importance</th>\n",
       "    </tr>\n",
       "  </thead>\n",
       "  <tbody>\n",
       "    <tr>\n",
       "      <th>124</th>\n",
       "      <td>0.076430</td>\n",
       "    </tr>\n",
       "    <tr>\n",
       "      <th>42</th>\n",
       "      <td>0.051738</td>\n",
       "    </tr>\n",
       "    <tr>\n",
       "      <th>90</th>\n",
       "      <td>0.041526</td>\n",
       "    </tr>\n",
       "    <tr>\n",
       "      <th>73</th>\n",
       "      <td>0.041016</td>\n",
       "    </tr>\n",
       "    <tr>\n",
       "      <th>14</th>\n",
       "      <td>0.034366</td>\n",
       "    </tr>\n",
       "    <tr>\n",
       "      <th>...</th>\n",
       "      <td>...</td>\n",
       "    </tr>\n",
       "    <tr>\n",
       "      <th>89</th>\n",
       "      <td>0.002629</td>\n",
       "    </tr>\n",
       "    <tr>\n",
       "      <th>103</th>\n",
       "      <td>0.002537</td>\n",
       "    </tr>\n",
       "    <tr>\n",
       "      <th>37</th>\n",
       "      <td>0.002365</td>\n",
       "    </tr>\n",
       "    <tr>\n",
       "      <th>79</th>\n",
       "      <td>0.002353</td>\n",
       "    </tr>\n",
       "    <tr>\n",
       "      <th>129</th>\n",
       "      <td>0.002263</td>\n",
       "    </tr>\n",
       "  </tbody>\n",
       "</table>\n",
       "<p>100 rows × 1 columns</p>\n",
       "</div>"
      ],
      "text/plain": [
       "     importance\n",
       "124    0.076430\n",
       "42     0.051738\n",
       "90     0.041526\n",
       "73     0.041016\n",
       "14     0.034366\n",
       "..          ...\n",
       "89     0.002629\n",
       "103    0.002537\n",
       "37     0.002365\n",
       "79     0.002353\n",
       "129    0.002263\n",
       "\n",
       "[100 rows x 1 columns]"
      ]
     },
     "execution_count": 221,
     "metadata": {},
     "output_type": "execute_result"
    }
   ],
   "source": [
    "#select these indexes and get those respective features from X\n",
    "maccs_features=feature_importance[0:100]\n",
    "maccs_features"
   ]
  },
  {
   "cell_type": "code",
   "execution_count": 222,
   "metadata": {},
   "outputs": [
    {
     "name": "stdout",
     "output_type": "stream",
     "text": [
      "    124 42  90  73  14  137 132 54  117 141  ... 108 138 44  152 147 89  103  \\\n",
      "0     1   0   1   1   0   1   0   0   0   1  ...   0   1   0   0   1   0   0   \n",
      "1     1   0   1   1   0   1   1   0   1   1  ...   0   1   0   1   1   0   0   \n",
      "2     0   0   0   0   0   0   1   0   0   0  ...   0   0   0   1   0   0   0   \n",
      "3     0   0   1   1   0   0   1   1   0   1  ...   0   1   0   1   1   0   0   \n",
      "4     1   0   1   1   0   1   1   0   1   1  ...   0   1   0   1   1   0   0   \n",
      "..   ..  ..  ..  ..  ..  ..  ..  ..  ..  ..  ...  ..  ..  ..  ..  ..  ..  ..   \n",
      "161   0   0   0   0   0   0   1   0   0   0  ...   0   1   0   1   0   0   0   \n",
      "162   0   0   0   0   0   0   1   0   0   0  ...   0   1   0   1   0   0   0   \n",
      "163   0   0   0   0   0   1   1   1   0   0  ...   0   1   0   1   1   1   1   \n",
      "164   1   0   0   0   0   1   1   1   0   1  ...   0   1   0   1   1   0   0   \n",
      "165   1   0   0   0   0   0   0   0   0   0  ...   1   1   0   0   0   1   0   \n",
      "\n",
      "    37  79  129  \n",
      "0     0   0   1  \n",
      "1     0   0   1  \n",
      "2     0   0   0  \n",
      "3     0   0   0  \n",
      "4     0   0   0  \n",
      "..   ..  ..  ..  \n",
      "161   0   0   1  \n",
      "162   0   0   1  \n",
      "163   0   0   0  \n",
      "164   0   0   1  \n",
      "165   1   1   0  \n",
      "\n",
      "[166 rows x 100 columns]\n"
     ]
    }
   ],
   "source": [
    "#seeing the top 100 features with higher importance\n",
    "print(Xmac[maccs_features.index])"
   ]
  },
  {
   "cell_type": "code",
   "execution_count": 223,
   "metadata": {},
   "outputs": [
    {
     "data": {
      "text/plain": [
       "<matplotlib.axes._subplots.AxesSubplot at 0x1a27ef6810>"
      ]
     },
     "execution_count": 223,
     "metadata": {},
     "output_type": "execute_result"
    },
    {
     "data": {
      "image/png": "[encoded data removed]",
      "text/plain": [
       "<Figure size 1728x864 with 1 Axes>"
      ]
     },
     "metadata": {},
     "output_type": "display_data"
    }
   ],
   "source": [
    "#plotting histogram for features after feature selection\n",
    "import seaborn as sb\n",
    "\n",
    "f, axes = plt.subplots(1, 1, figsize=(24, 12))\n",
    "sb.distplot(maccs_features, kde = False, color = \"red\",axlabel=\"Feature Importance\")"
   ]
  },
  {
   "cell_type": "markdown",
   "metadata": {},
   "source": [
    "### Random forest model (after feature selection)"
   ]
  },
  {
   "cell_type": "code",
   "execution_count": 224,
   "metadata": {},
   "outputs": [
    {
     "name": "stdout",
     "output_type": "stream",
     "text": [
      "The accuracy score for random forest model is 54.895914108670524\n"
     ]
    }
   ],
   "source": [
    "Xmac_feat_train,Xmac_feat_test,ymac_feat_train,ymac_feat_test=train_test_split(Xmac[maccs_features.index],y,test_size=0.3,random_state=0)\n",
    "newrfmodel= RandomForestRegressor(n_estimators=100)\n",
    "newrfmodel.fit(Xmac_feat_train,ymac_feat_train)\n",
    "newrf_predict=newrfmodel.predict(Xmac_feat_test)\n",
    "\n",
    "#determining the accuracy\n",
    "newrferrors=abs(newrf_predict-ymac_feat_test)\n",
    "newrfmape=100*(newrferrors/ymac_feat_test)\n",
    "print(\"The accuracy score for random forest model is\",100-np.mean(newrfmape))"
   ]
  },
  {
   "cell_type": "markdown",
   "metadata": {},
   "source": [
    "## After feature selection\n",
    "Testing if the model performs better after feature selection"
   ]
  },
  {
   "cell_type": "markdown",
   "metadata": {},
   "source": [
    "__Summary of data__ (After feature selection)\n",
    "<br>\n",
    "The accuracy scores for the various models are as follows:<br>\n",
    "Linear regression: -174.2361862455151 <br>\n",
    "Random forest: 54.895914108670524 <br>\n",
    "SVR: 76.65740977697769 <br>"
   ]
  }
 ],
 "metadata": {
  "kernelspec": {
   "display_name": "Python 3",
   "language": "python",
   "name": "python3"
  },
  "language_info": {
   "codemirror_mode": {
    "name": "ipython",
    "version": 3
   },
   "file_extension": ".py",
   "mimetype": "text/x-python",
   "name": "python",
   "nbconvert_exporter": "python",
   "pygments_lexer": "ipython3",
   "version": "3.7.7"
  }
 },
 "nbformat": 4,
 "nbformat_minor": 2
}
