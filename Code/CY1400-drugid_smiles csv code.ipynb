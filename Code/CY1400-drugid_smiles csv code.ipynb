{
 "cells": [
  {
   "cell_type": "code",
   "execution_count": 110,
   "metadata": {},
   "outputs": [],
   "source": [
    "import pandas as pd\n",
    "import re"
   ]
  },
  {
   "cell_type": "code",
   "execution_count": 111,
   "metadata": {},
   "outputs": [
    {
     "name": "stdout",
     "output_type": "stream",
     "text": [
      "Index(['pubchem', 'MolecularFormula', 'MolecularWeight', 'CanonicalSMILES'], dtype='object')\n",
      "Index(['drug_id', 'drug_name', 'synonyms', 'pathway_name', 'targets',\n",
      "       'pubchem'],\n",
      "      dtype='object')\n"
     ]
    }
   ],
   "source": [
    "smiles= pd.read_csv(\"/Users/floralam/Downloads/compounds_pubchem.csv\", names=['pubchem', 'MolecularFormula', 'MolecularWeight', 'CanonicalSMILES'])\n",
    "drug= pd.read_csv(\"/Users/floralam/Downloads/compound_data6dec2019.csv\")\n",
    "print(smiles.columns)\n",
    "print(drug.columns)"
   ]
  },
  {
   "cell_type": "code",
   "execution_count": null,
   "metadata": {},
   "outputs": [],
   "source": []
  },
  {
   "cell_type": "code",
   "execution_count": 83,
   "metadata": {},
   "outputs": [],
   "source": [
    "newfile = pd.merge(drug,smiles)"
   ]
  },
  {
   "cell_type": "code",
   "execution_count": 84,
   "metadata": {},
   "outputs": [
    {
     "name": "stdout",
     "output_type": "stream",
     "text": [
      "Done\n"
     ]
    }
   ],
   "source": [
    "newfile.to_csv('drug_smiles.csv', index= False)\n",
    "print('Done')"
   ]
  },
  {
   "cell_type": "code",
   "execution_count": 85,
   "metadata": {},
   "outputs": [
    {
     "name": "stdout",
     "output_type": "stream",
     "text": [
      "     drug_id                                    CanonicalSMILES\n",
      "0       1559  CCNC(=O)C1=C(C(=C2C=C(C(=CC2=O)O)C(C)C)ON1)C3=...\n",
      "1       1058  CS(=O)(=O)N1CCN(CC1)CC2=CC3=C(S2)C(=NC(=N3)C4=...\n",
      "2       1088  CCC1=C2CN3C(=CC4=C(C3=O)COC(=O)C4(CC)O)C2=NC5=...\n",
      "3       1549  CNC(=O)CN1CCC(CC1)OC2=C(C=C3C(=C2)C(=NC=N3)NC4...\n",
      "4       1073                               C1=C(C(=O)NC(=O)N1)F\n",
      "5       1050  COC1=C(C=C2C(=C1)C(=NC=N2)NC3=CC=C(C=C3)NC(=O)...\n",
      "6       1086  CCC1C(=O)N(C2=CN=C(N=C2N1C3CCCC3)NC4=C(C=C(C=C...\n",
      "7       1129  CCC1=CN=CN=C1N2CCN(CC2)CC3=NC4=C(N3)C=C(C=C4)C...\n",
      "8       1089                 C1CCC(C(C1)N)N.C(=O)(C(=O)O)O.[Pt]\n",
      "9       1194  CC1=NC(=CC=C1)C2=C(N=C(N2)C(C)(C)C)C3=CC4=C(C=...\n",
      "10      1940  COC1=CC=C(C=C1)N2C(=NN=C2SCCCN3C(=O)C4=CC=CC5=...\n",
      "11      2043   CC(=CC(=O)NC1=CC=CC=C1C(=O)O)C2=CC3=CC=CC=C3C=C2\n",
      "12      2045  CC(C1=C(N=C2C=C(C=CC2=C1)F)C3=CC=CC=N3)NC4=NC=...\n",
      "13      1084                       C1=CC=C(C=C1)N=C(NC#N)[N]C#N\n",
      "14      1511  CC1C(C(CC(O1)OC2CC(CC3=C2C(=C4C(=C3O)C(=O)C5=C...\n",
      "15      1557  CC(C(=O)NC(C1CCCCC1)C(=O)N2CCCC2C3=NC(=CS3)C(=...\n",
      "16      1933  CC(=O)C1=CC(=C(S1)SC2=C(C=C(C=C2)F)F)[N+](=O)[O-]\n",
      "17      1855       C=CC(=O)N1CCN(CC1)C(=O)CNC2=CC(=C(C=C2O)Cl)I\n",
      "18      1919  CN1C=C(C2=CC=CC=C21)C3=NC(=NC=C3)NC4=C(C=C(C(=...\n",
      "19      1922  CC1=CC2=C(N1)C=CC(=C2F)OC3=NC=NC4=CC(=C(C=C43)...\n",
      "20      1613  CC(C)S(=O)(=O)C1=CC=C(C=C1)C2=CN=C(C(=N2)C3=CC...\n",
      "21      1560  CC1=C(SC(=N1)NC(=O)N2CCCC2C(=O)N)C3=CC(=NC=C3)...\n",
      "22      1598  CC1=CC(=CN=C1C2=CC(=NC=C2)C)CC(=O)NC3=NC=C(C=C...\n",
      "23      1017  C1CC1C(=O)N2CCN(CC2)C(=O)C3=C(C=CC(=C3)CC4=NNC...\n",
      "24      1046  C1=CC=C(C(=C1)C2=CC3=C(C4=C(N3)C=CC(=C4)O)C5=C...\n",
      "25      1053  C1CC(C1)(C2=CC=C(C=C2)C3=C(C=C4C(=N3)C=CN5C4=N...\n",
      "26      1168  COCCOC1=C(C=C2C(=C1)C(=NC=N2)NC3=CC=CC(=C3)C#C...\n",
      "27      1180  CCC1=C2N=C(C=C(N2N=C1)NCC3=C[N+](=CC=C3)[O-])N...\n",
      "28      1237  CC(C)N(CCCNC(=O)NC1=CC=C(C=C1)C(C)(C)C)CC2C(C(...\n",
      "29      1249           CC1=CC2=C(C=C1)N=C(C3=NC=C(N23)C)NCCN.Cl\n",
      "..       ...                                                ...\n",
      "141     1060  C1=CC(=C(C=C1I)F)NC2=C(C=CC(=C2F)F)C(=O)NOCC(CO)O\n",
      "142     1928  CCN1C=C(C2=C(C1=O)C=C(S2)C(=NC3CCS(=O)(=O)CC3)...\n",
      "143     1939  C1=CC=C2C(=C1)C(=CC(=C2O)SCC(=O)O)NS(=O)(=O)C3...\n",
      "144     1804  CC(=O)OC1=CC=C(C=C1)C2(C3=CC=CC=C3NC2=O)C4=CC=...\n",
      "145     1818  CCC1(CC2CC(C3=C(CCN(C2)C1)C4=CC=CC=C4N3)(C5=C(...\n",
      "146     1849  CC1=CC2=C(C(=C(C=C2C(=C1C3=C(C4=CC(=C(C(=C4C=C...\n",
      "147     1912  CN1C(=C(C=N1)Cl)C2=C(SC(=C2)C(=O)NC(CC3=CC(=CC...\n",
      "148     1013  CC1=C(C=C(C=C1)C(=O)NC2=CC(=CC(=C2)C(F)(F)F)N3...\n",
      "149     1051  COC1=C(C(=CC=C1)F)C2=NCC3=CN=C(N=C3C4=C2C=C(C=...\n",
      "150     1080  CC1=C2C(C(=O)C3(C(CC4C(C3C(C(C2(C)C)(CC1OC(=O)...\n",
      "151     1561  CC1=NN(C(=N1)C2=CN3CCOC4=C(C3=N2)C=CC(=C4)C5=C...\n",
      "152     1025  CN1C=C(C2=CC=CC=C21)C3=C(C(=O)NC3=O)C4=C(C=C(C...\n",
      "153     1030  C1COCCN1C2=CC(=O)C=C(O2)C3=C4C(=CC=C3)SC5=CC=C...\n",
      "154     1042  CC1=CC=C(C=C1)N2C(=CC(=N2)C(C)(C)C)NC(=O)NC3=C...\n",
      "155     1179  CC(C)(C1=NC(=CC=C1)N2C3=NC(=NC=C3C(=O)N2CC=C)N...\n",
      "156     1375                      CN1C(=O)N2C=NC(=C2N=N1)C(=O)N\n",
      "157     1003  CCC1(C2=C(COC1=O)C(=O)N3CC4=CC5=CC=CC=C5N=C4C3...\n",
      "158     2040  COC1=CC2=C(C=CN=C2C=C1OCCCN3CCOCC3)OC4=C(C=C(C...\n",
      "159     1048                    C1=CC(=CC=C1C=C2C(=O)N=C(S2)N)O\n",
      "160     1091  CC1=CC(=CC2=C1NC(=C3C(=CC=NC3=O)NCC(C4=CC(=CC=...\n",
      "161     1093  CCC1=CC(=C(C=C1N2CCC(CC2)N3CCN(CC3)S(=O)(=O)C)...\n",
      "162     1512                          C1CNP(=O)(OC1)N(CCCl)CCCl\n",
      "163     1930  C1=CC(=CC(=C1)NC(=O)C2=C(C(=CC=C2)O)O)NC(=O)C3...\n",
      "164     1248  C1CN(CCC1CCCCNC(=O)C=CC2=CN=CC=C2)C(=O)C3=CC=C...\n",
      "165     1624  CCNC(=O)CC1C2=NN=C(N2C3=C(C=C(C=C3)OC)C(=N1)C4...\n",
      "166     1627  CCCC1=C(C(=O)NC(=C1)C)CNC(=O)C2=C3C=NN(C3=CC(=...\n",
      "167     1629  CC1=CN=C(N=C1NCC2=CC=C(C=C2)N3C=CN=N3)C4=CC=CC...\n",
      "168     1799  C=CC(=O)N1CCCC(C1)N2C3=NC=NC(=C3C(=N2)C4=CC=C(...\n",
      "169     1835  CC(=CC(=O)OC1CC2=CC(CC3(C(O3)C4C1C(=C)C(=O)O4)...\n",
      "170     1915  CC1CN(CCN1C(=O)OC2=C(C=C3C(=C2)C(=NC=N3)NC4=C(...\n",
      "\n",
      "[171 rows x 2 columns]\n"
     ]
    }
   ],
   "source": [
    "df = pd.read_csv(\"/Users/floralam/drug_smiles.csv\", usecols = ['drug_id','CanonicalSMILES'])\n",
    "print(df)"
   ]
  },
  {
   "cell_type": "code",
   "execution_count": 86,
   "metadata": {},
   "outputs": [
    {
     "name": "stdout",
     "output_type": "stream",
     "text": [
      "Done\n"
     ]
    }
   ],
   "source": [
    "df.to_csv('drugid_smiles.csv', index= False)\n",
    "print('Done')"
   ]
  },
  {
   "cell_type": "code",
   "execution_count": 90,
   "metadata": {},
   "outputs": [
    {
     "name": "stdout",
     "output_type": "stream",
     "text": [
      "Index(['COSMIC_ID', 'CELL_LINE_NAME', 'TCGA_DESC', 'drug_id', 'LN_IC50',\n",
      "       'Z_SCORE'],\n",
      "      dtype='object')\n"
     ]
    }
   ],
   "source": [
    "drugdata = pd.read_excel(\"/Users/floralam/DrugData.xls\", names=['COSMIC_ID', 'CELL_LINE_NAME', 'TCGA_DESC', 'drug_id', 'LN_IC50',\n",
    "       'Z_SCORE'])\n",
    "print(drugdata.columns)"
   ]
  },
  {
   "cell_type": "code",
   "execution_count": 98,
   "metadata": {},
   "outputs": [
    {
     "name": "stdout",
     "output_type": "stream",
     "text": [
      "Done\n"
     ]
    }
   ],
   "source": [
    "file = pd.merge(df,drugdata).drop(['COSMIC_ID','CELL_LINE_NAME', 'TCGA_DESC', 'LN_IC50','Z_SCORE'], axis=1)\n",
    "file.to_csv('drugid_smiles_brca.csv', index= False)\n",
    "print('Done')"
   ]
  },
  {
   "cell_type": "code",
   "execution_count": null,
   "metadata": {},
   "outputs": [],
   "source": []
  }
 ],
 "metadata": {
  "kernelspec": {
   "display_name": "Python 3",
   "language": "python",
   "name": "python3"
  },
  "language_info": {
   "codemirror_mode": {
    "name": "ipython",
    "version": 3
   },
   "file_extension": ".py",
   "mimetype": "text/x-python",
   "name": "python",
   "nbconvert_exporter": "python",
   "pygments_lexer": "ipython3",
   "version": "3.7.7"
  }
 },
 "nbformat": 4,
 "nbformat_minor": 2
}
